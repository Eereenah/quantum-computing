{
  "nbformat": 4,
  "nbformat_minor": 0,
  "metadata": {
    "kernelspec": {
      "display_name": "Python 3",
      "language": "python",
      "name": "python3"
    },
    "language_info": {
      "codemirror_mode": {
        "name": "ipython",
        "version": 3
      },
      "file_extension": ".py",
      "mimetype": "text/x-python",
      "name": "python",
      "nbconvert_exporter": "python",
      "pygments_lexer": "ipython3",
      "version": "3.7.6"
    },
    "colab": {
      "name": "Tirosyan_Irina_HW1",
      "provenance": [],
      "collapsed_sections": [],
      "include_colab_link": true
    }
  },
  "cells": [
    {
      "cell_type": "markdown",
      "metadata": {
        "id": "view-in-github",
        "colab_type": "text"
      },
      "source": [
        "<a href=\"https://colab.research.google.com/github/Eereenah/quantum-computing/blob/master/Homework1.ipynb\" target=\"_parent\"><img src=\"https://colab.research.google.com/assets/colab-badge.svg\" alt=\"Open In Colab\"/></a>"
      ]
    },
    {
      "cell_type": "markdown",
      "metadata": {
        "id": "gw0CK-wc4g9R",
        "colab_type": "text"
      },
      "source": [
        "# Classical probability distributions\n",
        "\n",
        "**Exercise 1** (1 point). Recall that in classical con flipping, get heads with probability $P(X=0) = p_0$ and tails with $P(X=1) = p_1$ for each toss of the coin, where $p_i\\geq 0$ for all $i$, and the probabilities sum to one: $\\sum_i p_i = 1$. Create a sample with a 1000 data points using numpy, with a probability of getting tails being 0.3. This is the parameter that the `binomial` function takes. Store the outcome in an array called `x_data`."
      ]
    },
    {
      "cell_type": "code",
      "metadata": {
        "id": "odNAylRlAe-D",
        "colab_type": "code",
        "colab": {}
      },
      "source": [
        "import numpy as np"
      ],
      "execution_count": 0,
      "outputs": []
    },
    {
      "cell_type": "code",
      "metadata": {
        "ExecuteTime": {
          "end_time": "2018-11-19T19:47:57.736024Z",
          "start_time": "2018-11-19T19:47:57.668891Z"
        },
        "id": "BiOcy3a34g9T",
        "colab_type": "code",
        "colab": {}
      },
      "source": [
        "n_samples = 1000\n",
        "#\n",
        "# YOUR CODE HERE\n",
        "p_1 = 0.3\n",
        "x_data = np.random.binomial(1, p_1, (n_samples))"
      ],
      "execution_count": 0,
      "outputs": []
    },
    {
      "cell_type": "code",
      "metadata": {
        "nbgrader": {
          "grade": true,
          "grade_id": "score1",
          "locked": true,
          "points": "1",
          "solution": false
        },
        "id": "0toAwKql4g9X",
        "colab_type": "code",
        "colab": {}
      },
      "source": [
        "assert type(x_data) is np.ndarray\n",
        "assert abs(p_1-x_data.sum()/n_samples) < 0.05"
      ],
      "execution_count": 0,
      "outputs": []
    },
    {
      "cell_type": "markdown",
      "metadata": {
        "id": "6h2XpzgF4g9c",
        "colab_type": "text"
      },
      "source": [
        "**Exercise 2** (1 point). As you recall, we may also write the probability distribution as a stochastic vector $\\vec{p} = \\begin{bmatrix} p_0 \\\\ p_1 \\end{bmatrix}$. The normalization constraint on the probability distribution says that the norm of the vector is restricted to one in the $l_1$ norm. In other words, $||\\vec{p}||_1 = \\sum_i |p_i| = 1$. This would be the unit circle in the $l_1$ norm, but since $p_i\\geq 0$, we are restricted to a quarter of the unit circle, just as we plotted above. Write a function that checks whether a given two-dimensional vector is a stochastic vector. That is, it should return `True` if all elements are positive and the 1-norm is approximately one, and it should return `False` otherwise. The input of the function is a numpy array."
      ]
    },
    {
      "cell_type": "code",
      "metadata": {
        "ExecuteTime": {
          "end_time": "2018-11-19T19:47:58.267761Z",
          "start_time": "2018-11-19T19:47:58.257885Z"
        },
        "id": "wGa7DHpa4g9d",
        "colab_type": "code",
        "colab": {}
      },
      "source": [
        "def is_stochastic_vector(p: np.array):\n",
        "    #\n",
        "    # YOUR CODE HERE\n",
        "    if np.isclose(np.linalg.norm(p, ord = 1), 1):\n",
        "        return True\n",
        "    return False"
      ],
      "execution_count": 0,
      "outputs": []
    },
    {
      "cell_type": "code",
      "metadata": {
        "nbgrader": {
          "grade": true,
          "grade_id": "score2",
          "locked": true,
          "points": "1",
          "solution": false
        },
        "id": "buZpTclj4g9f",
        "colab_type": "code",
        "colab": {}
      },
      "source": [
        "assert is_stochastic_vector(np.array([0.2, 0.3])) is False\n",
        "assert is_stochastic_vector(np.array([-0.2, 0.7])) is False\n",
        "assert is_stochastic_vector(np.array([0.2, 0.8])) is True"
      ],
      "execution_count": 0,
      "outputs": []
    },
    {
      "cell_type": "markdown",
      "metadata": {
        "id": "N9hmUis74g9i",
        "colab_type": "text"
      },
      "source": [
        "**Exercise 3** (1 point). The probability of heads is just the first element in the $\\vec{p}$ and we can use a projection to extract it. For the first element of the stochastic vector, the projection is described by the matrix $\\begin{bmatrix} 1 & 0\\\\0 & 0\\end{bmatrix}$. Write a function that performs this projection on a two-element vector described by a numpy array. Your output after the projection is also a two-element vector."
      ]
    },
    {
      "cell_type": "code",
      "metadata": {
        "ExecuteTime": {
          "end_time": "2018-11-19T19:47:58.296678Z",
          "start_time": "2018-11-19T19:47:58.272116Z"
        },
        "id": "gAhTu7sy4g9j",
        "colab_type": "code",
        "colab": {}
      },
      "source": [
        "def project_to_first_basis_vector(p: np.array):\n",
        "    #\n",
        "    # YOUR CODE HERE\n",
        "  return np.array([[1, 0], [0, 0]]).dot(p)"
      ],
      "execution_count": 0,
      "outputs": []
    },
    {
      "cell_type": "code",
      "metadata": {
        "nbgrader": {
          "grade": true,
          "grade_id": "score3",
          "locked": true,
          "points": "1",
          "solution": false
        },
        "id": "fQXsknBI4g9m",
        "colab_type": "code",
        "colab": {}
      },
      "source": [
        "assert np.alltrue(project_to_first_basis_vector(np.array([0.2, 0.3])) == np.array([0.2, 0.])) == True\n",
        "assert np.alltrue(project_to_first_basis_vector(np.array([1., 0.])) == np.array([1., 0.])) == True"
      ],
      "execution_count": 0,
      "outputs": []
    },
    {
      "cell_type": "markdown",
      "metadata": {
        "id": "GWH_lLEn4g9p",
        "colab_type": "text"
      },
      "source": [
        "**Exercise 4** (1 point). The projection operators introduce some linear algebra to working with probability distributions. We can also use linear algebra to transform one probability distribution to another. A left *stochastic matrix* will map stochastic vectors to stochastic vectors when multiplied from the left: its columns add up to one. Write a function that takes a matrix and a vector as input arguments (both are numpy arrays), checks whether the vector is a stochastic vector and whether the matrix is left stochastic. If they are, return the matrix applied to the vector, otherwise raise a `ValueError`. You can call the function `is_stochastic_vector` that you defined above."
      ]
    },
    {
      "cell_type": "code",
      "metadata": {
        "id": "LCU9so0H4g9q",
        "colab_type": "code",
        "colab": {}
      },
      "source": [
        "def apply_stochastic_matrix(p: np.array, M: np.array):\n",
        "    \"\"\"Apply the matrix M to the vector p, but only if\n",
        "    p is a stochastic vector and M is a left stochastic\n",
        "    matrix. Otherwise raise a ValueError.\n",
        "    \"\"\"\n",
        "    #\n",
        "    # YOUR CODE HERE\n",
        "    if is_stochastic_vector(M.dot(p)) and is_stochastic_vector(p):\n",
        "      return M.dot(p)\n",
        "    else:\n",
        "      raise ValueError\n"
      ],
      "execution_count": 0,
      "outputs": []
    },
    {
      "cell_type": "code",
      "metadata": {
        "nbgrader": {
          "grade": true,
          "grade_id": "score4",
          "locked": true,
          "points": "1",
          "solution": false
        },
        "id": "0TpYuHBj4g9s",
        "colab_type": "code",
        "colab": {}
      },
      "source": [
        "p = np.array([[.5], [.5]])\n",
        "M = np.array([[0.7, 0.6], [0.3, 0.4]])\n",
        "assert abs(np.linalg.norm(apply_stochastic_matrix(p, M), ord=1)-1) < 0.01\n",
        "M = np.array([[0.7, 0.6], [0.3, 0.5]])\n",
        "try:\n",
        "    apply_stochastic_matrix(p, M)\n",
        "except ValueError:\n",
        "    pass\n",
        "else:\n",
        "    raise AssertionError(\"did not raise\")"
      ],
      "execution_count": 0,
      "outputs": []
    },
    {
      "cell_type": "markdown",
      "metadata": {
        "id": "NZZ7au964g9v",
        "colab_type": "text"
      },
      "source": [
        "**Exercise 5** (1 point). Create a left stochastic matrix in a variable called `M` that transforms the uniform distribution $\\vec{p}= \\begin{bmatrix} 0.5 \\\\ 0.5 \\end{bmatrix}$ to $\\begin{bmatrix} 0.6 \\\\ 0.4 \\end{bmatrix}$. `M` should be a two-dimensional numpy array."
      ]
    },
    {
      "cell_type": "markdown",
      "metadata": {
        "id": "8FYEW498mNNm",
        "colab_type": "text"
      },
      "source": [
        "The resulting matrix should have the form $M= \\begin{bmatrix} a \\ 0 \\\\ 0 \\ b \\end{bmatrix}$ and we'll have $a \\cdot 0.5 = 0.6$ and $b \\cdot 0.5 = 0.4$\n",
        "\n"
      ]
    },
    {
      "cell_type": "code",
      "metadata": {
        "id": "VnRVrBuF4g9w",
        "colab_type": "code",
        "colab": {}
      },
      "source": [
        "#\n",
        "# YOUR CODE HERE\n",
        "M = np.array([[1.2, 0], [0, 0.8]])"
      ],
      "execution_count": 0,
      "outputs": []
    },
    {
      "cell_type": "code",
      "metadata": {
        "ExecuteTime": {
          "end_time": "2018-11-19T19:47:58.829415Z",
          "start_time": "2018-11-19T19:47:58.337314Z"
        },
        "nbgrader": {
          "grade": true,
          "grade_id": "score5",
          "locked": true,
          "points": "1",
          "solution": false
        },
        "id": "ARP9MWa04g9y",
        "colab_type": "code",
        "colab": {}
      },
      "source": [
        "assert np.alltrue(M.dot(np.array([0.5, 0.5])) == np.array([0.6, 0.4])) == True"
      ],
      "execution_count": 0,
      "outputs": []
    },
    {
      "cell_type": "markdown",
      "metadata": {
        "id": "Oay8Hoh04g90",
        "colab_type": "text"
      },
      "source": [
        "**Exercise 6** (1 point). Calculate the entropy of this distribution $\\begin{bmatrix} 0.6 \\\\ 0.4 \\end{bmatrix}$ in a variable called `H`."
      ]
    },
    {
      "cell_type": "code",
      "metadata": {
        "id": "yBjON5JM4g91",
        "colab_type": "code",
        "colab": {}
      },
      "source": [
        "#\n",
        "# YOUR CODE HERE\n",
        "H = -(0.6*np.log2(0.6) + 0.4*np.log2(0.4))\n"
      ],
      "execution_count": 0,
      "outputs": []
    },
    {
      "cell_type": "markdown",
      "metadata": {
        "id": "cizC1Qlq4g94",
        "colab_type": "text"
      },
      "source": [
        "# Quantum states\n",
        "\n",
        "**Exercise 7** (1 point). A quantum state is a probability distribution. A qubit state is a distribution over two values, similar to the coin flipping in the classical state. A major difference is that the entries are complex numbers and the normalization is in the $l_2$ norm. Create a function similar to `is_stochastic_vector` that checks whether a vector is a valid quantum state. The input is a numpy array and the output should be boolean."
      ]
    },
    {
      "cell_type": "code",
      "metadata": {
        "id": "ntiYVFUJ4g96",
        "colab_type": "code",
        "colab": {}
      },
      "source": [
        "def is_quantum_state(psi: np.array):\n",
        "    #\n",
        "    # YOUR CODE HERE\n",
        "  if np.isclose(np.linalg.norm(psi, ord=2), 1):\n",
        "      return True\n",
        "  return False"
      ],
      "execution_count": 0,
      "outputs": []
    },
    {
      "cell_type": "code",
      "metadata": {
        "nbgrader": {
          "grade": true,
          "grade_id": "score7",
          "locked": true,
          "points": "1",
          "solution": false
        },
        "id": "Fi291TwK4g99",
        "colab_type": "code",
        "colab": {}
      },
      "source": [
        "assert is_quantum_state(np.array([1/np.sqrt(2), 1/np.sqrt(2)]))\n",
        "assert is_quantum_state(np.array([-1/np.sqrt(2), 1/np.sqrt(2)]))\n",
        "assert is_quantum_state(np.array([-1/3, 2*np.sqrt(2)/3]))\n",
        "assert is_quantum_state(np.array([0.2, 0.8])) is False"
      ],
      "execution_count": 0,
      "outputs": []
    },
    {
      "cell_type": "markdown",
      "metadata": {
        "id": "EY0aVY344g9_",
        "colab_type": "text"
      },
      "source": [
        "**Exercise 8** (1 point). While working with numpy arrays is convenient, it is better to use a framework designed for quantum computing, since it often allows us to execute a circuit directly on a quantum computer. In your preferred framework, implement a circuit of a single qubit with no operation on it. You should create it in an object called `circuit`. Do not add a measurement. The evaluation will automatically branch according to which framework you chose."
      ]
    },
    {
      "cell_type": "code",
      "metadata": {
        "id": "3W-94f0Ds84H",
        "colab_type": "code",
        "colab": {}
      },
      "source": [
        "! pip install qiskit"
      ],
      "execution_count": 0,
      "outputs": []
    },
    {
      "cell_type": "code",
      "metadata": {
        "id": "C5TVD3bvtUW4",
        "colab_type": "code",
        "colab": {}
      },
      "source": [
        "from assignment_helper import *"
      ],
      "execution_count": 0,
      "outputs": []
    },
    {
      "cell_type": "code",
      "metadata": {
        "ExecuteTime": {
          "end_time": "2018-11-19T19:47:59.562010Z",
          "start_time": "2018-11-19T19:47:58.831645Z"
        },
        "id": "P9QXy4oP4g-A",
        "colab_type": "code",
        "colab": {}
      },
      "source": [
        "#\n",
        "# YOUR CODE HERE\n",
        "q = QuantumRegister(1)\n",
        "c = ClassicalRegister(1)\n",
        "circuit = QuantumCircuit(q, c)"
      ],
      "execution_count": 0,
      "outputs": []
    },
    {
      "cell_type": "code",
      "metadata": {
        "nbgrader": {
          "grade": true,
          "grade_id": "score8",
          "locked": true,
          "points": "1",
          "solution": false
        },
        "id": "JPYto_x74g-C",
        "colab_type": "code",
        "colab": {}
      },
      "source": [
        "amplitudes = get_amplitudes(circuit)\n",
        "assert abs(amplitudes[0]-1.0) < 0.01"
      ],
      "execution_count": 0,
      "outputs": []
    },
    {
      "cell_type": "markdown",
      "metadata": {
        "id": "dT_QmHuO4g-E",
        "colab_type": "text"
      },
      "source": [
        "**Exercise 9** (1 point). In the execution branching above, you see that we use the wavefunction simulator. This allows us to use the probability amplitudes as usual numpy arrays, as you can see above. If we ran the circuit on an actual quantum device, we would not be able to inspect the wavefunction, but we would have to rely on the statistics of measurements to understand what is happening in the circuit.\n",
        "\n",
        "Create a circuit in your preferred framework that creates an equal superposition in a qubit using a Hadamard gate. Again, the name of the object should be `circuit`. The evaluation will be based on measurement statistics. In this case, you should explicitly specify the measurement on the qubit"
      ]
    },
    {
      "cell_type": "code",
      "metadata": {
        "ExecuteTime": {
          "end_time": "2018-11-19T19:47:59.567831Z",
          "start_time": "2018-11-19T19:47:59.563751Z"
        },
        "id": "TE_maMW44g-E",
        "colab_type": "code",
        "colab": {
          "base_uri": "https://localhost:8080/",
          "height": 104
        },
        "outputId": "85010010-dc5f-4fed-89ad-411777ad245a"
      },
      "source": [
        "#\n",
        "# YOUR CODE HERE\n",
        "q = QuantumRegister(1)\n",
        "c = ClassicalRegister(1)\n",
        "circuit = QuantumCircuit(q, c)\n",
        "circuit.h(q[0])\n",
        "circuit.measure(q[0], c[0])\n",
        "circuit.draw()"
      ],
      "execution_count": 19,
      "outputs": [
        {
          "output_type": "execute_result",
          "data": {
            "text/html": [
              "<pre style=\"word-wrap: normal;white-space: pre;background: #fff0;line-height: 1.1;font-family: &quot;Courier New&quot;,Courier,monospace\">         ┌───┐┌─┐\n",
              "q1_0: |0>┤ H ├┤M├\n",
              "         └───┘└╥┘\n",
              " c1_0: 0 ══════╩═\n",
              "                 </pre>"
            ],
            "text/plain": [
              "         ┌───┐┌─┐\n",
              "q1_0: |0>┤ H ├┤M├\n",
              "         └───┘└╥┘\n",
              " c1_0: 0 ══════╩═\n",
              "                 "
            ]
          },
          "metadata": {
            "tags": []
          },
          "execution_count": 19
        }
      ]
    },
    {
      "cell_type": "code",
      "metadata": {
        "nbgrader": {
          "grade": true,
          "grade_id": "score9",
          "locked": true,
          "points": "1",
          "solution": false
        },
        "scrolled": true,
        "id": "Q-m5MMXf4g-G",
        "colab_type": "code",
        "colab": {}
      },
      "source": [
        "counts = get_counts(circuit)\n",
        "assert abs(counts['0']/100-.5) < 0.2"
      ],
      "execution_count": 0,
      "outputs": []
    },
    {
      "cell_type": "markdown",
      "metadata": {
        "id": "e0uN48Tm4g-J",
        "colab_type": "text"
      },
      "source": [
        "**Exercise 10** (1 point). If you plotted the state before measurement on the Bloch sphere, it would have been on the equator halfway between the $|0\\rangle$ and $|1\\rangle$ states, and the tip of the X axis. If you apply the Hadamard on the $|1\\rangle$, it would have been the point on the opposite and of the X axis, since the resulting superposition would have had a -1 amplitude for $|1\\rangle$. The measurement statistics, however, would be identical. The negative sign plays a role in interference: for instance, applying a Hadamard again, would take you back to $|1\\rangle$. Create the superposition after applying the Hadamard gate on $|1\\rangle$. We will verify whether it picked up the phase. Do not include a measurement, since we will inspect the wavefunction."
      ]
    },
    {
      "cell_type": "code",
      "metadata": {
        "ExecuteTime": {
          "end_time": "2018-11-19T19:48:00.622667Z",
          "start_time": "2018-11-19T19:48:00.379562Z"
        },
        "id": "fpZSiaM44g-J",
        "colab_type": "code",
        "colab": {
          "base_uri": "https://localhost:8080/",
          "height": 104
        },
        "outputId": "56d99a67-b537-4feb-8e6f-2fec1bd09be7"
      },
      "source": [
        "#\n",
        "# YOUR CODE HERE\n",
        "q = QuantumRegister(1)\n",
        "c = ClassicalRegister(1)\n",
        "circuit = QuantumCircuit(q, c)\n",
        "circuit.x(q[0]) #flip from 0 to 1\n",
        "circuit.h(q[0])\n",
        "circuit.draw()"
      ],
      "execution_count": 21,
      "outputs": [
        {
          "output_type": "execute_result",
          "data": {
            "text/html": [
              "<pre style=\"word-wrap: normal;white-space: pre;background: #fff0;line-height: 1.1;font-family: &quot;Courier New&quot;,Courier,monospace\">         ┌───┐┌───┐\n",
              "q2_0: |0>┤ X ├┤ H ├\n",
              "         └───┘└───┘\n",
              " c2_0: 0 ══════════\n",
              "                   </pre>"
            ],
            "text/plain": [
              "         ┌───┐┌───┐\n",
              "q2_0: |0>┤ X ├┤ H ├\n",
              "         └───┘└───┘\n",
              " c2_0: 0 ══════════\n",
              "                   "
            ]
          },
          "metadata": {
            "tags": []
          },
          "execution_count": 21
        }
      ]
    },
    {
      "cell_type": "code",
      "metadata": {
        "nbgrader": {
          "grade": true,
          "grade_id": "score10",
          "locked": true,
          "points": "1",
          "solution": false
        },
        "id": "Sa1mY8Vw4g-L",
        "colab_type": "code",
        "colab": {}
      },
      "source": [
        "amplitudes = get_amplitudes(circuit)\n",
        "assert abs(amplitudes[1]+np.sqrt(2)/2) < 0.01"
      ],
      "execution_count": 0,
      "outputs": []
    },
    {
      "cell_type": "markdown",
      "metadata": {
        "id": "LA8IDcjz4g-O",
        "colab_type": "text"
      },
      "source": [
        "# More qubits and entanglement\n",
        "\n",
        "**Exercise 11** (1 point). To get a sense of multiqubit states, it is important to be confident with the tensor product operation. Create a function that returns the four basis vectors, $|00\\rangle$, $|01\\rangle$, $|10\\rangle$, and $|11\\rangle$, of the tensor product space $\\mathbb{C}^2\\otimes\\mathbb{C}^2$. The order in which they appear does not matter. The return value should be a list of four numpy arrays."
      ]
    },
    {
      "cell_type": "code",
      "metadata": {
        "ExecuteTime": {
          "end_time": "2018-11-19T19:48:00.928395Z",
          "start_time": "2018-11-19T19:48:00.913259Z"
        },
        "id": "IMpGliNs4g-O",
        "colab_type": "code",
        "colab": {}
      },
      "source": [
        "def create_canonical_basis():\n",
        "    #\n",
        "    # YOUR CODE HERE\n",
        "    q0 = np.array([[1], [0]])\n",
        "    q1 = np.array([[0], [1]])\n",
        "    return [np.kron(q0, q0), np.kron(q0, q1), np.kron(q1, q0), np.kron(q1, q1)]"
      ],
      "execution_count": 0,
      "outputs": []
    },
    {
      "cell_type": "code",
      "metadata": {
        "id": "19rlv5Qe4g-Q",
        "colab_type": "code",
        "colab": {
          "base_uri": "https://localhost:8080/",
          "height": 256
        },
        "outputId": "36befee5-36e1-46ed-86e3-c4172b9bf04f"
      },
      "source": [
        "print(create_canonical_basis())"
      ],
      "execution_count": 24,
      "outputs": [
        {
          "output_type": "stream",
          "text": [
            "[array([[1],\n",
            "       [0],\n",
            "       [0],\n",
            "       [0]]), array([[0],\n",
            "       [1],\n",
            "       [0],\n",
            "       [0]]), array([[0],\n",
            "       [0],\n",
            "       [1],\n",
            "       [0]]), array([[0],\n",
            "       [0],\n",
            "       [0],\n",
            "       [1]])]\n"
          ],
          "name": "stdout"
        }
      ]
    },
    {
      "cell_type": "markdown",
      "metadata": {
        "id": "RdDG1QwC4g-S",
        "colab_type": "text"
      },
      "source": [
        "**Exercise 12** (1 point). A generic product state has the form  $\\begin{bmatrix}a_0b_0\\\\ a_0b_1\\\\ a_1b_0\\\\ a_1b_1\\end{bmatrix}=a_0b_0|00\\rangle + a_0b_1|01\\rangle + a_1b_0|10\\rangle + a_1b_1|11\\rangle$ on $\\mathbb{C}^2\\otimes\\mathbb{C}^2$, but not all. We can use the basis vectors to form vectors in the space that do not have a product structure. These are entangled states that show strong correlations. Entanglement is an important resource in quantum computing and being able to create a circuit that generates an entangled state is critical. Implement a circuit in your preferred framework to create the $|\\phi^-\\rangle = \\frac{1}{\\sqrt{2}}(|00\\rangle-|11\\rangle)$ state, that is, almost the same as the $|\\phi^+\\rangle$ state, but with the opposite sign of the probability amplitude of $|11\\rangle$. Do not include a measurement, as we will verify the state with the wavefunction simulator"
      ]
    },
    {
      "cell_type": "code",
      "metadata": {
        "ExecuteTime": {
          "end_time": "2018-11-19T19:48:01.146195Z",
          "start_time": "2018-11-19T19:48:00.930859Z"
        },
        "id": "go5h8mcb4g-S",
        "colab_type": "code",
        "colab": {
          "base_uri": "https://localhost:8080/",
          "height": 173
        },
        "outputId": "e239fe54-ffa7-4bd5-d719-e05a5d8d49f5"
      },
      "source": [
        "#\n",
        "# YOUR CODE HERE\n",
        "q = QuantumRegister(2)\n",
        "c = ClassicalRegister(2)\n",
        "circuit = QuantumCircuit(q,c)\n",
        "circuit.x(q[0])\n",
        "circuit.h(q[0])\n",
        "circuit.cx(q[0],q[1]) #cnot to entangle\n",
        "circuit.draw()"
      ],
      "execution_count": 25,
      "outputs": [
        {
          "output_type": "execute_result",
          "data": {
            "text/html": [
              "<pre style=\"word-wrap: normal;white-space: pre;background: #fff0;line-height: 1.1;font-family: &quot;Courier New&quot;,Courier,monospace\">         ┌───┐┌───┐     \n",
              "q3_0: |0>┤ X ├┤ H ├──■──\n",
              "         └───┘└───┘┌─┴─┐\n",
              "q3_1: |0>──────────┤ X ├\n",
              "                   └───┘\n",
              " c3_0: 0 ═══════════════\n",
              "                        \n",
              " c3_1: 0 ═══════════════\n",
              "                        </pre>"
            ],
            "text/plain": [
              "         ┌───┐┌───┐     \n",
              "q3_0: |0>┤ X ├┤ H ├──■──\n",
              "         └───┘└───┘┌─┴─┐\n",
              "q3_1: |0>──────────┤ X ├\n",
              "                   └───┘\n",
              " c3_0: 0 ═══════════════\n",
              "                        \n",
              " c3_1: 0 ═══════════════\n",
              "                        "
            ]
          },
          "metadata": {
            "tags": []
          },
          "execution_count": 25
        }
      ]
    },
    {
      "cell_type": "code",
      "metadata": {
        "nbgrader": {
          "grade": true,
          "grade_id": "score12",
          "locked": true,
          "points": "1",
          "solution": false
        },
        "id": "Muq1EGSx4g-W",
        "colab_type": "code",
        "colab": {}
      },
      "source": [
        "amplitudes = get_amplitudes(circuit)\n",
        "assert all(np.isclose(np.array([np.sqrt(2)/2, 0, 0, -np.sqrt(2)/2]), amplitudes))"
      ],
      "execution_count": 0,
      "outputs": []
    },
    {
      "cell_type": "markdown",
      "metadata": {
        "id": "wKZ8JjHI4g-Y",
        "colab_type": "text"
      },
      "source": [
        "# Measurements\n",
        "\n",
        "**Exercise 1** (1 point). Measurements in the quantum computers we can access today always measure in the computational basis. This means that either the projection $|0\\rangle\\langle 0|$ or the $|1\\rangle\\langle 1|$ is applied on the qubit we are measuring, corresponding to the outcome 0 or 1. The Born rule tells us that we get either of these with the probability of the absolute value of the probability amplitde squared. The qubit afterwards is $|0\\rangle$ or $|1\\rangle$, respectively.\n",
        "\n",
        "First, create circuit in your preferred framewrok with one quantum and two classical registers. The object should be called `circuit`."
      ]
    },
    {
      "cell_type": "code",
      "metadata": {
        "id": "LZgBEYNjvbw_",
        "colab_type": "code",
        "colab": {}
      },
      "source": [
        "from qiskit.tools.visualization import plot_histogram"
      ],
      "execution_count": 0,
      "outputs": []
    },
    {
      "cell_type": "code",
      "metadata": {
        "id": "82GXMZW_4g-Z",
        "colab_type": "code",
        "colab": {}
      },
      "source": [
        "#\n",
        "# YOUR CODE HERE\n",
        "q = QuantumRegister(1)\n",
        "c = ClassicalRegister(2)\n",
        "circuit = QuantumCircuit(q, c)"
      ],
      "execution_count": 0,
      "outputs": []
    },
    {
      "cell_type": "markdown",
      "metadata": {
        "id": "kNNVVW3g4g-b",
        "colab_type": "text"
      },
      "source": [
        "**Exercise 2** (1 point). Next, extend the circuit with a Hadamard gate and a measurement on the qubit. Write the measurement result in the first classical register. You will get a probabilistic outcome of 0 or 1."
      ]
    },
    {
      "cell_type": "code",
      "metadata": {
        "id": "35rg0zIa4g-d",
        "colab_type": "code",
        "colab": {
          "base_uri": "https://localhost:8080/",
          "height": 139
        },
        "outputId": "34b5882d-b334-4574-9f08-51d1bc15bc04"
      },
      "source": [
        "#\n",
        "# YOUR CODE HERE\n",
        "circuit.h(q[0])\n",
        "circuit.measure(q[0],c[0])\n",
        "circuit.draw()"
      ],
      "execution_count": 29,
      "outputs": [
        {
          "output_type": "execute_result",
          "data": {
            "text/html": [
              "<pre style=\"word-wrap: normal;white-space: pre;background: #fff0;line-height: 1.1;font-family: &quot;Courier New&quot;,Courier,monospace\">         ┌───┐┌─┐\n",
              "q4_0: |0>┤ H ├┤M├\n",
              "         └───┘└╥┘\n",
              " c4_0: 0 ══════╩═\n",
              "                 \n",
              " c4_1: 0 ════════\n",
              "                 </pre>"
            ],
            "text/plain": [
              "         ┌───┐┌─┐\n",
              "q4_0: |0>┤ H ├┤M├\n",
              "         └───┘└╥┘\n",
              " c4_0: 0 ══════╩═\n",
              "                 \n",
              " c4_1: 0 ════════\n",
              "                 "
            ]
          },
          "metadata": {
            "tags": []
          },
          "execution_count": 29
        }
      ]
    },
    {
      "cell_type": "markdown",
      "metadata": {
        "id": "ubFbiURF4g-f",
        "colab_type": "text"
      },
      "source": [
        "**Exercise 3** (1 point). To see that the quantum state collapses to the basis state indicated by the outcome, apply a second measurement on the same circuit, but write the result in the second register. Executing the program should always give the same outcome in the two subsequent measurements."
      ]
    },
    {
      "cell_type": "code",
      "metadata": {
        "id": "J-C61cOr4g-g",
        "colab_type": "code",
        "colab": {
          "base_uri": "https://localhost:8080/",
          "height": 139
        },
        "outputId": "f4962572-2d68-4fb2-fb5a-270e041ba9a2"
      },
      "source": [
        "#\n",
        "# YOUR CODE HERE\n",
        "circuit.measure(q[0],c[1])\n",
        "circuit.draw()"
      ],
      "execution_count": 30,
      "outputs": [
        {
          "output_type": "execute_result",
          "data": {
            "text/html": [
              "<pre style=\"word-wrap: normal;white-space: pre;background: #fff0;line-height: 1.1;font-family: &quot;Courier New&quot;,Courier,monospace\">         ┌───┐┌─┐┌─┐\n",
              "q4_0: |0>┤ H ├┤M├┤M├\n",
              "         └───┘└╥┘└╥┘\n",
              " c4_0: 0 ══════╩══╬═\n",
              "                  ║ \n",
              " c4_1: 0 ═════════╩═\n",
              "                    </pre>"
            ],
            "text/plain": [
              "         ┌───┐┌─┐┌─┐\n",
              "q4_0: |0>┤ H ├┤M├┤M├\n",
              "         └───┘└╥┘└╥┘\n",
              " c4_0: 0 ══════╩══╬═\n",
              "                  ║ \n",
              " c4_1: 0 ═════════╩═\n",
              "                    "
            ]
          },
          "metadata": {
            "tags": []
          },
          "execution_count": 30
        }
      ]
    },
    {
      "cell_type": "markdown",
      "metadata": {
        "id": "-VVdfZlV4g-i",
        "colab_type": "text"
      },
      "source": [
        "# Measuring multiqubit systems\n",
        "\n",
        "**Exercise 4** (1 point). We typically work with local measurements, meaning that the qubits are measured separately. Create a two-qubit circuit with measurements included that reproduces the uniform distribution on four outcomes."
      ]
    },
    {
      "cell_type": "code",
      "metadata": {
        "id": "Y_iblA5Z4g-j",
        "colab_type": "code",
        "colab": {
          "base_uri": "https://localhost:8080/",
          "height": 173
        },
        "outputId": "527e924c-5b93-49ea-fe78-21aaec9a343c"
      },
      "source": [
        "#\n",
        "# YOUR CODE HERE\n",
        "q = QuantumRegister(2)\n",
        "c = ClassicalRegister(2)\n",
        "circuit = QuantumCircuit(q,c)\n",
        "circuit.h(q[0])\n",
        "circuit.h(q[1])\n",
        "circuit.measure(q[0],c[0])\n",
        "circuit.measure(q[1],c[1])\n",
        "circuit.draw()"
      ],
      "execution_count": 31,
      "outputs": [
        {
          "output_type": "execute_result",
          "data": {
            "text/html": [
              "<pre style=\"word-wrap: normal;white-space: pre;background: #fff0;line-height: 1.1;font-family: &quot;Courier New&quot;,Courier,monospace\">         ┌───┐┌─┐   \n",
              "q5_0: |0>┤ H ├┤M├───\n",
              "         ├───┤└╥┘┌─┐\n",
              "q5_1: |0>┤ H ├─╫─┤M├\n",
              "         └───┘ ║ └╥┘\n",
              " c5_0: 0 ══════╩══╬═\n",
              "                  ║ \n",
              " c5_1: 0 ═════════╩═\n",
              "                    </pre>"
            ],
            "text/plain": [
              "         ┌───┐┌─┐   \n",
              "q5_0: |0>┤ H ├┤M├───\n",
              "         ├───┤└╥┘┌─┐\n",
              "q5_1: |0>┤ H ├─╫─┤M├\n",
              "         └───┘ ║ └╥┘\n",
              " c5_0: 0 ══════╩══╬═\n",
              "                  ║ \n",
              " c5_1: 0 ═════════╩═\n",
              "                    "
            ]
          },
          "metadata": {
            "tags": []
          },
          "execution_count": 31
        }
      ]
    },
    {
      "cell_type": "markdown",
      "metadata": {
        "id": "LLoXA9z1vCVf",
        "colab_type": "text"
      },
      "source": [
        "Using the get_counts function from the assignment helper, plot a histogram of each measurement:\n"
      ]
    },
    {
      "cell_type": "code",
      "metadata": {
        "id": "TJBUvzWuvBRZ",
        "colab_type": "code",
        "colab": {
          "base_uri": "https://localhost:8080/",
          "height": 331
        },
        "outputId": "2895892f-a56b-4b57-8c92-ef256dd3fc08"
      },
      "source": [
        "plot_histogram(get_counts(circuit))"
      ],
      "execution_count": 32,
      "outputs": [
        {
          "output_type": "execute_result",
          "data": {
            "image/png": "[encoded data removed]",
            "text/plain": [
              "<Figure size 504x360 with 1 Axes>"
            ]
          },
          "metadata": {
            "tags": []
          },
          "execution_count": 32
        }
      ]
    },
    {
      "cell_type": "markdown",
      "metadata": {
        "id": "KwbKIgkWvo_N",
        "colab_type": "text"
      },
      "source": [
        "The distribution is, in fact, uniform."
      ]
    },
    {
      "cell_type": "markdown",
      "metadata": {
        "id": "PBzTgi6k4g-l",
        "colab_type": "text"
      },
      "source": [
        "**Exercise 5** (1 point). This is a typical product state, showing no correlation between the qubits. In contrast, if you make simultaneous measurements on an entangled state, for instance the $|\\phi^+\\rangle$ or the $|\\phi^-\\rangle$ state, the measurement outcomes will be correlated. Create either of these states and measure both qubits."
      ]
    },
    {
      "cell_type": "code",
      "metadata": {
        "id": "-Dz_lwMN4g-l",
        "colab_type": "code",
        "colab": {
          "base_uri": "https://localhost:8080/",
          "height": 35
        },
        "outputId": "32162aef-2ce7-4cd5-a83f-9f797e0ff4ff"
      },
      "source": [
        "#\n",
        "# YOUR CODE HERE\n",
        "q = QuantumRegister(2)\n",
        "c = ClassicalRegister(2)\n",
        "circuit = QuantumCircuit(q,c)\n",
        "circuit.x(q[0])\n",
        "circuit.h(q[0])\n",
        "circuit.cx(q[0], q[1])\n",
        "circuit.measure(q, c)"
      ],
      "execution_count": 33,
      "outputs": [
        {
          "output_type": "execute_result",
          "data": {
            "text/plain": [
              "<qiskit.circuit.instructionset.InstructionSet at 0x7fd245b00400>"
            ]
          },
          "metadata": {
            "tags": []
          },
          "execution_count": 33
        }
      ]
    },
    {
      "cell_type": "code",
      "metadata": {
        "id": "eyGLsnIIu2Bz",
        "colab_type": "code",
        "colab": {
          "base_uri": "https://localhost:8080/",
          "height": 331
        },
        "outputId": "311960e5-1e3c-4389-ffa1-48af7327715a"
      },
      "source": [
        "plot_histogram(get_counts(circuit))"
      ],
      "execution_count": 34,
      "outputs": [
        {
          "output_type": "execute_result",
          "data": {
            "image/png": "[encoded data removed]",
            "text/plain": [
              "<Figure size 504x360 with 1 Axes>"
            ]
          },
          "metadata": {
            "tags": []
          },
          "execution_count": 34
        }
      ]
    },
    {
      "cell_type": "markdown",
      "metadata": {
        "id": "HRpDCYH54g-n",
        "colab_type": "text"
      },
      "source": [
        "Notice that we only observe 00 and 11 as outcomes, even though we made measurements on two spatially separated qubits. If one measurement gives a value, the other one always give the same. "
      ]
    },
    {
      "cell_type": "markdown",
      "metadata": {
        "id": "9yUynns84g-o",
        "colab_type": "text"
      },
      "source": [
        "# Mixed states\n",
        "\n",
        "**Exercise 6** (1 point). The density matrix formalism is critical in understanding noise models and decoherence, so it is indispensible to start working with current and near-future quantum computers. Many simulator backends provide noise models, but it is out of scope for this course to develop a deep understanding of it.\n",
        "\n",
        "Instead, let's use the wavefunction simulator to create the (maximally) entangled state $|\\phi^+\\rangle$. The object should be called circuit and do not include measurements. Your circuit should be in an object called `circuit`."
      ]
    },
    {
      "cell_type": "code",
      "metadata": {
        "id": "ZIhcQlp94g-o",
        "colab_type": "code",
        "colab": {
          "base_uri": "https://localhost:8080/",
          "height": 173
        },
        "outputId": "6e628ab0-08e6-4066-ad22-e925d5dca17f"
      },
      "source": [
        "#\n",
        "# YOUR CODE HERE\n",
        "q = QuantumRegister(2)\n",
        "c = ClassicalRegister(2)\n",
        "circuit = QuantumCircuit(q,c)\n",
        "circuit.h(q[0])\n",
        "circuit.cx(q[0], q[1])\n",
        "circuit.draw()"
      ],
      "execution_count": 35,
      "outputs": [
        {
          "output_type": "execute_result",
          "data": {
            "text/html": [
              "<pre style=\"word-wrap: normal;white-space: pre;background: #fff0;line-height: 1.1;font-family: &quot;Courier New&quot;,Courier,monospace\">         ┌───┐     \n",
              "q7_0: |0>┤ H ├──■──\n",
              "         └───┘┌─┴─┐\n",
              "q7_1: |0>─────┤ X ├\n",
              "              └───┘\n",
              " c7_0: 0 ══════════\n",
              "                   \n",
              " c7_1: 0 ══════════\n",
              "                   </pre>"
            ],
            "text/plain": [
              "         ┌───┐     \n",
              "q7_0: |0>┤ H ├──■──\n",
              "         └───┘┌─┴─┐\n",
              "q7_1: |0>─────┤ X ├\n",
              "              └───┘\n",
              " c7_0: 0 ══════════\n",
              "                   \n",
              " c7_1: 0 ══════════\n",
              "                   "
            ]
          },
          "metadata": {
            "tags": []
          },
          "execution_count": 35
        }
      ]
    },
    {
      "cell_type": "markdown",
      "metadata": {
        "id": "IY-h6taN4g-r",
        "colab_type": "text"
      },
      "source": [
        "**Exercise 7** (1 point). Create the density matrix called `dm` of the probability amplitudes contained in the `amplitudes` array. Recall that you need a ket and a bra in this order to produce it, but the shape of the `amplitudes` array is incorrect for transposition. Reshape it first"
      ]
    },
    {
      "cell_type": "code",
      "metadata": {
        "id": "5Ka1lCrK4g-r",
        "colab_type": "code",
        "colab": {
          "base_uri": "https://localhost:8080/",
          "height": 54
        },
        "outputId": "0f4ca714-c729-4aaa-a5f8-141864763009"
      },
      "source": [
        "#\n",
        "# YOUR CODE HERE\n",
        "amplitudes = get_amplitudes(circuit).reshape(2,2)\n",
        "bra = amplitudes\n",
        "ket = bra.T.conj()\n",
        "dm = ket @ bra\n",
        "dm"
      ],
      "execution_count": 36,
      "outputs": [
        {
          "output_type": "execute_result",
          "data": {
            "text/plain": [
              "array([[0.5+0.j, 0. +0.j],\n",
              "       [0. +0.j, 0.5+0.j]])"
            ]
          },
          "metadata": {
            "tags": []
          },
          "execution_count": 36
        }
      ]
    },
    {
      "cell_type": "markdown",
      "metadata": {
        "id": "815EF_0G4g-u",
        "colab_type": "text"
      },
      "source": [
        "Taking the partial trace of a density matrix is the equivalent of taking the marginal of a joint probability distribution along one random variable. If we take the partial trace of this density matrix in any of the qubit subsystems, we are going to get the maximally mixed state, that is, the uniform distribution over the remaining system. This reflects the strong correlation between the two subsystems: if we marginalize over one, we have no predictive power over the other one. We exploit this property when we create protocols for preparing thermal states."
      ]
    },
    {
      "cell_type": "markdown",
      "metadata": {
        "id": "5uOFGeTW4g-v",
        "colab_type": "text"
      },
      "source": [
        "\n",
        "# Unitary evolution\n",
        "\n",
        "**Exercise 1** (1 point). The conjugate transpose of a unitary matrix is its inverse. Write a function that checks if a $2\\times 2$ numpy array is unitary."
      ]
    },
    {
      "cell_type": "code",
      "metadata": {
        "id": "_PZsaZQc4g-v",
        "colab_type": "code",
        "colab": {}
      },
      "source": [
        "def is_unitary(matrix):\n",
        "    #\n",
        "    # YOUR CODE HERE\n",
        "    return (np.allclose(matrix@matrix.T.conj(),np.eye(2)))"
      ],
      "execution_count": 0,
      "outputs": []
    },
    {
      "cell_type": "code",
      "metadata": {
        "id": "Ebjj7yWr4g-x",
        "colab_type": "code",
        "colab": {}
      },
      "source": [
        "X = np.array([[0, 1], [1, 0]])\n",
        "H = 1/np.sqrt(2)*np.array([[1, 1], [1, -1]])\n",
        "random_matrix = np.random.rand(2, 2)\n",
        "assert is_unitary(X)\n",
        "assert is_unitary(H)\n",
        "assert is_unitary(random_matrix) is False"
      ],
      "execution_count": 0,
      "outputs": []
    },
    {
      "cell_type": "markdown",
      "metadata": {
        "id": "Anq3cQBe4g-0",
        "colab_type": "text"
      },
      "source": [
        "**Exercise 2** (1 point). The eigenvalues of unitary operators always lie on the complex unit circle. We exploit this property over and over again. For instance, the quantum phase estimation algorithm estimates the eigenvalues through the phase that describes the eigenvalues angle on the complex unit circle. Calculate the eigenvalues of the Hadamard gate and store them in a numpy array called `eigenvalues`."
      ]
    },
    {
      "cell_type": "code",
      "metadata": {
        "id": "6oy8KvXJ4g-1",
        "colab_type": "code",
        "colab": {}
      },
      "source": [
        "#\n",
        "# YOUR CODE HERE\n",
        "H = 1/np.sqrt(2) * np.array([[1, 1], [1, -1]])\n",
        "eigenvalues = np.linalg.eigvals(H)"
      ],
      "execution_count": 0,
      "outputs": []
    },
    {
      "cell_type": "markdown",
      "metadata": {
        "id": "_HFm2Ebs4g-4",
        "colab_type": "text"
      },
      "source": [
        "**Exercise 3** (1 point). Unitary operations are reversible. In fact, we often reverse them on purpose: this is called uncomputing, and used, for instance, in the quantum matrix inversion algorithm that underlies many coherent quantum machine learning protocols. The reason we do that is to remove the entanglement we might have created, so that tracing out a subsystem would not interfere with our calculations (the remaining system will not be a mixed state). Create a circuit in your preferred framework that applies the X and H gates in this sequence. The circuit should be in an object called `circuit`."
      ]
    },
    {
      "cell_type": "code",
      "metadata": {
        "id": "rLkkdzgZ4g-4",
        "colab_type": "code",
        "colab": {
          "base_uri": "https://localhost:8080/",
          "height": 35
        },
        "outputId": "561d6294-ad4f-492a-9a75-570e205462ee"
      },
      "source": [
        "#\n",
        "# YOUR CODE HERE\n",
        "q = QuantumRegister(1)\n",
        "c = ClassicalRegister(1)\n",
        "circuit = QuantumCircuit(q, c)\n",
        "circuit.x(q[0])\n",
        "circuit.h(q[0])"
      ],
      "execution_count": 40,
      "outputs": [
        {
          "output_type": "execute_result",
          "data": {
            "text/plain": [
              "<qiskit.circuit.instructionset.InstructionSet at 0x7fd245ad1cf8>"
            ]
          },
          "metadata": {
            "tags": []
          },
          "execution_count": 40
        }
      ]
    },
    {
      "cell_type": "code",
      "metadata": {
        "id": "mGbxfKpy4g-7",
        "colab_type": "code",
        "colab": {}
      },
      "source": [
        "from assignment_helper import get_amplitudes\n",
        "amplitudes = get_amplitudes(circuit)\n",
        "assert all(np.isclose(amplitudes, np.array([1/np.sqrt(2), -1/np.sqrt(2)])))"
      ],
      "execution_count": 0,
      "outputs": []
    },
    {
      "cell_type": "markdown",
      "metadata": {
        "id": "ewT8MKKY4g-9",
        "colab_type": "text"
      },
      "source": [
        "**Exercise 4** (1 point). Extend this circuit to reverse the calculations you have done."
      ]
    },
    {
      "cell_type": "code",
      "metadata": {
        "id": "VoI_NrW_4g--",
        "colab_type": "code",
        "colab": {
          "base_uri": "https://localhost:8080/",
          "height": 35
        },
        "outputId": "2fb95a92-2666-434f-ed7b-6af319774d1b"
      },
      "source": [
        "#\n",
        "# YOUR CODE HERE\n",
        "q = QuantumRegister(1)\n",
        "c = ClassicalRegister(1)\n",
        "circuit = QuantumCircuit(q, c)\n",
        "circuit.x(q[0]) #do\n",
        "circuit.h(q[0])\n",
        "circuit.h(q[0]) #undo\n",
        "circuit.x(q[0])"
      ],
      "execution_count": 42,
      "outputs": [
        {
          "output_type": "execute_result",
          "data": {
            "text/plain": [
              "<qiskit.circuit.instructionset.InstructionSet at 0x7fd245a6a5c0>"
            ]
          },
          "metadata": {
            "tags": []
          },
          "execution_count": 42
        }
      ]
    },
    {
      "cell_type": "code",
      "metadata": {
        "id": "EUWXIAJ74g_A",
        "colab_type": "code",
        "colab": {}
      },
      "source": [
        "amplitudes = get_amplitudes(circuit)\n",
        "program_length = get_circuit_length(circuit)\n",
        "assert all(np.isclose(amplitudes, np.array([1, 0]))), \"The circuit is not successfully reversed\"\n",
        "assert program_length == 4, \"The circuit does not have the right number of gates\""
      ],
      "execution_count": 0,
      "outputs": []
    },
    {
      "cell_type": "code",
      "metadata": {
        "id": "xcaVezKZynmp",
        "colab_type": "code",
        "colab": {}
      },
      "source": [
        ""
      ],
      "execution_count": 0,
      "outputs": []
    }
  ]
}