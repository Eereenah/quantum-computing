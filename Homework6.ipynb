{
  "nbformat": 4,
  "nbformat_minor": 0,
  "metadata": {
    "kernelspec": {
      "display_name": "Python 3",
      "language": "python",
      "name": "python3"
    },
    "language_info": {
      "codemirror_mode": {
        "name": "ipython",
        "version": 3
      },
      "file_extension": ".py",
      "mimetype": "text/x-python",
      "name": "python",
      "nbconvert_exporter": "python",
      "pygments_lexer": "ipython3",
      "version": "3.7.6"
    },
    "colab": {
      "name": "Tirosyan_Irina_Variational_Circuits.ipynb",
      "provenance": [],
      "collapsed_sections": [],
      "include_colab_link": true
    }
  },
  "cells": [
    {
      "cell_type": "markdown",
      "metadata": {
        "id": "view-in-github",
        "colab_type": "text"
      },
      "source": [
        "<a href=\"https://colab.research.google.com/github/Eereenah/quantum-computing/blob/master/Homework6.ipynb\" target=\"_parent\"><img src=\"https://colab.research.google.com/assets/colab-badge.svg\" alt=\"Open In Colab\"/></a>"
      ]
    },
    {
      "cell_type": "markdown",
      "metadata": {
        "id": "muK-MJcvQlEA",
        "colab_type": "text"
      },
      "source": [
        "Current and near-term quantum computers suffer from imperfections, as we repeatedly pointed it out. This is why we cannot run long algorithms, that is, deep circuits on them. A new breed of algorithms started to appear since 2013 that focus on getting an advantage from imperfect quantum computers. The basic idea is extremely simple: run a short sequence of gates where some gates are parametrized. Then read out the result, make adjustments to the parameters on a classical computer, and repeat the calculation with the new parameters on the quantum hardware. This way we create an iterative loop between the quantum and the classical processing units, creating classical-quantum hybrid algorithms.\n",
        "\n",
        "These algorithms are also called variational to reflect the variational approach to changing the parameters. One of the most important example of this approach is the quantum approximate optimization algorithm, which is the subject of this notebook."
      ]
    },
    {
      "cell_type": "markdown",
      "metadata": {
        "id": "gAd3MYMpQlEB",
        "colab_type": "text"
      },
      "source": [
        "# Quantum approximate optimization algorithm\n",
        "\n",
        "The quantum approximate optimization algorithm (QAOA) is a shallow-circuit variational algorithm for gate-model quantum computers that was inspired by quantum annealing. We discretize the adiabatic pathway in some $p$ steps, where $p$ influences precision. Each discrete time step $i$ has two parameters, $\\beta_i, \\gamma_i$. The classical variational algorithms does an optimization over these parameters based on the observed energy at the end of a run on the quantum hardware.\n",
        "\n",
        "More formally, we want to discretize the time-dependent $H(t)=(1-t)H_0 + tH_1$ under adiabatic conditions. We achieve this by Trotterizing the unitary. For instance, for time step $t_0$, we can split this unitary as $U(t_0) = U(H_0, \\beta_0)U(H_1, \\gamma_0)$. We can continue doing this for subsequent time steps, eventually splitting up the evolution to $p$ such chunks:\n",
        "\n",
        "$$\n",
        "U = U(H_0, \\beta_0)U(H_1, \\gamma_0)\\ldots U(H_0, \\beta_p)U(H_1, \\gamma_p).\n",
        "$$\n",
        "\n",
        "At the end of optimizing the parameters, this discretized evolution will approximate the adiabatic pathway:\n",
        "\n",
        "![](https://i.imgur.com/KvxMyVN.png)\n",
        "\n",
        "\n",
        "The Hamiltonian $H_0$ is often referred to as the driving or mixing Hamiltonian, and $H_1$ as the cost Hamiltonian. The simplest mixing Hamiltonian is $H_0 = -\\sum_i \\sigma^X_i$, the same as the initial Hamiltonian in quantum annealing. By alternating between the two Hamiltonian, the mixing Hamiltonian drives the state towards an equal superposition, whereas the cost Hamiltonian tries to seek its own ground state.\n",
        "\n",
        "In this notebook we go over the quantum approximate optimization algorithm (QAOA) and get acquainted with Qiskit Aqua (the documentation can be found [here](https://qiskit.org/documentation/apidoc/aqua/aqua.html). Documentation of Qiskit Aqua operators is [here](https://qiskit.org/documentation/apidoc/aqua/operators/operators.html)). \n",
        "\n",
        "Let us import the necessary packages first:"
      ]
    },
    {
      "cell_type": "code",
      "metadata": {
        "id": "KALV-lVuVY-5",
        "colab_type": "code",
        "colab": {}
      },
      "source": [
        "import warnings\n",
        "warnings.filterwarnings('ignore')"
      ],
      "execution_count": 0,
      "outputs": []
    },
    {
      "cell_type": "code",
      "metadata": {
        "id": "8OpypaAwEWPw",
        "colab_type": "code",
        "colab": {}
      },
      "source": [
        "! pip install qiskit"
      ],
      "execution_count": 0,
      "outputs": []
    },
    {
      "cell_type": "code",
      "metadata": {
        "id": "NzP2Ww56FitH",
        "colab_type": "code",
        "colab": {}
      },
      "source": [
        "# installing this library to get rid of the pygments requirement issue\n",
        "! pip install qiskit-terra[visualization]"
      ],
      "execution_count": 0,
      "outputs": []
    },
    {
      "cell_type": "code",
      "metadata": {
        "ExecuteTime": {
          "end_time": "2018-11-19T20:09:25.405530Z",
          "start_time": "2018-11-19T20:09:25.393410Z"
        },
        "id": "pir3i_tpQlEC",
        "colab_type": "code",
        "colab": {}
      },
      "source": [
        "import itertools\n",
        "import numpy as np\n",
        "from qiskit import Aer, QuantumRegister, QuantumCircuit, execute\n",
        "from qiskit.quantum_info import Pauli, Operator\n",
        "from qiskit.aqua import get_aer_backend\n",
        "from qiskit.aqua.operators import WeightedPauliOperator\n",
        "from qiskit.aqua.components.initial_states import Custom\n",
        "from scipy.optimize import minimize\n",
        "np.set_printoptions(precision=3, suppress=True)"
      ],
      "execution_count": 0,
      "outputs": []
    },
    {
      "cell_type": "markdown",
      "metadata": {
        "id": "qVwU9fxoQlEF",
        "colab_type": "text"
      },
      "source": [
        "Now we can define our mixing Hamiltonian on some qubits. We need to define, for instance, an `IZ` operator to express $\\mathbb{I}\\otimes\\sigma_1^Z$, that is, the $\\sigma_1^Z$ operator acting only on qubit 1. We can achieve the same effect the following way (this time using the Pauli-X operator):"
      ]
    },
    {
      "cell_type": "markdown",
      "metadata": {
        "id": "RLliaU1tQlEG",
        "colab_type": "text"
      },
      "source": [
        "In Qiskit, Pauli matrices can be instantiated using the class `Pauli`. This class takes two parameters, the first for $\\sigma^Z$ and the second for $\\sigma^X$. Each parameter is a binary vector of dimension `n_qubits`, such that the component $i$ is 1 if you want a Pauli matrix to apply on the $i^{th}$ qubit and 0 otherwise. For instance, $\\sigma_1^Z \\otimes \\sigma_3^Z \\otimes \\sigma_1^X$ would be implemented using `Pauli([1,0,1],[1,0,0])`.\n",
        "\n",
        "In order to build Hamiltonians and make them evolve (i.e. exponentiate them, as required in QAOA), we need to use the class `Operator` from Qiskit Aqua. This class constructs a Hamiltonian as a sum of products of Pauli matrices. It takes an array of size $n \\times 2$ as parameter, such that each row corresponds to a term in the sum and each term has two components: a coefficient and a `Pauli` object. For instance, $3 \\sigma^Z_1 + 2 \\sigma^X_3$ would be written `Operator([[3, Pauli([1,0,0], [0,0,0])], [2, Pauli([0,0,0],[0,0,3])]])`.  "
      ]
    },
    {
      "cell_type": "markdown",
      "metadata": {
        "id": "h7aOoyhbQlEG",
        "colab_type": "text"
      },
      "source": [
        "**Exercise 1:** Let us denote by `n_qubits` the number of qubits in the circuit. To simplify the code, let's build a function `pauli_x` that simply takes a qubit index (`qubit_index`) and a coefficient and returns the corresponding X-Pauli matrix as an `WeightedPauliOperator`. This operator will act trivially on all qubits, except the given one, i.e. a $\\sigma^X$ is applied to the qubit at the given index, and identity to the rest."
      ]
    },
    {
      "cell_type": "code",
      "metadata": {
        "id": "Ndw1k8sDQlEH",
        "colab_type": "code",
        "colab": {}
      },
      "source": [
        "def pauli_x(n_qubits, qubit_index, coeff):\n",
        "    #YOUR CODE HERE\n",
        "    z = np.zeros(n_qubits)\n",
        "    x = np.eye((n_qubits))[qubit_index]\n",
        "    return WeightedPauliOperator([[coeff, Pauli(z,x)]])"
      ],
      "execution_count": 0,
      "outputs": []
    },
    {
      "cell_type": "markdown",
      "metadata": {
        "id": "XKbTW70xQlEJ",
        "colab_type": "text"
      },
      "source": [
        "The coefficient here corresponds to the strength of the transverse field at the given qubit. Let's define the mixing Hamiltonian over two qubits:"
      ]
    },
    {
      "cell_type": "code",
      "metadata": {
        "ExecuteTime": {
          "end_time": "2018-11-19T20:08:17.863004Z",
          "start_time": "2018-11-19T20:08:17.843293Z"
        },
        "id": "7pdnNy9SQlEJ",
        "colab_type": "code",
        "colab": {}
      },
      "source": [
        "n_qubits = 2\n",
        "identity = pauli_x(n_qubits, 0, 0)\n",
        "\n",
        "Hm = sum([pauli_x(n_qubits, i, -1) for i in range(n_qubits)], identity)"
      ],
      "execution_count": 0,
      "outputs": []
    },
    {
      "cell_type": "code",
      "metadata": {
        "id": "s-EGHMOcJL17",
        "colab_type": "code",
        "outputId": "9ca21a42-bd9b-46ad-87ee-231a92ecdeea",
        "colab": {
          "base_uri": "https://localhost:8080/",
          "height": 54
        }
      },
      "source": [
        "Hm.paulis"
      ],
      "execution_count": 7,
      "outputs": [
        {
          "output_type": "execute_result",
          "data": {
            "text/plain": [
              "[[(-1+0j), Pauli(z=[False, False], x=[True, False])],\n",
              " [(-1+0j), Pauli(z=[False, False], x=[False, True])]]"
            ]
          },
          "metadata": {
            "tags": []
          },
          "execution_count": 7
        }
      ]
    },
    {
      "cell_type": "markdown",
      "metadata": {
        "id": "8AXg5WxWQlEM",
        "colab_type": "text"
      },
      "source": [
        "As an example, we will minimize the Ising problem defined by the cost Hamiltonian $H_c=-\\sigma^Z_1 \\otimes \\sigma^Z_2$. First let's create the functions defining the operators using the Pauli-Z matrix:"
      ]
    },
    {
      "cell_type": "markdown",
      "metadata": {
        "id": "Ez-Ejy3fQlEM",
        "colab_type": "text"
      },
      "source": [
        "**Exercise 2:** build a function `pauli_x` that simply takes a qubit index (`qubit_index`) and a coefficient and returns the corresponding Z-Pauli matrix as an `WeightedPauliOperator` (analog of the function pauli_x)"
      ]
    },
    {
      "cell_type": "code",
      "metadata": {
        "id": "JjaoGhlZQlEM",
        "colab_type": "code",
        "colab": {}
      },
      "source": [
        "def pauli_z(n_qubits, qubit_index, coeff):\n",
        "    #YOUR CODE HERE\n",
        "    z = np.eye((n_qubits))[qubit_index]\n",
        "    x = np.zeros(n_qubits)\n",
        "    return WeightedPauliOperator([[coeff, Pauli(z,x)]])"
      ],
      "execution_count": 0,
      "outputs": []
    },
    {
      "cell_type": "markdown",
      "metadata": {
        "id": "q8mfMOWXQlEP",
        "colab_type": "text"
      },
      "source": [
        "**Exercise 3:** In order to construct the cost Hamiltonian, we need to build a `WeightedPauliOperator` object which is a multiplication of two `Pauli` objects (each applied to a qubit at different indices). The `Pauli` objects in Qiskit Aqua support multiplication with asterisk. Build a function which returns a `WeightedPauliOperator` object representing the multiplication of two Pauli objects acting on qubits `q1` and `q2` with an overall coefficient."
      ]
    },
    {
      "cell_type": "code",
      "metadata": {
        "id": "8-tNEDtnQlEP",
        "colab_type": "code",
        "colab": {}
      },
      "source": [
        "def product_pauli_z(q1, q2, coeff, n_qubits):\n",
        "    #YOUR CODE HERE\n",
        "    # also added n_qubits as a function parameter, not to rely on the global variable \n",
        "    z1 = np.eye((n_qubits))[q1]\n",
        "    z2 = np.eye((n_qubits))[q2]\n",
        "    x = np.zeros(n_qubits)\n",
        "    pauli =  Pauli(z1, x) * Pauli(z2, x)\n",
        "    return WeightedPauliOperator([[coeff, pauli], [0, Pauli(np.zeros(n_qubits), np.zeros(n_qubits))]])"
      ],
      "execution_count": 0,
      "outputs": []
    },
    {
      "cell_type": "markdown",
      "metadata": {
        "id": "k7NmQuHjQlES",
        "colab_type": "text"
      },
      "source": [
        "Then we define the cost Hamiltonian:"
      ]
    },
    {
      "cell_type": "code",
      "metadata": {
        "ExecuteTime": {
          "end_time": "2018-11-19T20:08:17.885938Z",
          "start_time": "2018-11-19T20:08:17.865184Z"
        },
        "id": "3kZj-Ok1QlES",
        "colab_type": "code",
        "colab": {}
      },
      "source": [
        "J = np.array([[0,1],[0,0]])\n",
        "Hc = sum([product_pauli_z(i, j, -J[i,j], n_qubits) for i,j in itertools.product(range(n_qubits), repeat=2)], identity)"
      ],
      "execution_count": 0,
      "outputs": []
    },
    {
      "cell_type": "markdown",
      "metadata": {
        "id": "IXBD0JOJQlEU",
        "colab_type": "text"
      },
      "source": [
        "We set the number of time evolution steps $p=1$ and initialize the $\\beta_i$ and $\\gamma_i$ parameters randomly:"
      ]
    },
    {
      "cell_type": "code",
      "metadata": {
        "ExecuteTime": {
          "end_time": "2018-11-19T20:08:17.925805Z",
          "start_time": "2018-11-19T20:08:17.905037Z"
        },
        "id": "BTHPt5L7QlEV",
        "colab_type": "code",
        "colab": {}
      },
      "source": [
        "p = 1\n",
        "beta = np.random.uniform(0, np.pi*2, p)\n",
        "gamma = np.random.uniform(0, np.pi*2, p)"
      ],
      "execution_count": 0,
      "outputs": []
    },
    {
      "cell_type": "markdown",
      "metadata": {
        "id": "ZUTuS6xWQlEX",
        "colab_type": "text"
      },
      "source": [
        "**Exercise 4:** The initial state for the algorithm is a uniform superposition of all the states $|q_1,...,q_n\\rangle$. Create a quantum circuit called `circuit_init` with a quantum register containing `n_qubits` qubits, and initialize the register in a uniform superposition state"
      ]
    },
    {
      "cell_type": "code",
      "metadata": {
        "ExecuteTime": {
          "end_time": "2018-11-19T20:08:18.058128Z",
          "start_time": "2018-11-19T20:08:18.050635Z"
        },
        "id": "vcDT-12hQlEX",
        "colab_type": "code",
        "colab": {}
      },
      "source": [
        "#YOUR CODE HERE\n",
        "# apply Hadamard to each qubit\n",
        "qr = QuantumRegister(n_qubits)\n",
        "circuit_init = QuantumCircuit(qr)\n",
        "for qubit in range(n_qubits):\n",
        "    circuit_init.h(qubit)"
      ],
      "execution_count": 0,
      "outputs": []
    },
    {
      "cell_type": "code",
      "metadata": {
        "id": "uuw2Ad99i3hG",
        "colab_type": "code",
        "colab": {
          "base_uri": "https://localhost:8080/",
          "height": 140
        },
        "outputId": "f793bd4a-13e4-4b5f-9de1-b91d7ec412f9"
      },
      "source": [
        "circuit_init.draw(output='mpl')"
      ],
      "execution_count": 14,
      "outputs": [
        {
          "output_type": "execute_result",
          "data": {
            "image/png": "[encoded data removed]",
            "text/plain": [
              "<Figure size 249.228x144.48 with 1 Axes>"
            ]
          },
          "metadata": {
            "tags": []
          },
          "execution_count": 14
        }
      ]
    },
    {
      "cell_type": "markdown",
      "metadata": {
        "id": "GTTrDpljQlEa",
        "colab_type": "text"
      },
      "source": [
        "Now we define a function `evolve` that takes a Hamiltonian $H$ and an angle $t$ and returns a quantum circuit component made of the unitary matrix $e^{i H t}$. For that, we use the method [`evolve`](https://qiskit.org/documentation/apidoc/aqua/operators/operators.html#qiskit.aqua.operators.WeightedPauliOperator.evolve) of the class `WeightedPauliOperator`. The arguments are:\n",
        "* **initial circuit**: if we want to build $e^{iHt} |\\psi\\rangle$ with $|\\psi\\rangle$ an initial state. Set to `None` if we just need $e^{iHt}$, as in our case (we will append the initial circuit built above only at the end, not between all the exponentials).\n",
        "* **angle**: the parameter t in $e^{iHt}$\n",
        "* **type** of the returned object: in our case, we want a 'circuit'\n",
        "* **quantum registers**: quantum register\n",
        "* **expansion_mode**: method used to compute the evolution\n",
        "* **expansion_order**: order of the approximation used for computing the evolution"
      ]
    },
    {
      "cell_type": "code",
      "metadata": {
        "ExecuteTime": {
          "end_time": "2018-11-19T20:08:18.075525Z",
          "start_time": "2018-11-19T20:08:18.059933Z"
        },
        "id": "HpD4FGykQlEb",
        "colab_type": "code",
        "colab": {}
      },
      "source": [
        "def evolve(hamiltonian, angle, qr):\n",
        "    return hamiltonian.evolve(state_in=None, \n",
        "                              evo_time=angle, \n",
        "                              num_time_slices=1,\n",
        "                              quantum_registers=qr,\n",
        "                              expansion_mode='trotter',\n",
        "                              expansion_order=3)"
      ],
      "execution_count": 0,
      "outputs": []
    },
    {
      "cell_type": "markdown",
      "metadata": {
        "id": "IZ1B_PUXQlEd",
        "colab_type": "text"
      },
      "source": [
        "To create the circuit, we need to compose the different unitary matrice given by `evolve`."
      ]
    },
    {
      "cell_type": "code",
      "metadata": {
        "ExecuteTime": {
          "end_time": "2018-11-19T20:08:18.091375Z",
          "start_time": "2018-11-19T20:08:18.077164Z"
        },
        "id": "Th-I_rvhQlEd",
        "colab_type": "code",
        "colab": {}
      },
      "source": [
        "def create_circuit(beta, gamma):\n",
        "    circuit_evolv = sum([evolve(Hc, beta[i], qr) + evolve(Hm, gamma[i], qr) for i in range(p)], \n",
        "                         circuit_init)\n",
        "    \n",
        "    return circuit_evolv"
      ],
      "execution_count": 0,
      "outputs": []
    },
    {
      "cell_type": "markdown",
      "metadata": {
        "id": "fHKG2uSvQlEf",
        "colab_type": "text"
      },
      "source": [
        "We now create a function `evaluate_circuit` that takes a single vector `gamma_beta` (the concatenation of `gamma` and `beta`) and returns $\\langle H_c \\rangle = \\langle \\psi | H_c | \\psi \\rangle$ where $\\psi$ is defined by the circuit created with the function above."
      ]
    },
    {
      "cell_type": "markdown",
      "metadata": {
        "id": "ruGrwQSPQlEf",
        "colab_type": "text"
      },
      "source": [
        "**Exercise 5:** Using the evaluation methods available for the `WeightedPauliOperator` objects compute $\\langle \\psi | H_c | \\psi\\rangle$. You need to 1. obtain a quantum circuit for evaluation based on the operator, 2. execute it against an Aer backend 3. evaluate the mean value of the hamiltonian based on the execution results."
      ]
    },
    {
      "cell_type": "code",
      "metadata": {
        "ExecuteTime": {
          "end_time": "2018-11-19T20:08:18.117855Z",
          "start_time": "2018-11-19T20:08:18.093293Z"
        },
        "id": "wP7RQRqqQlEg",
        "colab_type": "code",
        "colab": {}
      },
      "source": [
        "def evaluate_circuit(beta_gamma):\n",
        "    #YOUR CODE HERE\n",
        "    beta, gamma = beta_gamma\n",
        "    circuit = create_circuit([beta], [gamma])\n",
        "    backend = Aer.get_backend('statevector_simulator')\n",
        "    h = Hc.construct_evaluation_circuit(circuit, True, qr)\n",
        "    job = execute(h, backend)\n",
        "    results = Hc.evaluate_with_result(job.result(), True)\n",
        "    return np.real(results)"
      ],
      "execution_count": 0,
      "outputs": []
    },
    {
      "cell_type": "markdown",
      "metadata": {
        "id": "dX7UFuj-QlEi",
        "colab_type": "text"
      },
      "source": [
        "Finally, we optimize the angles with a classical optimization procedure:"
      ]
    },
    {
      "cell_type": "code",
      "metadata": {
        "ExecuteTime": {
          "end_time": "2018-11-19T20:08:37.699288Z",
          "start_time": "2018-11-19T20:08:18.119570Z"
        },
        "id": "JZuf3cAgQlEi",
        "colab_type": "code",
        "outputId": "841e7d41-4d47-4d82-91d7-d0cb356967f5",
        "colab": {
          "base_uri": "https://localhost:8080/",
          "height": 1000
        }
      },
      "source": [
        "result = minimize(evaluate_circuit, np.concatenate([beta, gamma]), method='COBYLA') #'L-BFGS-B'\n",
        "result "
      ],
      "execution_count": 18,
      "outputs": [
        {
          "output_type": "stream",
          "text": [
            "/usr/local/lib/python3.6/dist-packages/qiskit/aqua/operators/common.py:258: DeprecationWarning: The Pauli.numberofqubits method is deprecated as of 0.13.0, and will be removed no earlier than 3 months after that release date. You should use the Pauli.num_qubits method instead.\n",
            "  state_registers = QuantumRegister(pauli_list[0][1].numberofqubits)\n",
            "/usr/local/lib/python3.6/dist-packages/qiskit/aqua/operators/common.py:273: DeprecationWarning: The Pauli.numberofqubits method is deprecated as of 0.13.0, and will be removed no earlier than 3 months after that release date. You should use the Pauli.num_qubits method instead.\n",
            "  n_qubits = pauli[1].numberofqubits\n",
            "/usr/local/lib/python3.6/dist-packages/qiskit/aqua/operators/common.py:258: DeprecationWarning: The Pauli.numberofqubits method is deprecated as of 0.13.0, and will be removed no earlier than 3 months after that release date. You should use the Pauli.num_qubits method instead.\n",
            "  state_registers = QuantumRegister(pauli_list[0][1].numberofqubits)\n",
            "/usr/local/lib/python3.6/dist-packages/qiskit/aqua/operators/common.py:273: DeprecationWarning: The Pauli.numberofqubits method is deprecated as of 0.13.0, and will be removed no earlier than 3 months after that release date. You should use the Pauli.num_qubits method instead.\n",
            "  n_qubits = pauli[1].numberofqubits\n",
            "/usr/local/lib/python3.6/dist-packages/qiskit/aqua/operators/common.py:273: DeprecationWarning: The Pauli.numberofqubits method is deprecated as of 0.13.0, and will be removed no earlier than 3 months after that release date. You should use the Pauli.num_qubits method instead.\n",
            "  n_qubits = pauli[1].numberofqubits\n",
            "/usr/local/lib/python3.6/dist-packages/qiskit/aqua/operators/weighted_pauli_operator.py:118: DeprecationWarning: The Pauli.numberofqubits method is deprecated as of 0.13.0, and will be removed no earlier than 3 months after that release date. You should use the Pauli.num_qubits method instead.\n",
            "  return self._paulis[0][1].numberofqubits\n",
            "/usr/local/lib/python3.6/dist-packages/qiskit/aqua/operators/weighted_pauli_operator.py:118: DeprecationWarning: The Pauli.numberofqubits method is deprecated as of 0.13.0, and will be removed no earlier than 3 months after that release date. You should use the Pauli.num_qubits method instead.\n",
            "  return self._paulis[0][1].numberofqubits\n",
            "/usr/local/lib/python3.6/dist-packages/qiskit/aqua/operators/weighted_pauli_operator.py:118: DeprecationWarning: The Pauli.numberofqubits method is deprecated as of 0.13.0, and will be removed no earlier than 3 months after that release date. You should use the Pauli.num_qubits method instead.\n",
            "  return self._paulis[0][1].numberofqubits\n",
            "/usr/local/lib/python3.6/dist-packages/qiskit/aqua/operators/weighted_pauli_operator.py:118: DeprecationWarning: The Pauli.numberofqubits method is deprecated as of 0.13.0, and will be removed no earlier than 3 months after that release date. You should use the Pauli.num_qubits method instead.\n",
            "  return self._paulis[0][1].numberofqubits\n",
            "/usr/local/lib/python3.6/dist-packages/qiskit/aqua/operators/common.py:258: DeprecationWarning: The Pauli.numberofqubits method is deprecated as of 0.13.0, and will be removed no earlier than 3 months after that release date. You should use the Pauli.num_qubits method instead.\n",
            "  state_registers = QuantumRegister(pauli_list[0][1].numberofqubits)\n",
            "/usr/local/lib/python3.6/dist-packages/qiskit/aqua/operators/common.py:273: DeprecationWarning: The Pauli.numberofqubits method is deprecated as of 0.13.0, and will be removed no earlier than 3 months after that release date. You should use the Pauli.num_qubits method instead.\n",
            "  n_qubits = pauli[1].numberofqubits\n",
            "/usr/local/lib/python3.6/dist-packages/qiskit/aqua/operators/common.py:258: DeprecationWarning: The Pauli.numberofqubits method is deprecated as of 0.13.0, and will be removed no earlier than 3 months after that release date. You should use the Pauli.num_qubits method instead.\n",
            "  state_registers = QuantumRegister(pauli_list[0][1].numberofqubits)\n",
            "/usr/local/lib/python3.6/dist-packages/qiskit/aqua/operators/common.py:273: DeprecationWarning: The Pauli.numberofqubits method is deprecated as of 0.13.0, and will be removed no earlier than 3 months after that release date. You should use the Pauli.num_qubits method instead.\n",
            "  n_qubits = pauli[1].numberofqubits\n",
            "/usr/local/lib/python3.6/dist-packages/qiskit/aqua/operators/common.py:273: DeprecationWarning: The Pauli.numberofqubits method is deprecated as of 0.13.0, and will be removed no earlier than 3 months after that release date. You should use the Pauli.num_qubits method instead.\n",
            "  n_qubits = pauli[1].numberofqubits\n",
            "/usr/local/lib/python3.6/dist-packages/qiskit/aqua/operators/weighted_pauli_operator.py:118: DeprecationWarning: The Pauli.numberofqubits method is deprecated as of 0.13.0, and will be removed no earlier than 3 months after that release date. You should use the Pauli.num_qubits method instead.\n",
            "  return self._paulis[0][1].numberofqubits\n",
            "/usr/local/lib/python3.6/dist-packages/qiskit/aqua/operators/weighted_pauli_operator.py:118: DeprecationWarning: The Pauli.numberofqubits method is deprecated as of 0.13.0, and will be removed no earlier than 3 months after that release date. You should use the Pauli.num_qubits method instead.\n",
            "  return self._paulis[0][1].numberofqubits\n",
            "/usr/local/lib/python3.6/dist-packages/qiskit/aqua/operators/weighted_pauli_operator.py:118: DeprecationWarning: The Pauli.numberofqubits method is deprecated as of 0.13.0, and will be removed no earlier than 3 months after that release date. You should use the Pauli.num_qubits method instead.\n",
            "  return self._paulis[0][1].numberofqubits\n",
            "/usr/local/lib/python3.6/dist-packages/qiskit/aqua/operators/weighted_pauli_operator.py:118: DeprecationWarning: The Pauli.numberofqubits method is deprecated as of 0.13.0, and will be removed no earlier than 3 months after that release date. You should use the Pauli.num_qubits method instead.\n",
            "  return self._paulis[0][1].numberofqubits\n",
            "/usr/local/lib/python3.6/dist-packages/qiskit/aqua/operators/common.py:258: DeprecationWarning: The Pauli.numberofqubits method is deprecated as of 0.13.0, and will be removed no earlier than 3 months after that release date. You should use the Pauli.num_qubits method instead.\n",
            "  state_registers = QuantumRegister(pauli_list[0][1].numberofqubits)\n",
            "/usr/local/lib/python3.6/dist-packages/qiskit/aqua/operators/common.py:273: DeprecationWarning: The Pauli.numberofqubits method is deprecated as of 0.13.0, and will be removed no earlier than 3 months after that release date. You should use the Pauli.num_qubits method instead.\n",
            "  n_qubits = pauli[1].numberofqubits\n",
            "/usr/local/lib/python3.6/dist-packages/qiskit/aqua/operators/common.py:258: DeprecationWarning: The Pauli.numberofqubits method is deprecated as of 0.13.0, and will be removed no earlier than 3 months after that release date. You should use the Pauli.num_qubits method instead.\n",
            "  state_registers = QuantumRegister(pauli_list[0][1].numberofqubits)\n",
            "/usr/local/lib/python3.6/dist-packages/qiskit/aqua/operators/common.py:273: DeprecationWarning: The Pauli.numberofqubits method is deprecated as of 0.13.0, and will be removed no earlier than 3 months after that release date. You should use the Pauli.num_qubits method instead.\n",
            "  n_qubits = pauli[1].numberofqubits\n",
            "/usr/local/lib/python3.6/dist-packages/qiskit/aqua/operators/common.py:273: DeprecationWarning: The Pauli.numberofqubits method is deprecated as of 0.13.0, and will be removed no earlier than 3 months after that release date. You should use the Pauli.num_qubits method instead.\n",
            "  n_qubits = pauli[1].numberofqubits\n",
            "/usr/local/lib/python3.6/dist-packages/qiskit/aqua/operators/weighted_pauli_operator.py:118: DeprecationWarning: The Pauli.numberofqubits method is deprecated as of 0.13.0, and will be removed no earlier than 3 months after that release date. You should use the Pauli.num_qubits method instead.\n",
            "  return self._paulis[0][1].numberofqubits\n",
            "/usr/local/lib/python3.6/dist-packages/qiskit/aqua/operators/weighted_pauli_operator.py:118: DeprecationWarning: The Pauli.numberofqubits method is deprecated as of 0.13.0, and will be removed no earlier than 3 months after that release date. You should use the Pauli.num_qubits method instead.\n",
            "  return self._paulis[0][1].numberofqubits\n",
            "/usr/local/lib/python3.6/dist-packages/qiskit/aqua/operators/weighted_pauli_operator.py:118: DeprecationWarning: The Pauli.numberofqubits method is deprecated as of 0.13.0, and will be removed no earlier than 3 months after that release date. You should use the Pauli.num_qubits method instead.\n",
            "  return self._paulis[0][1].numberofqubits\n",
            "/usr/local/lib/python3.6/dist-packages/qiskit/aqua/operators/weighted_pauli_operator.py:118: DeprecationWarning: The Pauli.numberofqubits method is deprecated as of 0.13.0, and will be removed no earlier than 3 months after that release date. You should use the Pauli.num_qubits method instead.\n",
            "  return self._paulis[0][1].numberofqubits\n",
            "/usr/local/lib/python3.6/dist-packages/qiskit/aqua/operators/common.py:258: DeprecationWarning: The Pauli.numberofqubits method is deprecated as of 0.13.0, and will be removed no earlier than 3 months after that release date. You should use the Pauli.num_qubits method instead.\n",
            "  state_registers = QuantumRegister(pauli_list[0][1].numberofqubits)\n",
            "/usr/local/lib/python3.6/dist-packages/qiskit/aqua/operators/common.py:273: DeprecationWarning: The Pauli.numberofqubits method is deprecated as of 0.13.0, and will be removed no earlier than 3 months after that release date. You should use the Pauli.num_qubits method instead.\n",
            "  n_qubits = pauli[1].numberofqubits\n",
            "/usr/local/lib/python3.6/dist-packages/qiskit/aqua/operators/common.py:258: DeprecationWarning: The Pauli.numberofqubits method is deprecated as of 0.13.0, and will be removed no earlier than 3 months after that release date. You should use the Pauli.num_qubits method instead.\n",
            "  state_registers = QuantumRegister(pauli_list[0][1].numberofqubits)\n",
            "/usr/local/lib/python3.6/dist-packages/qiskit/aqua/operators/common.py:273: DeprecationWarning: The Pauli.numberofqubits method is deprecated as of 0.13.0, and will be removed no earlier than 3 months after that release date. You should use the Pauli.num_qubits method instead.\n",
            "  n_qubits = pauli[1].numberofqubits\n",
            "/usr/local/lib/python3.6/dist-packages/qiskit/aqua/operators/common.py:273: DeprecationWarning: The Pauli.numberofqubits method is deprecated as of 0.13.0, and will be removed no earlier than 3 months after that release date. You should use the Pauli.num_qubits method instead.\n",
            "  n_qubits = pauli[1].numberofqubits\n",
            "/usr/local/lib/python3.6/dist-packages/qiskit/aqua/operators/weighted_pauli_operator.py:118: DeprecationWarning: The Pauli.numberofqubits method is deprecated as of 0.13.0, and will be removed no earlier than 3 months after that release date. You should use the Pauli.num_qubits method instead.\n",
            "  return self._paulis[0][1].numberofqubits\n",
            "/usr/local/lib/python3.6/dist-packages/qiskit/aqua/operators/weighted_pauli_operator.py:118: DeprecationWarning: The Pauli.numberofqubits method is deprecated as of 0.13.0, and will be removed no earlier than 3 months after that release date. You should use the Pauli.num_qubits method instead.\n",
            "  return self._paulis[0][1].numberofqubits\n",
            "/usr/local/lib/python3.6/dist-packages/qiskit/aqua/operators/weighted_pauli_operator.py:118: DeprecationWarning: The Pauli.numberofqubits method is deprecated as of 0.13.0, and will be removed no earlier than 3 months after that release date. You should use the Pauli.num_qubits method instead.\n",
            "  return self._paulis[0][1].numberofqubits\n",
            "/usr/local/lib/python3.6/dist-packages/qiskit/aqua/operators/weighted_pauli_operator.py:118: DeprecationWarning: The Pauli.numberofqubits method is deprecated as of 0.13.0, and will be removed no earlier than 3 months after that release date. You should use the Pauli.num_qubits method instead.\n",
            "  return self._paulis[0][1].numberofqubits\n",
            "/usr/local/lib/python3.6/dist-packages/qiskit/aqua/operators/common.py:258: DeprecationWarning: The Pauli.numberofqubits method is deprecated as of 0.13.0, and will be removed no earlier than 3 months after that release date. You should use the Pauli.num_qubits method instead.\n",
            "  state_registers = QuantumRegister(pauli_list[0][1].numberofqubits)\n",
            "/usr/local/lib/python3.6/dist-packages/qiskit/aqua/operators/common.py:273: DeprecationWarning: The Pauli.numberofqubits method is deprecated as of 0.13.0, and will be removed no earlier than 3 months after that release date. You should use the Pauli.num_qubits method instead.\n",
            "  n_qubits = pauli[1].numberofqubits\n",
            "/usr/local/lib/python3.6/dist-packages/qiskit/aqua/operators/common.py:258: DeprecationWarning: The Pauli.numberofqubits method is deprecated as of 0.13.0, and will be removed no earlier than 3 months after that release date. You should use the Pauli.num_qubits method instead.\n",
            "  state_registers = QuantumRegister(pauli_list[0][1].numberofqubits)\n",
            "/usr/local/lib/python3.6/dist-packages/qiskit/aqua/operators/common.py:273: DeprecationWarning: The Pauli.numberofqubits method is deprecated as of 0.13.0, and will be removed no earlier than 3 months after that release date. You should use the Pauli.num_qubits method instead.\n",
            "  n_qubits = pauli[1].numberofqubits\n",
            "/usr/local/lib/python3.6/dist-packages/qiskit/aqua/operators/common.py:273: DeprecationWarning: The Pauli.numberofqubits method is deprecated as of 0.13.0, and will be removed no earlier than 3 months after that release date. You should use the Pauli.num_qubits method instead.\n",
            "  n_qubits = pauli[1].numberofqubits\n",
            "/usr/local/lib/python3.6/dist-packages/qiskit/aqua/operators/weighted_pauli_operator.py:118: DeprecationWarning: The Pauli.numberofqubits method is deprecated as of 0.13.0, and will be removed no earlier than 3 months after that release date. You should use the Pauli.num_qubits method instead.\n",
            "  return self._paulis[0][1].numberofqubits\n",
            "/usr/local/lib/python3.6/dist-packages/qiskit/aqua/operators/weighted_pauli_operator.py:118: DeprecationWarning: The Pauli.numberofqubits method is deprecated as of 0.13.0, and will be removed no earlier than 3 months after that release date. You should use the Pauli.num_qubits method instead.\n",
            "  return self._paulis[0][1].numberofqubits\n",
            "/usr/local/lib/python3.6/dist-packages/qiskit/aqua/operators/weighted_pauli_operator.py:118: DeprecationWarning: The Pauli.numberofqubits method is deprecated as of 0.13.0, and will be removed no earlier than 3 months after that release date. You should use the Pauli.num_qubits method instead.\n",
            "  return self._paulis[0][1].numberofqubits\n",
            "/usr/local/lib/python3.6/dist-packages/qiskit/aqua/operators/weighted_pauli_operator.py:118: DeprecationWarning: The Pauli.numberofqubits method is deprecated as of 0.13.0, and will be removed no earlier than 3 months after that release date. You should use the Pauli.num_qubits method instead.\n",
            "  return self._paulis[0][1].numberofqubits\n",
            "/usr/local/lib/python3.6/dist-packages/qiskit/aqua/operators/common.py:258: DeprecationWarning: The Pauli.numberofqubits method is deprecated as of 0.13.0, and will be removed no earlier than 3 months after that release date. You should use the Pauli.num_qubits method instead.\n",
            "  state_registers = QuantumRegister(pauli_list[0][1].numberofqubits)\n",
            "/usr/local/lib/python3.6/dist-packages/qiskit/aqua/operators/common.py:273: DeprecationWarning: The Pauli.numberofqubits method is deprecated as of 0.13.0, and will be removed no earlier than 3 months after that release date. You should use the Pauli.num_qubits method instead.\n",
            "  n_qubits = pauli[1].numberofqubits\n",
            "/usr/local/lib/python3.6/dist-packages/qiskit/aqua/operators/common.py:258: DeprecationWarning: The Pauli.numberofqubits method is deprecated as of 0.13.0, and will be removed no earlier than 3 months after that release date. You should use the Pauli.num_qubits method instead.\n",
            "  state_registers = QuantumRegister(pauli_list[0][1].numberofqubits)\n",
            "/usr/local/lib/python3.6/dist-packages/qiskit/aqua/operators/common.py:273: DeprecationWarning: The Pauli.numberofqubits method is deprecated as of 0.13.0, and will be removed no earlier than 3 months after that release date. You should use the Pauli.num_qubits method instead.\n",
            "  n_qubits = pauli[1].numberofqubits\n",
            "/usr/local/lib/python3.6/dist-packages/qiskit/aqua/operators/common.py:273: DeprecationWarning: The Pauli.numberofqubits method is deprecated as of 0.13.0, and will be removed no earlier than 3 months after that release date. You should use the Pauli.num_qubits method instead.\n",
            "  n_qubits = pauli[1].numberofqubits\n",
            "/usr/local/lib/python3.6/dist-packages/qiskit/aqua/operators/weighted_pauli_operator.py:118: DeprecationWarning: The Pauli.numberofqubits method is deprecated as of 0.13.0, and will be removed no earlier than 3 months after that release date. You should use the Pauli.num_qubits method instead.\n",
            "  return self._paulis[0][1].numberofqubits\n",
            "/usr/local/lib/python3.6/dist-packages/qiskit/aqua/operators/weighted_pauli_operator.py:118: DeprecationWarning: The Pauli.numberofqubits method is deprecated as of 0.13.0, and will be removed no earlier than 3 months after that release date. You should use the Pauli.num_qubits method instead.\n",
            "  return self._paulis[0][1].numberofqubits\n",
            "/usr/local/lib/python3.6/dist-packages/qiskit/aqua/operators/weighted_pauli_operator.py:118: DeprecationWarning: The Pauli.numberofqubits method is deprecated as of 0.13.0, and will be removed no earlier than 3 months after that release date. You should use the Pauli.num_qubits method instead.\n",
            "  return self._paulis[0][1].numberofqubits\n",
            "/usr/local/lib/python3.6/dist-packages/qiskit/aqua/operators/weighted_pauli_operator.py:118: DeprecationWarning: The Pauli.numberofqubits method is deprecated as of 0.13.0, and will be removed no earlier than 3 months after that release date. You should use the Pauli.num_qubits method instead.\n",
            "  return self._paulis[0][1].numberofqubits\n",
            "/usr/local/lib/python3.6/dist-packages/qiskit/aqua/operators/common.py:258: DeprecationWarning: The Pauli.numberofqubits method is deprecated as of 0.13.0, and will be removed no earlier than 3 months after that release date. You should use the Pauli.num_qubits method instead.\n",
            "  state_registers = QuantumRegister(pauli_list[0][1].numberofqubits)\n",
            "/usr/local/lib/python3.6/dist-packages/qiskit/aqua/operators/common.py:273: DeprecationWarning: The Pauli.numberofqubits method is deprecated as of 0.13.0, and will be removed no earlier than 3 months after that release date. You should use the Pauli.num_qubits method instead.\n",
            "  n_qubits = pauli[1].numberofqubits\n",
            "/usr/local/lib/python3.6/dist-packages/qiskit/aqua/operators/common.py:258: DeprecationWarning: The Pauli.numberofqubits method is deprecated as of 0.13.0, and will be removed no earlier than 3 months after that release date. You should use the Pauli.num_qubits method instead.\n",
            "  state_registers = QuantumRegister(pauli_list[0][1].numberofqubits)\n",
            "/usr/local/lib/python3.6/dist-packages/qiskit/aqua/operators/common.py:273: DeprecationWarning: The Pauli.numberofqubits method is deprecated as of 0.13.0, and will be removed no earlier than 3 months after that release date. You should use the Pauli.num_qubits method instead.\n",
            "  n_qubits = pauli[1].numberofqubits\n",
            "/usr/local/lib/python3.6/dist-packages/qiskit/aqua/operators/common.py:273: DeprecationWarning: The Pauli.numberofqubits method is deprecated as of 0.13.0, and will be removed no earlier than 3 months after that release date. You should use the Pauli.num_qubits method instead.\n",
            "  n_qubits = pauli[1].numberofqubits\n",
            "/usr/local/lib/python3.6/dist-packages/qiskit/aqua/operators/weighted_pauli_operator.py:118: DeprecationWarning: The Pauli.numberofqubits method is deprecated as of 0.13.0, and will be removed no earlier than 3 months after that release date. You should use the Pauli.num_qubits method instead.\n",
            "  return self._paulis[0][1].numberofqubits\n",
            "/usr/local/lib/python3.6/dist-packages/qiskit/aqua/operators/weighted_pauli_operator.py:118: DeprecationWarning: The Pauli.numberofqubits method is deprecated as of 0.13.0, and will be removed no earlier than 3 months after that release date. You should use the Pauli.num_qubits method instead.\n",
            "  return self._paulis[0][1].numberofqubits\n",
            "/usr/local/lib/python3.6/dist-packages/qiskit/aqua/operators/weighted_pauli_operator.py:118: DeprecationWarning: The Pauli.numberofqubits method is deprecated as of 0.13.0, and will be removed no earlier than 3 months after that release date. You should use the Pauli.num_qubits method instead.\n",
            "  return self._paulis[0][1].numberofqubits\n",
            "/usr/local/lib/python3.6/dist-packages/qiskit/aqua/operators/weighted_pauli_operator.py:118: DeprecationWarning: The Pauli.numberofqubits method is deprecated as of 0.13.0, and will be removed no earlier than 3 months after that release date. You should use the Pauli.num_qubits method instead.\n",
            "  return self._paulis[0][1].numberofqubits\n",
            "/usr/local/lib/python3.6/dist-packages/qiskit/aqua/operators/common.py:258: DeprecationWarning: The Pauli.numberofqubits method is deprecated as of 0.13.0, and will be removed no earlier than 3 months after that release date. You should use the Pauli.num_qubits method instead.\n",
            "  state_registers = QuantumRegister(pauli_list[0][1].numberofqubits)\n",
            "/usr/local/lib/python3.6/dist-packages/qiskit/aqua/operators/common.py:273: DeprecationWarning: The Pauli.numberofqubits method is deprecated as of 0.13.0, and will be removed no earlier than 3 months after that release date. You should use the Pauli.num_qubits method instead.\n",
            "  n_qubits = pauli[1].numberofqubits\n",
            "/usr/local/lib/python3.6/dist-packages/qiskit/aqua/operators/common.py:258: DeprecationWarning: The Pauli.numberofqubits method is deprecated as of 0.13.0, and will be removed no earlier than 3 months after that release date. You should use the Pauli.num_qubits method instead.\n",
            "  state_registers = QuantumRegister(pauli_list[0][1].numberofqubits)\n",
            "/usr/local/lib/python3.6/dist-packages/qiskit/aqua/operators/common.py:273: DeprecationWarning: The Pauli.numberofqubits method is deprecated as of 0.13.0, and will be removed no earlier than 3 months after that release date. You should use the Pauli.num_qubits method instead.\n",
            "  n_qubits = pauli[1].numberofqubits\n",
            "/usr/local/lib/python3.6/dist-packages/qiskit/aqua/operators/common.py:273: DeprecationWarning: The Pauli.numberofqubits method is deprecated as of 0.13.0, and will be removed no earlier than 3 months after that release date. You should use the Pauli.num_qubits method instead.\n",
            "  n_qubits = pauli[1].numberofqubits\n",
            "/usr/local/lib/python3.6/dist-packages/qiskit/aqua/operators/weighted_pauli_operator.py:118: DeprecationWarning: The Pauli.numberofqubits method is deprecated as of 0.13.0, and will be removed no earlier than 3 months after that release date. You should use the Pauli.num_qubits method instead.\n",
            "  return self._paulis[0][1].numberofqubits\n",
            "/usr/local/lib/python3.6/dist-packages/qiskit/aqua/operators/weighted_pauli_operator.py:118: DeprecationWarning: The Pauli.numberofqubits method is deprecated as of 0.13.0, and will be removed no earlier than 3 months after that release date. You should use the Pauli.num_qubits method instead.\n",
            "  return self._paulis[0][1].numberofqubits\n",
            "/usr/local/lib/python3.6/dist-packages/qiskit/aqua/operators/weighted_pauli_operator.py:118: DeprecationWarning: The Pauli.numberofqubits method is deprecated as of 0.13.0, and will be removed no earlier than 3 months after that release date. You should use the Pauli.num_qubits method instead.\n",
            "  return self._paulis[0][1].numberofqubits\n",
            "/usr/local/lib/python3.6/dist-packages/qiskit/aqua/operators/weighted_pauli_operator.py:118: DeprecationWarning: The Pauli.numberofqubits method is deprecated as of 0.13.0, and will be removed no earlier than 3 months after that release date. You should use the Pauli.num_qubits method instead.\n",
            "  return self._paulis[0][1].numberofqubits\n",
            "/usr/local/lib/python3.6/dist-packages/qiskit/aqua/operators/common.py:258: DeprecationWarning: The Pauli.numberofqubits method is deprecated as of 0.13.0, and will be removed no earlier than 3 months after that release date. You should use the Pauli.num_qubits method instead.\n",
            "  state_registers = QuantumRegister(pauli_list[0][1].numberofqubits)\n",
            "/usr/local/lib/python3.6/dist-packages/qiskit/aqua/operators/common.py:273: DeprecationWarning: The Pauli.numberofqubits method is deprecated as of 0.13.0, and will be removed no earlier than 3 months after that release date. You should use the Pauli.num_qubits method instead.\n",
            "  n_qubits = pauli[1].numberofqubits\n",
            "/usr/local/lib/python3.6/dist-packages/qiskit/aqua/operators/common.py:258: DeprecationWarning: The Pauli.numberofqubits method is deprecated as of 0.13.0, and will be removed no earlier than 3 months after that release date. You should use the Pauli.num_qubits method instead.\n",
            "  state_registers = QuantumRegister(pauli_list[0][1].numberofqubits)\n",
            "/usr/local/lib/python3.6/dist-packages/qiskit/aqua/operators/common.py:273: DeprecationWarning: The Pauli.numberofqubits method is deprecated as of 0.13.0, and will be removed no earlier than 3 months after that release date. You should use the Pauli.num_qubits method instead.\n",
            "  n_qubits = pauli[1].numberofqubits\n",
            "/usr/local/lib/python3.6/dist-packages/qiskit/aqua/operators/common.py:273: DeprecationWarning: The Pauli.numberofqubits method is deprecated as of 0.13.0, and will be removed no earlier than 3 months after that release date. You should use the Pauli.num_qubits method instead.\n",
            "  n_qubits = pauli[1].numberofqubits\n",
            "/usr/local/lib/python3.6/dist-packages/qiskit/aqua/operators/weighted_pauli_operator.py:118: DeprecationWarning: The Pauli.numberofqubits method is deprecated as of 0.13.0, and will be removed no earlier than 3 months after that release date. You should use the Pauli.num_qubits method instead.\n",
            "  return self._paulis[0][1].numberofqubits\n",
            "/usr/local/lib/python3.6/dist-packages/qiskit/aqua/operators/weighted_pauli_operator.py:118: DeprecationWarning: The Pauli.numberofqubits method is deprecated as of 0.13.0, and will be removed no earlier than 3 months after that release date. You should use the Pauli.num_qubits method instead.\n",
            "  return self._paulis[0][1].numberofqubits\n",
            "/usr/local/lib/python3.6/dist-packages/qiskit/aqua/operators/weighted_pauli_operator.py:118: DeprecationWarning: The Pauli.numberofqubits method is deprecated as of 0.13.0, and will be removed no earlier than 3 months after that release date. You should use the Pauli.num_qubits method instead.\n",
            "  return self._paulis[0][1].numberofqubits\n",
            "/usr/local/lib/python3.6/dist-packages/qiskit/aqua/operators/weighted_pauli_operator.py:118: DeprecationWarning: The Pauli.numberofqubits method is deprecated as of 0.13.0, and will be removed no earlier than 3 months after that release date. You should use the Pauli.num_qubits method instead.\n",
            "  return self._paulis[0][1].numberofqubits\n",
            "/usr/local/lib/python3.6/dist-packages/qiskit/aqua/operators/common.py:258: DeprecationWarning: The Pauli.numberofqubits method is deprecated as of 0.13.0, and will be removed no earlier than 3 months after that release date. You should use the Pauli.num_qubits method instead.\n",
            "  state_registers = QuantumRegister(pauli_list[0][1].numberofqubits)\n",
            "/usr/local/lib/python3.6/dist-packages/qiskit/aqua/operators/common.py:273: DeprecationWarning: The Pauli.numberofqubits method is deprecated as of 0.13.0, and will be removed no earlier than 3 months after that release date. You should use the Pauli.num_qubits method instead.\n",
            "  n_qubits = pauli[1].numberofqubits\n",
            "/usr/local/lib/python3.6/dist-packages/qiskit/aqua/operators/common.py:258: DeprecationWarning: The Pauli.numberofqubits method is deprecated as of 0.13.0, and will be removed no earlier than 3 months after that release date. You should use the Pauli.num_qubits method instead.\n",
            "  state_registers = QuantumRegister(pauli_list[0][1].numberofqubits)\n",
            "/usr/local/lib/python3.6/dist-packages/qiskit/aqua/operators/common.py:273: DeprecationWarning: The Pauli.numberofqubits method is deprecated as of 0.13.0, and will be removed no earlier than 3 months after that release date. You should use the Pauli.num_qubits method instead.\n",
            "  n_qubits = pauli[1].numberofqubits\n",
            "/usr/local/lib/python3.6/dist-packages/qiskit/aqua/operators/common.py:273: DeprecationWarning: The Pauli.numberofqubits method is deprecated as of 0.13.0, and will be removed no earlier than 3 months after that release date. You should use the Pauli.num_qubits method instead.\n",
            "  n_qubits = pauli[1].numberofqubits\n",
            "/usr/local/lib/python3.6/dist-packages/qiskit/aqua/operators/weighted_pauli_operator.py:118: DeprecationWarning: The Pauli.numberofqubits method is deprecated as of 0.13.0, and will be removed no earlier than 3 months after that release date. You should use the Pauli.num_qubits method instead.\n",
            "  return self._paulis[0][1].numberofqubits\n",
            "/usr/local/lib/python3.6/dist-packages/qiskit/aqua/operators/weighted_pauli_operator.py:118: DeprecationWarning: The Pauli.numberofqubits method is deprecated as of 0.13.0, and will be removed no earlier than 3 months after that release date. You should use the Pauli.num_qubits method instead.\n",
            "  return self._paulis[0][1].numberofqubits\n",
            "/usr/local/lib/python3.6/dist-packages/qiskit/aqua/operators/weighted_pauli_operator.py:118: DeprecationWarning: The Pauli.numberofqubits method is deprecated as of 0.13.0, and will be removed no earlier than 3 months after that release date. You should use the Pauli.num_qubits method instead.\n",
            "  return self._paulis[0][1].numberofqubits\n",
            "/usr/local/lib/python3.6/dist-packages/qiskit/aqua/operators/weighted_pauli_operator.py:118: DeprecationWarning: The Pauli.numberofqubits method is deprecated as of 0.13.0, and will be removed no earlier than 3 months after that release date. You should use the Pauli.num_qubits method instead.\n",
            "  return self._paulis[0][1].numberofqubits\n",
            "/usr/local/lib/python3.6/dist-packages/qiskit/aqua/operators/common.py:258: DeprecationWarning: The Pauli.numberofqubits method is deprecated as of 0.13.0, and will be removed no earlier than 3 months after that release date. You should use the Pauli.num_qubits method instead.\n",
            "  state_registers = QuantumRegister(pauli_list[0][1].numberofqubits)\n",
            "/usr/local/lib/python3.6/dist-packages/qiskit/aqua/operators/common.py:273: DeprecationWarning: The Pauli.numberofqubits method is deprecated as of 0.13.0, and will be removed no earlier than 3 months after that release date. You should use the Pauli.num_qubits method instead.\n",
            "  n_qubits = pauli[1].numberofqubits\n",
            "/usr/local/lib/python3.6/dist-packages/qiskit/aqua/operators/common.py:258: DeprecationWarning: The Pauli.numberofqubits method is deprecated as of 0.13.0, and will be removed no earlier than 3 months after that release date. You should use the Pauli.num_qubits method instead.\n",
            "  state_registers = QuantumRegister(pauli_list[0][1].numberofqubits)\n",
            "/usr/local/lib/python3.6/dist-packages/qiskit/aqua/operators/common.py:273: DeprecationWarning: The Pauli.numberofqubits method is deprecated as of 0.13.0, and will be removed no earlier than 3 months after that release date. You should use the Pauli.num_qubits method instead.\n",
            "  n_qubits = pauli[1].numberofqubits\n",
            "/usr/local/lib/python3.6/dist-packages/qiskit/aqua/operators/common.py:273: DeprecationWarning: The Pauli.numberofqubits method is deprecated as of 0.13.0, and will be removed no earlier than 3 months after that release date. You should use the Pauli.num_qubits method instead.\n",
            "  n_qubits = pauli[1].numberofqubits\n",
            "/usr/local/lib/python3.6/dist-packages/qiskit/aqua/operators/weighted_pauli_operator.py:118: DeprecationWarning: The Pauli.numberofqubits method is deprecated as of 0.13.0, and will be removed no earlier than 3 months after that release date. You should use the Pauli.num_qubits method instead.\n",
            "  return self._paulis[0][1].numberofqubits\n",
            "/usr/local/lib/python3.6/dist-packages/qiskit/aqua/operators/weighted_pauli_operator.py:118: DeprecationWarning: The Pauli.numberofqubits method is deprecated as of 0.13.0, and will be removed no earlier than 3 months after that release date. You should use the Pauli.num_qubits method instead.\n",
            "  return self._paulis[0][1].numberofqubits\n",
            "/usr/local/lib/python3.6/dist-packages/qiskit/aqua/operators/weighted_pauli_operator.py:118: DeprecationWarning: The Pauli.numberofqubits method is deprecated as of 0.13.0, and will be removed no earlier than 3 months after that release date. You should use the Pauli.num_qubits method instead.\n",
            "  return self._paulis[0][1].numberofqubits\n",
            "/usr/local/lib/python3.6/dist-packages/qiskit/aqua/operators/weighted_pauli_operator.py:118: DeprecationWarning: The Pauli.numberofqubits method is deprecated as of 0.13.0, and will be removed no earlier than 3 months after that release date. You should use the Pauli.num_qubits method instead.\n",
            "  return self._paulis[0][1].numberofqubits\n",
            "/usr/local/lib/python3.6/dist-packages/qiskit/aqua/operators/common.py:258: DeprecationWarning: The Pauli.numberofqubits method is deprecated as of 0.13.0, and will be removed no earlier than 3 months after that release date. You should use the Pauli.num_qubits method instead.\n",
            "  state_registers = QuantumRegister(pauli_list[0][1].numberofqubits)\n",
            "/usr/local/lib/python3.6/dist-packages/qiskit/aqua/operators/common.py:273: DeprecationWarning: The Pauli.numberofqubits method is deprecated as of 0.13.0, and will be removed no earlier than 3 months after that release date. You should use the Pauli.num_qubits method instead.\n",
            "  n_qubits = pauli[1].numberofqubits\n",
            "/usr/local/lib/python3.6/dist-packages/qiskit/aqua/operators/common.py:258: DeprecationWarning: The Pauli.numberofqubits method is deprecated as of 0.13.0, and will be removed no earlier than 3 months after that release date. You should use the Pauli.num_qubits method instead.\n",
            "  state_registers = QuantumRegister(pauli_list[0][1].numberofqubits)\n",
            "/usr/local/lib/python3.6/dist-packages/qiskit/aqua/operators/common.py:273: DeprecationWarning: The Pauli.numberofqubits method is deprecated as of 0.13.0, and will be removed no earlier than 3 months after that release date. You should use the Pauli.num_qubits method instead.\n",
            "  n_qubits = pauli[1].numberofqubits\n",
            "/usr/local/lib/python3.6/dist-packages/qiskit/aqua/operators/common.py:273: DeprecationWarning: The Pauli.numberofqubits method is deprecated as of 0.13.0, and will be removed no earlier than 3 months after that release date. You should use the Pauli.num_qubits method instead.\n",
            "  n_qubits = pauli[1].numberofqubits\n",
            "/usr/local/lib/python3.6/dist-packages/qiskit/aqua/operators/weighted_pauli_operator.py:118: DeprecationWarning: The Pauli.numberofqubits method is deprecated as of 0.13.0, and will be removed no earlier than 3 months after that release date. You should use the Pauli.num_qubits method instead.\n",
            "  return self._paulis[0][1].numberofqubits\n",
            "/usr/local/lib/python3.6/dist-packages/qiskit/aqua/operators/weighted_pauli_operator.py:118: DeprecationWarning: The Pauli.numberofqubits method is deprecated as of 0.13.0, and will be removed no earlier than 3 months after that release date. You should use the Pauli.num_qubits method instead.\n",
            "  return self._paulis[0][1].numberofqubits\n",
            "/usr/local/lib/python3.6/dist-packages/qiskit/aqua/operators/weighted_pauli_operator.py:118: DeprecationWarning: The Pauli.numberofqubits method is deprecated as of 0.13.0, and will be removed no earlier than 3 months after that release date. You should use the Pauli.num_qubits method instead.\n",
            "  return self._paulis[0][1].numberofqubits\n",
            "/usr/local/lib/python3.6/dist-packages/qiskit/aqua/operators/weighted_pauli_operator.py:118: DeprecationWarning: The Pauli.numberofqubits method is deprecated as of 0.13.0, and will be removed no earlier than 3 months after that release date. You should use the Pauli.num_qubits method instead.\n",
            "  return self._paulis[0][1].numberofqubits\n",
            "/usr/local/lib/python3.6/dist-packages/qiskit/aqua/operators/common.py:258: DeprecationWarning: The Pauli.numberofqubits method is deprecated as of 0.13.0, and will be removed no earlier than 3 months after that release date. You should use the Pauli.num_qubits method instead.\n",
            "  state_registers = QuantumRegister(pauli_list[0][1].numberofqubits)\n",
            "/usr/local/lib/python3.6/dist-packages/qiskit/aqua/operators/common.py:273: DeprecationWarning: The Pauli.numberofqubits method is deprecated as of 0.13.0, and will be removed no earlier than 3 months after that release date. You should use the Pauli.num_qubits method instead.\n",
            "  n_qubits = pauli[1].numberofqubits\n",
            "/usr/local/lib/python3.6/dist-packages/qiskit/aqua/operators/common.py:258: DeprecationWarning: The Pauli.numberofqubits method is deprecated as of 0.13.0, and will be removed no earlier than 3 months after that release date. You should use the Pauli.num_qubits method instead.\n",
            "  state_registers = QuantumRegister(pauli_list[0][1].numberofqubits)\n",
            "/usr/local/lib/python3.6/dist-packages/qiskit/aqua/operators/common.py:273: DeprecationWarning: The Pauli.numberofqubits method is deprecated as of 0.13.0, and will be removed no earlier than 3 months after that release date. You should use the Pauli.num_qubits method instead.\n",
            "  n_qubits = pauli[1].numberofqubits\n",
            "/usr/local/lib/python3.6/dist-packages/qiskit/aqua/operators/common.py:273: DeprecationWarning: The Pauli.numberofqubits method is deprecated as of 0.13.0, and will be removed no earlier than 3 months after that release date. You should use the Pauli.num_qubits method instead.\n",
            "  n_qubits = pauli[1].numberofqubits\n",
            "/usr/local/lib/python3.6/dist-packages/qiskit/aqua/operators/weighted_pauli_operator.py:118: DeprecationWarning: The Pauli.numberofqubits method is deprecated as of 0.13.0, and will be removed no earlier than 3 months after that release date. You should use the Pauli.num_qubits method instead.\n",
            "  return self._paulis[0][1].numberofqubits\n",
            "/usr/local/lib/python3.6/dist-packages/qiskit/aqua/operators/weighted_pauli_operator.py:118: DeprecationWarning: The Pauli.numberofqubits method is deprecated as of 0.13.0, and will be removed no earlier than 3 months after that release date. You should use the Pauli.num_qubits method instead.\n",
            "  return self._paulis[0][1].numberofqubits\n",
            "/usr/local/lib/python3.6/dist-packages/qiskit/aqua/operators/weighted_pauli_operator.py:118: DeprecationWarning: The Pauli.numberofqubits method is deprecated as of 0.13.0, and will be removed no earlier than 3 months after that release date. You should use the Pauli.num_qubits method instead.\n",
            "  return self._paulis[0][1].numberofqubits\n",
            "/usr/local/lib/python3.6/dist-packages/qiskit/aqua/operators/weighted_pauli_operator.py:118: DeprecationWarning: The Pauli.numberofqubits method is deprecated as of 0.13.0, and will be removed no earlier than 3 months after that release date. You should use the Pauli.num_qubits method instead.\n",
            "  return self._paulis[0][1].numberofqubits\n",
            "/usr/local/lib/python3.6/dist-packages/qiskit/aqua/operators/common.py:258: DeprecationWarning: The Pauli.numberofqubits method is deprecated as of 0.13.0, and will be removed no earlier than 3 months after that release date. You should use the Pauli.num_qubits method instead.\n",
            "  state_registers = QuantumRegister(pauli_list[0][1].numberofqubits)\n",
            "/usr/local/lib/python3.6/dist-packages/qiskit/aqua/operators/common.py:273: DeprecationWarning: The Pauli.numberofqubits method is deprecated as of 0.13.0, and will be removed no earlier than 3 months after that release date. You should use the Pauli.num_qubits method instead.\n",
            "  n_qubits = pauli[1].numberofqubits\n",
            "/usr/local/lib/python3.6/dist-packages/qiskit/aqua/operators/common.py:258: DeprecationWarning: The Pauli.numberofqubits method is deprecated as of 0.13.0, and will be removed no earlier than 3 months after that release date. You should use the Pauli.num_qubits method instead.\n",
            "  state_registers = QuantumRegister(pauli_list[0][1].numberofqubits)\n",
            "/usr/local/lib/python3.6/dist-packages/qiskit/aqua/operators/common.py:273: DeprecationWarning: The Pauli.numberofqubits method is deprecated as of 0.13.0, and will be removed no earlier than 3 months after that release date. You should use the Pauli.num_qubits method instead.\n",
            "  n_qubits = pauli[1].numberofqubits\n",
            "/usr/local/lib/python3.6/dist-packages/qiskit/aqua/operators/common.py:273: DeprecationWarning: The Pauli.numberofqubits method is deprecated as of 0.13.0, and will be removed no earlier than 3 months after that release date. You should use the Pauli.num_qubits method instead.\n",
            "  n_qubits = pauli[1].numberofqubits\n",
            "/usr/local/lib/python3.6/dist-packages/qiskit/aqua/operators/weighted_pauli_operator.py:118: DeprecationWarning: The Pauli.numberofqubits method is deprecated as of 0.13.0, and will be removed no earlier than 3 months after that release date. You should use the Pauli.num_qubits method instead.\n",
            "  return self._paulis[0][1].numberofqubits\n",
            "/usr/local/lib/python3.6/dist-packages/qiskit/aqua/operators/weighted_pauli_operator.py:118: DeprecationWarning: The Pauli.numberofqubits method is deprecated as of 0.13.0, and will be removed no earlier than 3 months after that release date. You should use the Pauli.num_qubits method instead.\n",
            "  return self._paulis[0][1].numberofqubits\n",
            "/usr/local/lib/python3.6/dist-packages/qiskit/aqua/operators/weighted_pauli_operator.py:118: DeprecationWarning: The Pauli.numberofqubits method is deprecated as of 0.13.0, and will be removed no earlier than 3 months after that release date. You should use the Pauli.num_qubits method instead.\n",
            "  return self._paulis[0][1].numberofqubits\n",
            "/usr/local/lib/python3.6/dist-packages/qiskit/aqua/operators/weighted_pauli_operator.py:118: DeprecationWarning: The Pauli.numberofqubits method is deprecated as of 0.13.0, and will be removed no earlier than 3 months after that release date. You should use the Pauli.num_qubits method instead.\n",
            "  return self._paulis[0][1].numberofqubits\n",
            "/usr/local/lib/python3.6/dist-packages/qiskit/aqua/operators/common.py:258: DeprecationWarning: The Pauli.numberofqubits method is deprecated as of 0.13.0, and will be removed no earlier than 3 months after that release date. You should use the Pauli.num_qubits method instead.\n",
            "  state_registers = QuantumRegister(pauli_list[0][1].numberofqubits)\n",
            "/usr/local/lib/python3.6/dist-packages/qiskit/aqua/operators/common.py:273: DeprecationWarning: The Pauli.numberofqubits method is deprecated as of 0.13.0, and will be removed no earlier than 3 months after that release date. You should use the Pauli.num_qubits method instead.\n",
            "  n_qubits = pauli[1].numberofqubits\n",
            "/usr/local/lib/python3.6/dist-packages/qiskit/aqua/operators/common.py:258: DeprecationWarning: The Pauli.numberofqubits method is deprecated as of 0.13.0, and will be removed no earlier than 3 months after that release date. You should use the Pauli.num_qubits method instead.\n",
            "  state_registers = QuantumRegister(pauli_list[0][1].numberofqubits)\n",
            "/usr/local/lib/python3.6/dist-packages/qiskit/aqua/operators/common.py:273: DeprecationWarning: The Pauli.numberofqubits method is deprecated as of 0.13.0, and will be removed no earlier than 3 months after that release date. You should use the Pauli.num_qubits method instead.\n",
            "  n_qubits = pauli[1].numberofqubits\n",
            "/usr/local/lib/python3.6/dist-packages/qiskit/aqua/operators/common.py:273: DeprecationWarning: The Pauli.numberofqubits method is deprecated as of 0.13.0, and will be removed no earlier than 3 months after that release date. You should use the Pauli.num_qubits method instead.\n",
            "  n_qubits = pauli[1].numberofqubits\n",
            "/usr/local/lib/python3.6/dist-packages/qiskit/aqua/operators/weighted_pauli_operator.py:118: DeprecationWarning: The Pauli.numberofqubits method is deprecated as of 0.13.0, and will be removed no earlier than 3 months after that release date. You should use the Pauli.num_qubits method instead.\n",
            "  return self._paulis[0][1].numberofqubits\n",
            "/usr/local/lib/python3.6/dist-packages/qiskit/aqua/operators/weighted_pauli_operator.py:118: DeprecationWarning: The Pauli.numberofqubits method is deprecated as of 0.13.0, and will be removed no earlier than 3 months after that release date. You should use the Pauli.num_qubits method instead.\n",
            "  return self._paulis[0][1].numberofqubits\n",
            "/usr/local/lib/python3.6/dist-packages/qiskit/aqua/operators/weighted_pauli_operator.py:118: DeprecationWarning: The Pauli.numberofqubits method is deprecated as of 0.13.0, and will be removed no earlier than 3 months after that release date. You should use the Pauli.num_qubits method instead.\n",
            "  return self._paulis[0][1].numberofqubits\n",
            "/usr/local/lib/python3.6/dist-packages/qiskit/aqua/operators/weighted_pauli_operator.py:118: DeprecationWarning: The Pauli.numberofqubits method is deprecated as of 0.13.0, and will be removed no earlier than 3 months after that release date. You should use the Pauli.num_qubits method instead.\n",
            "  return self._paulis[0][1].numberofqubits\n",
            "/usr/local/lib/python3.6/dist-packages/qiskit/aqua/operators/common.py:258: DeprecationWarning: The Pauli.numberofqubits method is deprecated as of 0.13.0, and will be removed no earlier than 3 months after that release date. You should use the Pauli.num_qubits method instead.\n",
            "  state_registers = QuantumRegister(pauli_list[0][1].numberofqubits)\n",
            "/usr/local/lib/python3.6/dist-packages/qiskit/aqua/operators/common.py:273: DeprecationWarning: The Pauli.numberofqubits method is deprecated as of 0.13.0, and will be removed no earlier than 3 months after that release date. You should use the Pauli.num_qubits method instead.\n",
            "  n_qubits = pauli[1].numberofqubits\n",
            "/usr/local/lib/python3.6/dist-packages/qiskit/aqua/operators/common.py:258: DeprecationWarning: The Pauli.numberofqubits method is deprecated as of 0.13.0, and will be removed no earlier than 3 months after that release date. You should use the Pauli.num_qubits method instead.\n",
            "  state_registers = QuantumRegister(pauli_list[0][1].numberofqubits)\n",
            "/usr/local/lib/python3.6/dist-packages/qiskit/aqua/operators/common.py:273: DeprecationWarning: The Pauli.numberofqubits method is deprecated as of 0.13.0, and will be removed no earlier than 3 months after that release date. You should use the Pauli.num_qubits method instead.\n",
            "  n_qubits = pauli[1].numberofqubits\n",
            "/usr/local/lib/python3.6/dist-packages/qiskit/aqua/operators/common.py:273: DeprecationWarning: The Pauli.numberofqubits method is deprecated as of 0.13.0, and will be removed no earlier than 3 months after that release date. You should use the Pauli.num_qubits method instead.\n",
            "  n_qubits = pauli[1].numberofqubits\n",
            "/usr/local/lib/python3.6/dist-packages/qiskit/aqua/operators/weighted_pauli_operator.py:118: DeprecationWarning: The Pauli.numberofqubits method is deprecated as of 0.13.0, and will be removed no earlier than 3 months after that release date. You should use the Pauli.num_qubits method instead.\n",
            "  return self._paulis[0][1].numberofqubits\n",
            "/usr/local/lib/python3.6/dist-packages/qiskit/aqua/operators/weighted_pauli_operator.py:118: DeprecationWarning: The Pauli.numberofqubits method is deprecated as of 0.13.0, and will be removed no earlier than 3 months after that release date. You should use the Pauli.num_qubits method instead.\n",
            "  return self._paulis[0][1].numberofqubits\n",
            "/usr/local/lib/python3.6/dist-packages/qiskit/aqua/operators/weighted_pauli_operator.py:118: DeprecationWarning: The Pauli.numberofqubits method is deprecated as of 0.13.0, and will be removed no earlier than 3 months after that release date. You should use the Pauli.num_qubits method instead.\n",
            "  return self._paulis[0][1].numberofqubits\n",
            "/usr/local/lib/python3.6/dist-packages/qiskit/aqua/operators/weighted_pauli_operator.py:118: DeprecationWarning: The Pauli.numberofqubits method is deprecated as of 0.13.0, and will be removed no earlier than 3 months after that release date. You should use the Pauli.num_qubits method instead.\n",
            "  return self._paulis[0][1].numberofqubits\n",
            "/usr/local/lib/python3.6/dist-packages/qiskit/aqua/operators/common.py:258: DeprecationWarning: The Pauli.numberofqubits method is deprecated as of 0.13.0, and will be removed no earlier than 3 months after that release date. You should use the Pauli.num_qubits method instead.\n",
            "  state_registers = QuantumRegister(pauli_list[0][1].numberofqubits)\n",
            "/usr/local/lib/python3.6/dist-packages/qiskit/aqua/operators/common.py:273: DeprecationWarning: The Pauli.numberofqubits method is deprecated as of 0.13.0, and will be removed no earlier than 3 months after that release date. You should use the Pauli.num_qubits method instead.\n",
            "  n_qubits = pauli[1].numberofqubits\n",
            "/usr/local/lib/python3.6/dist-packages/qiskit/aqua/operators/common.py:258: DeprecationWarning: The Pauli.numberofqubits method is deprecated as of 0.13.0, and will be removed no earlier than 3 months after that release date. You should use the Pauli.num_qubits method instead.\n",
            "  state_registers = QuantumRegister(pauli_list[0][1].numberofqubits)\n",
            "/usr/local/lib/python3.6/dist-packages/qiskit/aqua/operators/common.py:273: DeprecationWarning: The Pauli.numberofqubits method is deprecated as of 0.13.0, and will be removed no earlier than 3 months after that release date. You should use the Pauli.num_qubits method instead.\n",
            "  n_qubits = pauli[1].numberofqubits\n",
            "/usr/local/lib/python3.6/dist-packages/qiskit/aqua/operators/common.py:273: DeprecationWarning: The Pauli.numberofqubits method is deprecated as of 0.13.0, and will be removed no earlier than 3 months after that release date. You should use the Pauli.num_qubits method instead.\n",
            "  n_qubits = pauli[1].numberofqubits\n",
            "/usr/local/lib/python3.6/dist-packages/qiskit/aqua/operators/weighted_pauli_operator.py:118: DeprecationWarning: The Pauli.numberofqubits method is deprecated as of 0.13.0, and will be removed no earlier than 3 months after that release date. You should use the Pauli.num_qubits method instead.\n",
            "  return self._paulis[0][1].numberofqubits\n",
            "/usr/local/lib/python3.6/dist-packages/qiskit/aqua/operators/weighted_pauli_operator.py:118: DeprecationWarning: The Pauli.numberofqubits method is deprecated as of 0.13.0, and will be removed no earlier than 3 months after that release date. You should use the Pauli.num_qubits method instead.\n",
            "  return self._paulis[0][1].numberofqubits\n",
            "/usr/local/lib/python3.6/dist-packages/qiskit/aqua/operators/weighted_pauli_operator.py:118: DeprecationWarning: The Pauli.numberofqubits method is deprecated as of 0.13.0, and will be removed no earlier than 3 months after that release date. You should use the Pauli.num_qubits method instead.\n",
            "  return self._paulis[0][1].numberofqubits\n",
            "/usr/local/lib/python3.6/dist-packages/qiskit/aqua/operators/weighted_pauli_operator.py:118: DeprecationWarning: The Pauli.numberofqubits method is deprecated as of 0.13.0, and will be removed no earlier than 3 months after that release date. You should use the Pauli.num_qubits method instead.\n",
            "  return self._paulis[0][1].numberofqubits\n",
            "/usr/local/lib/python3.6/dist-packages/qiskit/aqua/operators/common.py:258: DeprecationWarning: The Pauli.numberofqubits method is deprecated as of 0.13.0, and will be removed no earlier than 3 months after that release date. You should use the Pauli.num_qubits method instead.\n",
            "  state_registers = QuantumRegister(pauli_list[0][1].numberofqubits)\n",
            "/usr/local/lib/python3.6/dist-packages/qiskit/aqua/operators/common.py:273: DeprecationWarning: The Pauli.numberofqubits method is deprecated as of 0.13.0, and will be removed no earlier than 3 months after that release date. You should use the Pauli.num_qubits method instead.\n",
            "  n_qubits = pauli[1].numberofqubits\n",
            "/usr/local/lib/python3.6/dist-packages/qiskit/aqua/operators/common.py:258: DeprecationWarning: The Pauli.numberofqubits method is deprecated as of 0.13.0, and will be removed no earlier than 3 months after that release date. You should use the Pauli.num_qubits method instead.\n",
            "  state_registers = QuantumRegister(pauli_list[0][1].numberofqubits)\n",
            "/usr/local/lib/python3.6/dist-packages/qiskit/aqua/operators/common.py:273: DeprecationWarning: The Pauli.numberofqubits method is deprecated as of 0.13.0, and will be removed no earlier than 3 months after that release date. You should use the Pauli.num_qubits method instead.\n",
            "  n_qubits = pauli[1].numberofqubits\n",
            "/usr/local/lib/python3.6/dist-packages/qiskit/aqua/operators/common.py:273: DeprecationWarning: The Pauli.numberofqubits method is deprecated as of 0.13.0, and will be removed no earlier than 3 months after that release date. You should use the Pauli.num_qubits method instead.\n",
            "  n_qubits = pauli[1].numberofqubits\n",
            "/usr/local/lib/python3.6/dist-packages/qiskit/aqua/operators/weighted_pauli_operator.py:118: DeprecationWarning: The Pauli.numberofqubits method is deprecated as of 0.13.0, and will be removed no earlier than 3 months after that release date. You should use the Pauli.num_qubits method instead.\n",
            "  return self._paulis[0][1].numberofqubits\n",
            "/usr/local/lib/python3.6/dist-packages/qiskit/aqua/operators/weighted_pauli_operator.py:118: DeprecationWarning: The Pauli.numberofqubits method is deprecated as of 0.13.0, and will be removed no earlier than 3 months after that release date. You should use the Pauli.num_qubits method instead.\n",
            "  return self._paulis[0][1].numberofqubits\n",
            "/usr/local/lib/python3.6/dist-packages/qiskit/aqua/operators/weighted_pauli_operator.py:118: DeprecationWarning: The Pauli.numberofqubits method is deprecated as of 0.13.0, and will be removed no earlier than 3 months after that release date. You should use the Pauli.num_qubits method instead.\n",
            "  return self._paulis[0][1].numberofqubits\n",
            "/usr/local/lib/python3.6/dist-packages/qiskit/aqua/operators/weighted_pauli_operator.py:118: DeprecationWarning: The Pauli.numberofqubits method is deprecated as of 0.13.0, and will be removed no earlier than 3 months after that release date. You should use the Pauli.num_qubits method instead.\n",
            "  return self._paulis[0][1].numberofqubits\n",
            "/usr/local/lib/python3.6/dist-packages/qiskit/aqua/operators/common.py:258: DeprecationWarning: The Pauli.numberofqubits method is deprecated as of 0.13.0, and will be removed no earlier than 3 months after that release date. You should use the Pauli.num_qubits method instead.\n",
            "  state_registers = QuantumRegister(pauli_list[0][1].numberofqubits)\n",
            "/usr/local/lib/python3.6/dist-packages/qiskit/aqua/operators/common.py:273: DeprecationWarning: The Pauli.numberofqubits method is deprecated as of 0.13.0, and will be removed no earlier than 3 months after that release date. You should use the Pauli.num_qubits method instead.\n",
            "  n_qubits = pauli[1].numberofqubits\n",
            "/usr/local/lib/python3.6/dist-packages/qiskit/aqua/operators/common.py:258: DeprecationWarning: The Pauli.numberofqubits method is deprecated as of 0.13.0, and will be removed no earlier than 3 months after that release date. You should use the Pauli.num_qubits method instead.\n",
            "  state_registers = QuantumRegister(pauli_list[0][1].numberofqubits)\n",
            "/usr/local/lib/python3.6/dist-packages/qiskit/aqua/operators/common.py:273: DeprecationWarning: The Pauli.numberofqubits method is deprecated as of 0.13.0, and will be removed no earlier than 3 months after that release date. You should use the Pauli.num_qubits method instead.\n",
            "  n_qubits = pauli[1].numberofqubits\n",
            "/usr/local/lib/python3.6/dist-packages/qiskit/aqua/operators/common.py:273: DeprecationWarning: The Pauli.numberofqubits method is deprecated as of 0.13.0, and will be removed no earlier than 3 months after that release date. You should use the Pauli.num_qubits method instead.\n",
            "  n_qubits = pauli[1].numberofqubits\n",
            "/usr/local/lib/python3.6/dist-packages/qiskit/aqua/operators/weighted_pauli_operator.py:118: DeprecationWarning: The Pauli.numberofqubits method is deprecated as of 0.13.0, and will be removed no earlier than 3 months after that release date. You should use the Pauli.num_qubits method instead.\n",
            "  return self._paulis[0][1].numberofqubits\n",
            "/usr/local/lib/python3.6/dist-packages/qiskit/aqua/operators/weighted_pauli_operator.py:118: DeprecationWarning: The Pauli.numberofqubits method is deprecated as of 0.13.0, and will be removed no earlier than 3 months after that release date. You should use the Pauli.num_qubits method instead.\n",
            "  return self._paulis[0][1].numberofqubits\n",
            "/usr/local/lib/python3.6/dist-packages/qiskit/aqua/operators/weighted_pauli_operator.py:118: DeprecationWarning: The Pauli.numberofqubits method is deprecated as of 0.13.0, and will be removed no earlier than 3 months after that release date. You should use the Pauli.num_qubits method instead.\n",
            "  return self._paulis[0][1].numberofqubits\n",
            "/usr/local/lib/python3.6/dist-packages/qiskit/aqua/operators/weighted_pauli_operator.py:118: DeprecationWarning: The Pauli.numberofqubits method is deprecated as of 0.13.0, and will be removed no earlier than 3 months after that release date. You should use the Pauli.num_qubits method instead.\n",
            "  return self._paulis[0][1].numberofqubits\n",
            "/usr/local/lib/python3.6/dist-packages/qiskit/aqua/operators/common.py:258: DeprecationWarning: The Pauli.numberofqubits method is deprecated as of 0.13.0, and will be removed no earlier than 3 months after that release date. You should use the Pauli.num_qubits method instead.\n",
            "  state_registers = QuantumRegister(pauli_list[0][1].numberofqubits)\n",
            "/usr/local/lib/python3.6/dist-packages/qiskit/aqua/operators/common.py:273: DeprecationWarning: The Pauli.numberofqubits method is deprecated as of 0.13.0, and will be removed no earlier than 3 months after that release date. You should use the Pauli.num_qubits method instead.\n",
            "  n_qubits = pauli[1].numberofqubits\n",
            "/usr/local/lib/python3.6/dist-packages/qiskit/aqua/operators/common.py:258: DeprecationWarning: The Pauli.numberofqubits method is deprecated as of 0.13.0, and will be removed no earlier than 3 months after that release date. You should use the Pauli.num_qubits method instead.\n",
            "  state_registers = QuantumRegister(pauli_list[0][1].numberofqubits)\n",
            "/usr/local/lib/python3.6/dist-packages/qiskit/aqua/operators/common.py:273: DeprecationWarning: The Pauli.numberofqubits method is deprecated as of 0.13.0, and will be removed no earlier than 3 months after that release date. You should use the Pauli.num_qubits method instead.\n",
            "  n_qubits = pauli[1].numberofqubits\n",
            "/usr/local/lib/python3.6/dist-packages/qiskit/aqua/operators/common.py:273: DeprecationWarning: The Pauli.numberofqubits method is deprecated as of 0.13.0, and will be removed no earlier than 3 months after that release date. You should use the Pauli.num_qubits method instead.\n",
            "  n_qubits = pauli[1].numberofqubits\n",
            "/usr/local/lib/python3.6/dist-packages/qiskit/aqua/operators/weighted_pauli_operator.py:118: DeprecationWarning: The Pauli.numberofqubits method is deprecated as of 0.13.0, and will be removed no earlier than 3 months after that release date. You should use the Pauli.num_qubits method instead.\n",
            "  return self._paulis[0][1].numberofqubits\n",
            "/usr/local/lib/python3.6/dist-packages/qiskit/aqua/operators/weighted_pauli_operator.py:118: DeprecationWarning: The Pauli.numberofqubits method is deprecated as of 0.13.0, and will be removed no earlier than 3 months after that release date. You should use the Pauli.num_qubits method instead.\n",
            "  return self._paulis[0][1].numberofqubits\n",
            "/usr/local/lib/python3.6/dist-packages/qiskit/aqua/operators/weighted_pauli_operator.py:118: DeprecationWarning: The Pauli.numberofqubits method is deprecated as of 0.13.0, and will be removed no earlier than 3 months after that release date. You should use the Pauli.num_qubits method instead.\n",
            "  return self._paulis[0][1].numberofqubits\n",
            "/usr/local/lib/python3.6/dist-packages/qiskit/aqua/operators/weighted_pauli_operator.py:118: DeprecationWarning: The Pauli.numberofqubits method is deprecated as of 0.13.0, and will be removed no earlier than 3 months after that release date. You should use the Pauli.num_qubits method instead.\n",
            "  return self._paulis[0][1].numberofqubits\n",
            "/usr/local/lib/python3.6/dist-packages/qiskit/aqua/operators/common.py:258: DeprecationWarning: The Pauli.numberofqubits method is deprecated as of 0.13.0, and will be removed no earlier than 3 months after that release date. You should use the Pauli.num_qubits method instead.\n",
            "  state_registers = QuantumRegister(pauli_list[0][1].numberofqubits)\n",
            "/usr/local/lib/python3.6/dist-packages/qiskit/aqua/operators/common.py:273: DeprecationWarning: The Pauli.numberofqubits method is deprecated as of 0.13.0, and will be removed no earlier than 3 months after that release date. You should use the Pauli.num_qubits method instead.\n",
            "  n_qubits = pauli[1].numberofqubits\n",
            "/usr/local/lib/python3.6/dist-packages/qiskit/aqua/operators/common.py:258: DeprecationWarning: The Pauli.numberofqubits method is deprecated as of 0.13.0, and will be removed no earlier than 3 months after that release date. You should use the Pauli.num_qubits method instead.\n",
            "  state_registers = QuantumRegister(pauli_list[0][1].numberofqubits)\n",
            "/usr/local/lib/python3.6/dist-packages/qiskit/aqua/operators/common.py:273: DeprecationWarning: The Pauli.numberofqubits method is deprecated as of 0.13.0, and will be removed no earlier than 3 months after that release date. You should use the Pauli.num_qubits method instead.\n",
            "  n_qubits = pauli[1].numberofqubits\n",
            "/usr/local/lib/python3.6/dist-packages/qiskit/aqua/operators/common.py:273: DeprecationWarning: The Pauli.numberofqubits method is deprecated as of 0.13.0, and will be removed no earlier than 3 months after that release date. You should use the Pauli.num_qubits method instead.\n",
            "  n_qubits = pauli[1].numberofqubits\n",
            "/usr/local/lib/python3.6/dist-packages/qiskit/aqua/operators/weighted_pauli_operator.py:118: DeprecationWarning: The Pauli.numberofqubits method is deprecated as of 0.13.0, and will be removed no earlier than 3 months after that release date. You should use the Pauli.num_qubits method instead.\n",
            "  return self._paulis[0][1].numberofqubits\n",
            "/usr/local/lib/python3.6/dist-packages/qiskit/aqua/operators/weighted_pauli_operator.py:118: DeprecationWarning: The Pauli.numberofqubits method is deprecated as of 0.13.0, and will be removed no earlier than 3 months after that release date. You should use the Pauli.num_qubits method instead.\n",
            "  return self._paulis[0][1].numberofqubits\n",
            "/usr/local/lib/python3.6/dist-packages/qiskit/aqua/operators/weighted_pauli_operator.py:118: DeprecationWarning: The Pauli.numberofqubits method is deprecated as of 0.13.0, and will be removed no earlier than 3 months after that release date. You should use the Pauli.num_qubits method instead.\n",
            "  return self._paulis[0][1].numberofqubits\n",
            "/usr/local/lib/python3.6/dist-packages/qiskit/aqua/operators/weighted_pauli_operator.py:118: DeprecationWarning: The Pauli.numberofqubits method is deprecated as of 0.13.0, and will be removed no earlier than 3 months after that release date. You should use the Pauli.num_qubits method instead.\n",
            "  return self._paulis[0][1].numberofqubits\n",
            "/usr/local/lib/python3.6/dist-packages/qiskit/aqua/operators/common.py:258: DeprecationWarning: The Pauli.numberofqubits method is deprecated as of 0.13.0, and will be removed no earlier than 3 months after that release date. You should use the Pauli.num_qubits method instead.\n",
            "  state_registers = QuantumRegister(pauli_list[0][1].numberofqubits)\n",
            "/usr/local/lib/python3.6/dist-packages/qiskit/aqua/operators/common.py:273: DeprecationWarning: The Pauli.numberofqubits method is deprecated as of 0.13.0, and will be removed no earlier than 3 months after that release date. You should use the Pauli.num_qubits method instead.\n",
            "  n_qubits = pauli[1].numberofqubits\n",
            "/usr/local/lib/python3.6/dist-packages/qiskit/aqua/operators/common.py:258: DeprecationWarning: The Pauli.numberofqubits method is deprecated as of 0.13.0, and will be removed no earlier than 3 months after that release date. You should use the Pauli.num_qubits method instead.\n",
            "  state_registers = QuantumRegister(pauli_list[0][1].numberofqubits)\n",
            "/usr/local/lib/python3.6/dist-packages/qiskit/aqua/operators/common.py:273: DeprecationWarning: The Pauli.numberofqubits method is deprecated as of 0.13.0, and will be removed no earlier than 3 months after that release date. You should use the Pauli.num_qubits method instead.\n",
            "  n_qubits = pauli[1].numberofqubits\n",
            "/usr/local/lib/python3.6/dist-packages/qiskit/aqua/operators/common.py:273: DeprecationWarning: The Pauli.numberofqubits method is deprecated as of 0.13.0, and will be removed no earlier than 3 months after that release date. You should use the Pauli.num_qubits method instead.\n",
            "  n_qubits = pauli[1].numberofqubits\n",
            "/usr/local/lib/python3.6/dist-packages/qiskit/aqua/operators/weighted_pauli_operator.py:118: DeprecationWarning: The Pauli.numberofqubits method is deprecated as of 0.13.0, and will be removed no earlier than 3 months after that release date. You should use the Pauli.num_qubits method instead.\n",
            "  return self._paulis[0][1].numberofqubits\n",
            "/usr/local/lib/python3.6/dist-packages/qiskit/aqua/operators/weighted_pauli_operator.py:118: DeprecationWarning: The Pauli.numberofqubits method is deprecated as of 0.13.0, and will be removed no earlier than 3 months after that release date. You should use the Pauli.num_qubits method instead.\n",
            "  return self._paulis[0][1].numberofqubits\n",
            "/usr/local/lib/python3.6/dist-packages/qiskit/aqua/operators/weighted_pauli_operator.py:118: DeprecationWarning: The Pauli.numberofqubits method is deprecated as of 0.13.0, and will be removed no earlier than 3 months after that release date. You should use the Pauli.num_qubits method instead.\n",
            "  return self._paulis[0][1].numberofqubits\n",
            "/usr/local/lib/python3.6/dist-packages/qiskit/aqua/operators/weighted_pauli_operator.py:118: DeprecationWarning: The Pauli.numberofqubits method is deprecated as of 0.13.0, and will be removed no earlier than 3 months after that release date. You should use the Pauli.num_qubits method instead.\n",
            "  return self._paulis[0][1].numberofqubits\n",
            "/usr/local/lib/python3.6/dist-packages/qiskit/aqua/operators/common.py:258: DeprecationWarning: The Pauli.numberofqubits method is deprecated as of 0.13.0, and will be removed no earlier than 3 months after that release date. You should use the Pauli.num_qubits method instead.\n",
            "  state_registers = QuantumRegister(pauli_list[0][1].numberofqubits)\n",
            "/usr/local/lib/python3.6/dist-packages/qiskit/aqua/operators/common.py:273: DeprecationWarning: The Pauli.numberofqubits method is deprecated as of 0.13.0, and will be removed no earlier than 3 months after that release date. You should use the Pauli.num_qubits method instead.\n",
            "  n_qubits = pauli[1].numberofqubits\n",
            "/usr/local/lib/python3.6/dist-packages/qiskit/aqua/operators/common.py:258: DeprecationWarning: The Pauli.numberofqubits method is deprecated as of 0.13.0, and will be removed no earlier than 3 months after that release date. You should use the Pauli.num_qubits method instead.\n",
            "  state_registers = QuantumRegister(pauli_list[0][1].numberofqubits)\n",
            "/usr/local/lib/python3.6/dist-packages/qiskit/aqua/operators/common.py:273: DeprecationWarning: The Pauli.numberofqubits method is deprecated as of 0.13.0, and will be removed no earlier than 3 months after that release date. You should use the Pauli.num_qubits method instead.\n",
            "  n_qubits = pauli[1].numberofqubits\n",
            "/usr/local/lib/python3.6/dist-packages/qiskit/aqua/operators/common.py:273: DeprecationWarning: The Pauli.numberofqubits method is deprecated as of 0.13.0, and will be removed no earlier than 3 months after that release date. You should use the Pauli.num_qubits method instead.\n",
            "  n_qubits = pauli[1].numberofqubits\n",
            "/usr/local/lib/python3.6/dist-packages/qiskit/aqua/operators/weighted_pauli_operator.py:118: DeprecationWarning: The Pauli.numberofqubits method is deprecated as of 0.13.0, and will be removed no earlier than 3 months after that release date. You should use the Pauli.num_qubits method instead.\n",
            "  return self._paulis[0][1].numberofqubits\n",
            "/usr/local/lib/python3.6/dist-packages/qiskit/aqua/operators/weighted_pauli_operator.py:118: DeprecationWarning: The Pauli.numberofqubits method is deprecated as of 0.13.0, and will be removed no earlier than 3 months after that release date. You should use the Pauli.num_qubits method instead.\n",
            "  return self._paulis[0][1].numberofqubits\n",
            "/usr/local/lib/python3.6/dist-packages/qiskit/aqua/operators/weighted_pauli_operator.py:118: DeprecationWarning: The Pauli.numberofqubits method is deprecated as of 0.13.0, and will be removed no earlier than 3 months after that release date. You should use the Pauli.num_qubits method instead.\n",
            "  return self._paulis[0][1].numberofqubits\n",
            "/usr/local/lib/python3.6/dist-packages/qiskit/aqua/operators/weighted_pauli_operator.py:118: DeprecationWarning: The Pauli.numberofqubits method is deprecated as of 0.13.0, and will be removed no earlier than 3 months after that release date. You should use the Pauli.num_qubits method instead.\n",
            "  return self._paulis[0][1].numberofqubits\n",
            "/usr/local/lib/python3.6/dist-packages/qiskit/aqua/operators/common.py:258: DeprecationWarning: The Pauli.numberofqubits method is deprecated as of 0.13.0, and will be removed no earlier than 3 months after that release date. You should use the Pauli.num_qubits method instead.\n",
            "  state_registers = QuantumRegister(pauli_list[0][1].numberofqubits)\n",
            "/usr/local/lib/python3.6/dist-packages/qiskit/aqua/operators/common.py:273: DeprecationWarning: The Pauli.numberofqubits method is deprecated as of 0.13.0, and will be removed no earlier than 3 months after that release date. You should use the Pauli.num_qubits method instead.\n",
            "  n_qubits = pauli[1].numberofqubits\n",
            "/usr/local/lib/python3.6/dist-packages/qiskit/aqua/operators/common.py:258: DeprecationWarning: The Pauli.numberofqubits method is deprecated as of 0.13.0, and will be removed no earlier than 3 months after that release date. You should use the Pauli.num_qubits method instead.\n",
            "  state_registers = QuantumRegister(pauli_list[0][1].numberofqubits)\n",
            "/usr/local/lib/python3.6/dist-packages/qiskit/aqua/operators/common.py:273: DeprecationWarning: The Pauli.numberofqubits method is deprecated as of 0.13.0, and will be removed no earlier than 3 months after that release date. You should use the Pauli.num_qubits method instead.\n",
            "  n_qubits = pauli[1].numberofqubits\n",
            "/usr/local/lib/python3.6/dist-packages/qiskit/aqua/operators/common.py:273: DeprecationWarning: The Pauli.numberofqubits method is deprecated as of 0.13.0, and will be removed no earlier than 3 months after that release date. You should use the Pauli.num_qubits method instead.\n",
            "  n_qubits = pauli[1].numberofqubits\n",
            "/usr/local/lib/python3.6/dist-packages/qiskit/aqua/operators/weighted_pauli_operator.py:118: DeprecationWarning: The Pauli.numberofqubits method is deprecated as of 0.13.0, and will be removed no earlier than 3 months after that release date. You should use the Pauli.num_qubits method instead.\n",
            "  return self._paulis[0][1].numberofqubits\n",
            "/usr/local/lib/python3.6/dist-packages/qiskit/aqua/operators/weighted_pauli_operator.py:118: DeprecationWarning: The Pauli.numberofqubits method is deprecated as of 0.13.0, and will be removed no earlier than 3 months after that release date. You should use the Pauli.num_qubits method instead.\n",
            "  return self._paulis[0][1].numberofqubits\n",
            "/usr/local/lib/python3.6/dist-packages/qiskit/aqua/operators/weighted_pauli_operator.py:118: DeprecationWarning: The Pauli.numberofqubits method is deprecated as of 0.13.0, and will be removed no earlier than 3 months after that release date. You should use the Pauli.num_qubits method instead.\n",
            "  return self._paulis[0][1].numberofqubits\n",
            "/usr/local/lib/python3.6/dist-packages/qiskit/aqua/operators/weighted_pauli_operator.py:118: DeprecationWarning: The Pauli.numberofqubits method is deprecated as of 0.13.0, and will be removed no earlier than 3 months after that release date. You should use the Pauli.num_qubits method instead.\n",
            "  return self._paulis[0][1].numberofqubits\n",
            "/usr/local/lib/python3.6/dist-packages/qiskit/aqua/operators/common.py:258: DeprecationWarning: The Pauli.numberofqubits method is deprecated as of 0.13.0, and will be removed no earlier than 3 months after that release date. You should use the Pauli.num_qubits method instead.\n",
            "  state_registers = QuantumRegister(pauli_list[0][1].numberofqubits)\n",
            "/usr/local/lib/python3.6/dist-packages/qiskit/aqua/operators/common.py:273: DeprecationWarning: The Pauli.numberofqubits method is deprecated as of 0.13.0, and will be removed no earlier than 3 months after that release date. You should use the Pauli.num_qubits method instead.\n",
            "  n_qubits = pauli[1].numberofqubits\n",
            "/usr/local/lib/python3.6/dist-packages/qiskit/aqua/operators/common.py:258: DeprecationWarning: The Pauli.numberofqubits method is deprecated as of 0.13.0, and will be removed no earlier than 3 months after that release date. You should use the Pauli.num_qubits method instead.\n",
            "  state_registers = QuantumRegister(pauli_list[0][1].numberofqubits)\n",
            "/usr/local/lib/python3.6/dist-packages/qiskit/aqua/operators/common.py:273: DeprecationWarning: The Pauli.numberofqubits method is deprecated as of 0.13.0, and will be removed no earlier than 3 months after that release date. You should use the Pauli.num_qubits method instead.\n",
            "  n_qubits = pauli[1].numberofqubits\n",
            "/usr/local/lib/python3.6/dist-packages/qiskit/aqua/operators/common.py:273: DeprecationWarning: The Pauli.numberofqubits method is deprecated as of 0.13.0, and will be removed no earlier than 3 months after that release date. You should use the Pauli.num_qubits method instead.\n",
            "  n_qubits = pauli[1].numberofqubits\n",
            "/usr/local/lib/python3.6/dist-packages/qiskit/aqua/operators/weighted_pauli_operator.py:118: DeprecationWarning: The Pauli.numberofqubits method is deprecated as of 0.13.0, and will be removed no earlier than 3 months after that release date. You should use the Pauli.num_qubits method instead.\n",
            "  return self._paulis[0][1].numberofqubits\n",
            "/usr/local/lib/python3.6/dist-packages/qiskit/aqua/operators/weighted_pauli_operator.py:118: DeprecationWarning: The Pauli.numberofqubits method is deprecated as of 0.13.0, and will be removed no earlier than 3 months after that release date. You should use the Pauli.num_qubits method instead.\n",
            "  return self._paulis[0][1].numberofqubits\n",
            "/usr/local/lib/python3.6/dist-packages/qiskit/aqua/operators/weighted_pauli_operator.py:118: DeprecationWarning: The Pauli.numberofqubits method is deprecated as of 0.13.0, and will be removed no earlier than 3 months after that release date. You should use the Pauli.num_qubits method instead.\n",
            "  return self._paulis[0][1].numberofqubits\n",
            "/usr/local/lib/python3.6/dist-packages/qiskit/aqua/operators/weighted_pauli_operator.py:118: DeprecationWarning: The Pauli.numberofqubits method is deprecated as of 0.13.0, and will be removed no earlier than 3 months after that release date. You should use the Pauli.num_qubits method instead.\n",
            "  return self._paulis[0][1].numberofqubits\n",
            "/usr/local/lib/python3.6/dist-packages/qiskit/aqua/operators/common.py:258: DeprecationWarning: The Pauli.numberofqubits method is deprecated as of 0.13.0, and will be removed no earlier than 3 months after that release date. You should use the Pauli.num_qubits method instead.\n",
            "  state_registers = QuantumRegister(pauli_list[0][1].numberofqubits)\n",
            "/usr/local/lib/python3.6/dist-packages/qiskit/aqua/operators/common.py:273: DeprecationWarning: The Pauli.numberofqubits method is deprecated as of 0.13.0, and will be removed no earlier than 3 months after that release date. You should use the Pauli.num_qubits method instead.\n",
            "  n_qubits = pauli[1].numberofqubits\n",
            "/usr/local/lib/python3.6/dist-packages/qiskit/aqua/operators/common.py:258: DeprecationWarning: The Pauli.numberofqubits method is deprecated as of 0.13.0, and will be removed no earlier than 3 months after that release date. You should use the Pauli.num_qubits method instead.\n",
            "  state_registers = QuantumRegister(pauli_list[0][1].numberofqubits)\n",
            "/usr/local/lib/python3.6/dist-packages/qiskit/aqua/operators/common.py:273: DeprecationWarning: The Pauli.numberofqubits method is deprecated as of 0.13.0, and will be removed no earlier than 3 months after that release date. You should use the Pauli.num_qubits method instead.\n",
            "  n_qubits = pauli[1].numberofqubits\n",
            "/usr/local/lib/python3.6/dist-packages/qiskit/aqua/operators/common.py:273: DeprecationWarning: The Pauli.numberofqubits method is deprecated as of 0.13.0, and will be removed no earlier than 3 months after that release date. You should use the Pauli.num_qubits method instead.\n",
            "  n_qubits = pauli[1].numberofqubits\n",
            "/usr/local/lib/python3.6/dist-packages/qiskit/aqua/operators/weighted_pauli_operator.py:118: DeprecationWarning: The Pauli.numberofqubits method is deprecated as of 0.13.0, and will be removed no earlier than 3 months after that release date. You should use the Pauli.num_qubits method instead.\n",
            "  return self._paulis[0][1].numberofqubits\n",
            "/usr/local/lib/python3.6/dist-packages/qiskit/aqua/operators/weighted_pauli_operator.py:118: DeprecationWarning: The Pauli.numberofqubits method is deprecated as of 0.13.0, and will be removed no earlier than 3 months after that release date. You should use the Pauli.num_qubits method instead.\n",
            "  return self._paulis[0][1].numberofqubits\n",
            "/usr/local/lib/python3.6/dist-packages/qiskit/aqua/operators/weighted_pauli_operator.py:118: DeprecationWarning: The Pauli.numberofqubits method is deprecated as of 0.13.0, and will be removed no earlier than 3 months after that release date. You should use the Pauli.num_qubits method instead.\n",
            "  return self._paulis[0][1].numberofqubits\n",
            "/usr/local/lib/python3.6/dist-packages/qiskit/aqua/operators/weighted_pauli_operator.py:118: DeprecationWarning: The Pauli.numberofqubits method is deprecated as of 0.13.0, and will be removed no earlier than 3 months after that release date. You should use the Pauli.num_qubits method instead.\n",
            "  return self._paulis[0][1].numberofqubits\n",
            "/usr/local/lib/python3.6/dist-packages/qiskit/aqua/operators/common.py:258: DeprecationWarning: The Pauli.numberofqubits method is deprecated as of 0.13.0, and will be removed no earlier than 3 months after that release date. You should use the Pauli.num_qubits method instead.\n",
            "  state_registers = QuantumRegister(pauli_list[0][1].numberofqubits)\n",
            "/usr/local/lib/python3.6/dist-packages/qiskit/aqua/operators/common.py:273: DeprecationWarning: The Pauli.numberofqubits method is deprecated as of 0.13.0, and will be removed no earlier than 3 months after that release date. You should use the Pauli.num_qubits method instead.\n",
            "  n_qubits = pauli[1].numberofqubits\n",
            "/usr/local/lib/python3.6/dist-packages/qiskit/aqua/operators/common.py:258: DeprecationWarning: The Pauli.numberofqubits method is deprecated as of 0.13.0, and will be removed no earlier than 3 months after that release date. You should use the Pauli.num_qubits method instead.\n",
            "  state_registers = QuantumRegister(pauli_list[0][1].numberofqubits)\n",
            "/usr/local/lib/python3.6/dist-packages/qiskit/aqua/operators/common.py:273: DeprecationWarning: The Pauli.numberofqubits method is deprecated as of 0.13.0, and will be removed no earlier than 3 months after that release date. You should use the Pauli.num_qubits method instead.\n",
            "  n_qubits = pauli[1].numberofqubits\n",
            "/usr/local/lib/python3.6/dist-packages/qiskit/aqua/operators/common.py:273: DeprecationWarning: The Pauli.numberofqubits method is deprecated as of 0.13.0, and will be removed no earlier than 3 months after that release date. You should use the Pauli.num_qubits method instead.\n",
            "  n_qubits = pauli[1].numberofqubits\n",
            "/usr/local/lib/python3.6/dist-packages/qiskit/aqua/operators/weighted_pauli_operator.py:118: DeprecationWarning: The Pauli.numberofqubits method is deprecated as of 0.13.0, and will be removed no earlier than 3 months after that release date. You should use the Pauli.num_qubits method instead.\n",
            "  return self._paulis[0][1].numberofqubits\n",
            "/usr/local/lib/python3.6/dist-packages/qiskit/aqua/operators/weighted_pauli_operator.py:118: DeprecationWarning: The Pauli.numberofqubits method is deprecated as of 0.13.0, and will be removed no earlier than 3 months after that release date. You should use the Pauli.num_qubits method instead.\n",
            "  return self._paulis[0][1].numberofqubits\n",
            "/usr/local/lib/python3.6/dist-packages/qiskit/aqua/operators/weighted_pauli_operator.py:118: DeprecationWarning: The Pauli.numberofqubits method is deprecated as of 0.13.0, and will be removed no earlier than 3 months after that release date. You should use the Pauli.num_qubits method instead.\n",
            "  return self._paulis[0][1].numberofqubits\n",
            "/usr/local/lib/python3.6/dist-packages/qiskit/aqua/operators/weighted_pauli_operator.py:118: DeprecationWarning: The Pauli.numberofqubits method is deprecated as of 0.13.0, and will be removed no earlier than 3 months after that release date. You should use the Pauli.num_qubits method instead.\n",
            "  return self._paulis[0][1].numberofqubits\n",
            "/usr/local/lib/python3.6/dist-packages/qiskit/aqua/operators/common.py:258: DeprecationWarning: The Pauli.numberofqubits method is deprecated as of 0.13.0, and will be removed no earlier than 3 months after that release date. You should use the Pauli.num_qubits method instead.\n",
            "  state_registers = QuantumRegister(pauli_list[0][1].numberofqubits)\n",
            "/usr/local/lib/python3.6/dist-packages/qiskit/aqua/operators/common.py:273: DeprecationWarning: The Pauli.numberofqubits method is deprecated as of 0.13.0, and will be removed no earlier than 3 months after that release date. You should use the Pauli.num_qubits method instead.\n",
            "  n_qubits = pauli[1].numberofqubits\n",
            "/usr/local/lib/python3.6/dist-packages/qiskit/aqua/operators/common.py:258: DeprecationWarning: The Pauli.numberofqubits method is deprecated as of 0.13.0, and will be removed no earlier than 3 months after that release date. You should use the Pauli.num_qubits method instead.\n",
            "  state_registers = QuantumRegister(pauli_list[0][1].numberofqubits)\n",
            "/usr/local/lib/python3.6/dist-packages/qiskit/aqua/operators/common.py:273: DeprecationWarning: The Pauli.numberofqubits method is deprecated as of 0.13.0, and will be removed no earlier than 3 months after that release date. You should use the Pauli.num_qubits method instead.\n",
            "  n_qubits = pauli[1].numberofqubits\n",
            "/usr/local/lib/python3.6/dist-packages/qiskit/aqua/operators/common.py:273: DeprecationWarning: The Pauli.numberofqubits method is deprecated as of 0.13.0, and will be removed no earlier than 3 months after that release date. You should use the Pauli.num_qubits method instead.\n",
            "  n_qubits = pauli[1].numberofqubits\n",
            "/usr/local/lib/python3.6/dist-packages/qiskit/aqua/operators/weighted_pauli_operator.py:118: DeprecationWarning: The Pauli.numberofqubits method is deprecated as of 0.13.0, and will be removed no earlier than 3 months after that release date. You should use the Pauli.num_qubits method instead.\n",
            "  return self._paulis[0][1].numberofqubits\n",
            "/usr/local/lib/python3.6/dist-packages/qiskit/aqua/operators/weighted_pauli_operator.py:118: DeprecationWarning: The Pauli.numberofqubits method is deprecated as of 0.13.0, and will be removed no earlier than 3 months after that release date. You should use the Pauli.num_qubits method instead.\n",
            "  return self._paulis[0][1].numberofqubits\n",
            "/usr/local/lib/python3.6/dist-packages/qiskit/aqua/operators/weighted_pauli_operator.py:118: DeprecationWarning: The Pauli.numberofqubits method is deprecated as of 0.13.0, and will be removed no earlier than 3 months after that release date. You should use the Pauli.num_qubits method instead.\n",
            "  return self._paulis[0][1].numberofqubits\n",
            "/usr/local/lib/python3.6/dist-packages/qiskit/aqua/operators/weighted_pauli_operator.py:118: DeprecationWarning: The Pauli.numberofqubits method is deprecated as of 0.13.0, and will be removed no earlier than 3 months after that release date. You should use the Pauli.num_qubits method instead.\n",
            "  return self._paulis[0][1].numberofqubits\n",
            "/usr/local/lib/python3.6/dist-packages/qiskit/aqua/operators/common.py:258: DeprecationWarning: The Pauli.numberofqubits method is deprecated as of 0.13.0, and will be removed no earlier than 3 months after that release date. You should use the Pauli.num_qubits method instead.\n",
            "  state_registers = QuantumRegister(pauli_list[0][1].numberofqubits)\n",
            "/usr/local/lib/python3.6/dist-packages/qiskit/aqua/operators/common.py:273: DeprecationWarning: The Pauli.numberofqubits method is deprecated as of 0.13.0, and will be removed no earlier than 3 months after that release date. You should use the Pauli.num_qubits method instead.\n",
            "  n_qubits = pauli[1].numberofqubits\n",
            "/usr/local/lib/python3.6/dist-packages/qiskit/aqua/operators/common.py:258: DeprecationWarning: The Pauli.numberofqubits method is deprecated as of 0.13.0, and will be removed no earlier than 3 months after that release date. You should use the Pauli.num_qubits method instead.\n",
            "  state_registers = QuantumRegister(pauli_list[0][1].numberofqubits)\n",
            "/usr/local/lib/python3.6/dist-packages/qiskit/aqua/operators/common.py:273: DeprecationWarning: The Pauli.numberofqubits method is deprecated as of 0.13.0, and will be removed no earlier than 3 months after that release date. You should use the Pauli.num_qubits method instead.\n",
            "  n_qubits = pauli[1].numberofqubits\n",
            "/usr/local/lib/python3.6/dist-packages/qiskit/aqua/operators/common.py:273: DeprecationWarning: The Pauli.numberofqubits method is deprecated as of 0.13.0, and will be removed no earlier than 3 months after that release date. You should use the Pauli.num_qubits method instead.\n",
            "  n_qubits = pauli[1].numberofqubits\n",
            "/usr/local/lib/python3.6/dist-packages/qiskit/aqua/operators/weighted_pauli_operator.py:118: DeprecationWarning: The Pauli.numberofqubits method is deprecated as of 0.13.0, and will be removed no earlier than 3 months after that release date. You should use the Pauli.num_qubits method instead.\n",
            "  return self._paulis[0][1].numberofqubits\n",
            "/usr/local/lib/python3.6/dist-packages/qiskit/aqua/operators/weighted_pauli_operator.py:118: DeprecationWarning: The Pauli.numberofqubits method is deprecated as of 0.13.0, and will be removed no earlier than 3 months after that release date. You should use the Pauli.num_qubits method instead.\n",
            "  return self._paulis[0][1].numberofqubits\n",
            "/usr/local/lib/python3.6/dist-packages/qiskit/aqua/operators/weighted_pauli_operator.py:118: DeprecationWarning: The Pauli.numberofqubits method is deprecated as of 0.13.0, and will be removed no earlier than 3 months after that release date. You should use the Pauli.num_qubits method instead.\n",
            "  return self._paulis[0][1].numberofqubits\n",
            "/usr/local/lib/python3.6/dist-packages/qiskit/aqua/operators/weighted_pauli_operator.py:118: DeprecationWarning: The Pauli.numberofqubits method is deprecated as of 0.13.0, and will be removed no earlier than 3 months after that release date. You should use the Pauli.num_qubits method instead.\n",
            "  return self._paulis[0][1].numberofqubits\n",
            "/usr/local/lib/python3.6/dist-packages/qiskit/aqua/operators/common.py:258: DeprecationWarning: The Pauli.numberofqubits method is deprecated as of 0.13.0, and will be removed no earlier than 3 months after that release date. You should use the Pauli.num_qubits method instead.\n",
            "  state_registers = QuantumRegister(pauli_list[0][1].numberofqubits)\n",
            "/usr/local/lib/python3.6/dist-packages/qiskit/aqua/operators/common.py:273: DeprecationWarning: The Pauli.numberofqubits method is deprecated as of 0.13.0, and will be removed no earlier than 3 months after that release date. You should use the Pauli.num_qubits method instead.\n",
            "  n_qubits = pauli[1].numberofqubits\n",
            "/usr/local/lib/python3.6/dist-packages/qiskit/aqua/operators/common.py:258: DeprecationWarning: The Pauli.numberofqubits method is deprecated as of 0.13.0, and will be removed no earlier than 3 months after that release date. You should use the Pauli.num_qubits method instead.\n",
            "  state_registers = QuantumRegister(pauli_list[0][1].numberofqubits)\n",
            "/usr/local/lib/python3.6/dist-packages/qiskit/aqua/operators/common.py:273: DeprecationWarning: The Pauli.numberofqubits method is deprecated as of 0.13.0, and will be removed no earlier than 3 months after that release date. You should use the Pauli.num_qubits method instead.\n",
            "  n_qubits = pauli[1].numberofqubits\n",
            "/usr/local/lib/python3.6/dist-packages/qiskit/aqua/operators/common.py:273: DeprecationWarning: The Pauli.numberofqubits method is deprecated as of 0.13.0, and will be removed no earlier than 3 months after that release date. You should use the Pauli.num_qubits method instead.\n",
            "  n_qubits = pauli[1].numberofqubits\n",
            "/usr/local/lib/python3.6/dist-packages/qiskit/aqua/operators/weighted_pauli_operator.py:118: DeprecationWarning: The Pauli.numberofqubits method is deprecated as of 0.13.0, and will be removed no earlier than 3 months after that release date. You should use the Pauli.num_qubits method instead.\n",
            "  return self._paulis[0][1].numberofqubits\n",
            "/usr/local/lib/python3.6/dist-packages/qiskit/aqua/operators/weighted_pauli_operator.py:118: DeprecationWarning: The Pauli.numberofqubits method is deprecated as of 0.13.0, and will be removed no earlier than 3 months after that release date. You should use the Pauli.num_qubits method instead.\n",
            "  return self._paulis[0][1].numberofqubits\n",
            "/usr/local/lib/python3.6/dist-packages/qiskit/aqua/operators/weighted_pauli_operator.py:118: DeprecationWarning: The Pauli.numberofqubits method is deprecated as of 0.13.0, and will be removed no earlier than 3 months after that release date. You should use the Pauli.num_qubits method instead.\n",
            "  return self._paulis[0][1].numberofqubits\n",
            "/usr/local/lib/python3.6/dist-packages/qiskit/aqua/operators/weighted_pauli_operator.py:118: DeprecationWarning: The Pauli.numberofqubits method is deprecated as of 0.13.0, and will be removed no earlier than 3 months after that release date. You should use the Pauli.num_qubits method instead.\n",
            "  return self._paulis[0][1].numberofqubits\n",
            "/usr/local/lib/python3.6/dist-packages/qiskit/aqua/operators/common.py:258: DeprecationWarning: The Pauli.numberofqubits method is deprecated as of 0.13.0, and will be removed no earlier than 3 months after that release date. You should use the Pauli.num_qubits method instead.\n",
            "  state_registers = QuantumRegister(pauli_list[0][1].numberofqubits)\n",
            "/usr/local/lib/python3.6/dist-packages/qiskit/aqua/operators/common.py:273: DeprecationWarning: The Pauli.numberofqubits method is deprecated as of 0.13.0, and will be removed no earlier than 3 months after that release date. You should use the Pauli.num_qubits method instead.\n",
            "  n_qubits = pauli[1].numberofqubits\n",
            "/usr/local/lib/python3.6/dist-packages/qiskit/aqua/operators/common.py:258: DeprecationWarning: The Pauli.numberofqubits method is deprecated as of 0.13.0, and will be removed no earlier than 3 months after that release date. You should use the Pauli.num_qubits method instead.\n",
            "  state_registers = QuantumRegister(pauli_list[0][1].numberofqubits)\n",
            "/usr/local/lib/python3.6/dist-packages/qiskit/aqua/operators/common.py:273: DeprecationWarning: The Pauli.numberofqubits method is deprecated as of 0.13.0, and will be removed no earlier than 3 months after that release date. You should use the Pauli.num_qubits method instead.\n",
            "  n_qubits = pauli[1].numberofqubits\n",
            "/usr/local/lib/python3.6/dist-packages/qiskit/aqua/operators/common.py:273: DeprecationWarning: The Pauli.numberofqubits method is deprecated as of 0.13.0, and will be removed no earlier than 3 months after that release date. You should use the Pauli.num_qubits method instead.\n",
            "  n_qubits = pauli[1].numberofqubits\n",
            "/usr/local/lib/python3.6/dist-packages/qiskit/aqua/operators/weighted_pauli_operator.py:118: DeprecationWarning: The Pauli.numberofqubits method is deprecated as of 0.13.0, and will be removed no earlier than 3 months after that release date. You should use the Pauli.num_qubits method instead.\n",
            "  return self._paulis[0][1].numberofqubits\n",
            "/usr/local/lib/python3.6/dist-packages/qiskit/aqua/operators/weighted_pauli_operator.py:118: DeprecationWarning: The Pauli.numberofqubits method is deprecated as of 0.13.0, and will be removed no earlier than 3 months after that release date. You should use the Pauli.num_qubits method instead.\n",
            "  return self._paulis[0][1].numberofqubits\n",
            "/usr/local/lib/python3.6/dist-packages/qiskit/aqua/operators/weighted_pauli_operator.py:118: DeprecationWarning: The Pauli.numberofqubits method is deprecated as of 0.13.0, and will be removed no earlier than 3 months after that release date. You should use the Pauli.num_qubits method instead.\n",
            "  return self._paulis[0][1].numberofqubits\n",
            "/usr/local/lib/python3.6/dist-packages/qiskit/aqua/operators/weighted_pauli_operator.py:118: DeprecationWarning: The Pauli.numberofqubits method is deprecated as of 0.13.0, and will be removed no earlier than 3 months after that release date. You should use the Pauli.num_qubits method instead.\n",
            "  return self._paulis[0][1].numberofqubits\n",
            "/usr/local/lib/python3.6/dist-packages/qiskit/aqua/operators/common.py:258: DeprecationWarning: The Pauli.numberofqubits method is deprecated as of 0.13.0, and will be removed no earlier than 3 months after that release date. You should use the Pauli.num_qubits method instead.\n",
            "  state_registers = QuantumRegister(pauli_list[0][1].numberofqubits)\n",
            "/usr/local/lib/python3.6/dist-packages/qiskit/aqua/operators/common.py:273: DeprecationWarning: The Pauli.numberofqubits method is deprecated as of 0.13.0, and will be removed no earlier than 3 months after that release date. You should use the Pauli.num_qubits method instead.\n",
            "  n_qubits = pauli[1].numberofqubits\n",
            "/usr/local/lib/python3.6/dist-packages/qiskit/aqua/operators/common.py:258: DeprecationWarning: The Pauli.numberofqubits method is deprecated as of 0.13.0, and will be removed no earlier than 3 months after that release date. You should use the Pauli.num_qubits method instead.\n",
            "  state_registers = QuantumRegister(pauli_list[0][1].numberofqubits)\n",
            "/usr/local/lib/python3.6/dist-packages/qiskit/aqua/operators/common.py:273: DeprecationWarning: The Pauli.numberofqubits method is deprecated as of 0.13.0, and will be removed no earlier than 3 months after that release date. You should use the Pauli.num_qubits method instead.\n",
            "  n_qubits = pauli[1].numberofqubits\n",
            "/usr/local/lib/python3.6/dist-packages/qiskit/aqua/operators/common.py:273: DeprecationWarning: The Pauli.numberofqubits method is deprecated as of 0.13.0, and will be removed no earlier than 3 months after that release date. You should use the Pauli.num_qubits method instead.\n",
            "  n_qubits = pauli[1].numberofqubits\n",
            "/usr/local/lib/python3.6/dist-packages/qiskit/aqua/operators/weighted_pauli_operator.py:118: DeprecationWarning: The Pauli.numberofqubits method is deprecated as of 0.13.0, and will be removed no earlier than 3 months after that release date. You should use the Pauli.num_qubits method instead.\n",
            "  return self._paulis[0][1].numberofqubits\n",
            "/usr/local/lib/python3.6/dist-packages/qiskit/aqua/operators/weighted_pauli_operator.py:118: DeprecationWarning: The Pauli.numberofqubits method is deprecated as of 0.13.0, and will be removed no earlier than 3 months after that release date. You should use the Pauli.num_qubits method instead.\n",
            "  return self._paulis[0][1].numberofqubits\n",
            "/usr/local/lib/python3.6/dist-packages/qiskit/aqua/operators/weighted_pauli_operator.py:118: DeprecationWarning: The Pauli.numberofqubits method is deprecated as of 0.13.0, and will be removed no earlier than 3 months after that release date. You should use the Pauli.num_qubits method instead.\n",
            "  return self._paulis[0][1].numberofqubits\n",
            "/usr/local/lib/python3.6/dist-packages/qiskit/aqua/operators/weighted_pauli_operator.py:118: DeprecationWarning: The Pauli.numberofqubits method is deprecated as of 0.13.0, and will be removed no earlier than 3 months after that release date. You should use the Pauli.num_qubits method instead.\n",
            "  return self._paulis[0][1].numberofqubits\n",
            "/usr/local/lib/python3.6/dist-packages/qiskit/aqua/operators/common.py:258: DeprecationWarning: The Pauli.numberofqubits method is deprecated as of 0.13.0, and will be removed no earlier than 3 months after that release date. You should use the Pauli.num_qubits method instead.\n",
            "  state_registers = QuantumRegister(pauli_list[0][1].numberofqubits)\n",
            "/usr/local/lib/python3.6/dist-packages/qiskit/aqua/operators/common.py:273: DeprecationWarning: The Pauli.numberofqubits method is deprecated as of 0.13.0, and will be removed no earlier than 3 months after that release date. You should use the Pauli.num_qubits method instead.\n",
            "  n_qubits = pauli[1].numberofqubits\n",
            "/usr/local/lib/python3.6/dist-packages/qiskit/aqua/operators/common.py:258: DeprecationWarning: The Pauli.numberofqubits method is deprecated as of 0.13.0, and will be removed no earlier than 3 months after that release date. You should use the Pauli.num_qubits method instead.\n",
            "  state_registers = QuantumRegister(pauli_list[0][1].numberofqubits)\n",
            "/usr/local/lib/python3.6/dist-packages/qiskit/aqua/operators/common.py:273: DeprecationWarning: The Pauli.numberofqubits method is deprecated as of 0.13.0, and will be removed no earlier than 3 months after that release date. You should use the Pauli.num_qubits method instead.\n",
            "  n_qubits = pauli[1].numberofqubits\n",
            "/usr/local/lib/python3.6/dist-packages/qiskit/aqua/operators/common.py:273: DeprecationWarning: The Pauli.numberofqubits method is deprecated as of 0.13.0, and will be removed no earlier than 3 months after that release date. You should use the Pauli.num_qubits method instead.\n",
            "  n_qubits = pauli[1].numberofqubits\n",
            "/usr/local/lib/python3.6/dist-packages/qiskit/aqua/operators/weighted_pauli_operator.py:118: DeprecationWarning: The Pauli.numberofqubits method is deprecated as of 0.13.0, and will be removed no earlier than 3 months after that release date. You should use the Pauli.num_qubits method instead.\n",
            "  return self._paulis[0][1].numberofqubits\n",
            "/usr/local/lib/python3.6/dist-packages/qiskit/aqua/operators/weighted_pauli_operator.py:118: DeprecationWarning: The Pauli.numberofqubits method is deprecated as of 0.13.0, and will be removed no earlier than 3 months after that release date. You should use the Pauli.num_qubits method instead.\n",
            "  return self._paulis[0][1].numberofqubits\n",
            "/usr/local/lib/python3.6/dist-packages/qiskit/aqua/operators/weighted_pauli_operator.py:118: DeprecationWarning: The Pauli.numberofqubits method is deprecated as of 0.13.0, and will be removed no earlier than 3 months after that release date. You should use the Pauli.num_qubits method instead.\n",
            "  return self._paulis[0][1].numberofqubits\n",
            "/usr/local/lib/python3.6/dist-packages/qiskit/aqua/operators/weighted_pauli_operator.py:118: DeprecationWarning: The Pauli.numberofqubits method is deprecated as of 0.13.0, and will be removed no earlier than 3 months after that release date. You should use the Pauli.num_qubits method instead.\n",
            "  return self._paulis[0][1].numberofqubits\n",
            "/usr/local/lib/python3.6/dist-packages/qiskit/aqua/operators/common.py:258: DeprecationWarning: The Pauli.numberofqubits method is deprecated as of 0.13.0, and will be removed no earlier than 3 months after that release date. You should use the Pauli.num_qubits method instead.\n",
            "  state_registers = QuantumRegister(pauli_list[0][1].numberofqubits)\n",
            "/usr/local/lib/python3.6/dist-packages/qiskit/aqua/operators/common.py:273: DeprecationWarning: The Pauli.numberofqubits method is deprecated as of 0.13.0, and will be removed no earlier than 3 months after that release date. You should use the Pauli.num_qubits method instead.\n",
            "  n_qubits = pauli[1].numberofqubits\n",
            "/usr/local/lib/python3.6/dist-packages/qiskit/aqua/operators/common.py:258: DeprecationWarning: The Pauli.numberofqubits method is deprecated as of 0.13.0, and will be removed no earlier than 3 months after that release date. You should use the Pauli.num_qubits method instead.\n",
            "  state_registers = QuantumRegister(pauli_list[0][1].numberofqubits)\n",
            "/usr/local/lib/python3.6/dist-packages/qiskit/aqua/operators/common.py:273: DeprecationWarning: The Pauli.numberofqubits method is deprecated as of 0.13.0, and will be removed no earlier than 3 months after that release date. You should use the Pauli.num_qubits method instead.\n",
            "  n_qubits = pauli[1].numberofqubits\n",
            "/usr/local/lib/python3.6/dist-packages/qiskit/aqua/operators/common.py:273: DeprecationWarning: The Pauli.numberofqubits method is deprecated as of 0.13.0, and will be removed no earlier than 3 months after that release date. You should use the Pauli.num_qubits method instead.\n",
            "  n_qubits = pauli[1].numberofqubits\n",
            "/usr/local/lib/python3.6/dist-packages/qiskit/aqua/operators/weighted_pauli_operator.py:118: DeprecationWarning: The Pauli.numberofqubits method is deprecated as of 0.13.0, and will be removed no earlier than 3 months after that release date. You should use the Pauli.num_qubits method instead.\n",
            "  return self._paulis[0][1].numberofqubits\n",
            "/usr/local/lib/python3.6/dist-packages/qiskit/aqua/operators/weighted_pauli_operator.py:118: DeprecationWarning: The Pauli.numberofqubits method is deprecated as of 0.13.0, and will be removed no earlier than 3 months after that release date. You should use the Pauli.num_qubits method instead.\n",
            "  return self._paulis[0][1].numberofqubits\n",
            "/usr/local/lib/python3.6/dist-packages/qiskit/aqua/operators/weighted_pauli_operator.py:118: DeprecationWarning: The Pauli.numberofqubits method is deprecated as of 0.13.0, and will be removed no earlier than 3 months after that release date. You should use the Pauli.num_qubits method instead.\n",
            "  return self._paulis[0][1].numberofqubits\n",
            "/usr/local/lib/python3.6/dist-packages/qiskit/aqua/operators/weighted_pauli_operator.py:118: DeprecationWarning: The Pauli.numberofqubits method is deprecated as of 0.13.0, and will be removed no earlier than 3 months after that release date. You should use the Pauli.num_qubits method instead.\n",
            "  return self._paulis[0][1].numberofqubits\n",
            "/usr/local/lib/python3.6/dist-packages/qiskit/aqua/operators/common.py:258: DeprecationWarning: The Pauli.numberofqubits method is deprecated as of 0.13.0, and will be removed no earlier than 3 months after that release date. You should use the Pauli.num_qubits method instead.\n",
            "  state_registers = QuantumRegister(pauli_list[0][1].numberofqubits)\n",
            "/usr/local/lib/python3.6/dist-packages/qiskit/aqua/operators/common.py:273: DeprecationWarning: The Pauli.numberofqubits method is deprecated as of 0.13.0, and will be removed no earlier than 3 months after that release date. You should use the Pauli.num_qubits method instead.\n",
            "  n_qubits = pauli[1].numberofqubits\n",
            "/usr/local/lib/python3.6/dist-packages/qiskit/aqua/operators/common.py:258: DeprecationWarning: The Pauli.numberofqubits method is deprecated as of 0.13.0, and will be removed no earlier than 3 months after that release date. You should use the Pauli.num_qubits method instead.\n",
            "  state_registers = QuantumRegister(pauli_list[0][1].numberofqubits)\n",
            "/usr/local/lib/python3.6/dist-packages/qiskit/aqua/operators/common.py:273: DeprecationWarning: The Pauli.numberofqubits method is deprecated as of 0.13.0, and will be removed no earlier than 3 months after that release date. You should use the Pauli.num_qubits method instead.\n",
            "  n_qubits = pauli[1].numberofqubits\n",
            "/usr/local/lib/python3.6/dist-packages/qiskit/aqua/operators/common.py:273: DeprecationWarning: The Pauli.numberofqubits method is deprecated as of 0.13.0, and will be removed no earlier than 3 months after that release date. You should use the Pauli.num_qubits method instead.\n",
            "  n_qubits = pauli[1].numberofqubits\n",
            "/usr/local/lib/python3.6/dist-packages/qiskit/aqua/operators/weighted_pauli_operator.py:118: DeprecationWarning: The Pauli.numberofqubits method is deprecated as of 0.13.0, and will be removed no earlier than 3 months after that release date. You should use the Pauli.num_qubits method instead.\n",
            "  return self._paulis[0][1].numberofqubits\n",
            "/usr/local/lib/python3.6/dist-packages/qiskit/aqua/operators/weighted_pauli_operator.py:118: DeprecationWarning: The Pauli.numberofqubits method is deprecated as of 0.13.0, and will be removed no earlier than 3 months after that release date. You should use the Pauli.num_qubits method instead.\n",
            "  return self._paulis[0][1].numberofqubits\n",
            "/usr/local/lib/python3.6/dist-packages/qiskit/aqua/operators/weighted_pauli_operator.py:118: DeprecationWarning: The Pauli.numberofqubits method is deprecated as of 0.13.0, and will be removed no earlier than 3 months after that release date. You should use the Pauli.num_qubits method instead.\n",
            "  return self._paulis[0][1].numberofqubits\n",
            "/usr/local/lib/python3.6/dist-packages/qiskit/aqua/operators/weighted_pauli_operator.py:118: DeprecationWarning: The Pauli.numberofqubits method is deprecated as of 0.13.0, and will be removed no earlier than 3 months after that release date. You should use the Pauli.num_qubits method instead.\n",
            "  return self._paulis[0][1].numberofqubits\n",
            "/usr/local/lib/python3.6/dist-packages/qiskit/aqua/operators/common.py:258: DeprecationWarning: The Pauli.numberofqubits method is deprecated as of 0.13.0, and will be removed no earlier than 3 months after that release date. You should use the Pauli.num_qubits method instead.\n",
            "  state_registers = QuantumRegister(pauli_list[0][1].numberofqubits)\n",
            "/usr/local/lib/python3.6/dist-packages/qiskit/aqua/operators/common.py:273: DeprecationWarning: The Pauli.numberofqubits method is deprecated as of 0.13.0, and will be removed no earlier than 3 months after that release date. You should use the Pauli.num_qubits method instead.\n",
            "  n_qubits = pauli[1].numberofqubits\n",
            "/usr/local/lib/python3.6/dist-packages/qiskit/aqua/operators/common.py:258: DeprecationWarning: The Pauli.numberofqubits method is deprecated as of 0.13.0, and will be removed no earlier than 3 months after that release date. You should use the Pauli.num_qubits method instead.\n",
            "  state_registers = QuantumRegister(pauli_list[0][1].numberofqubits)\n",
            "/usr/local/lib/python3.6/dist-packages/qiskit/aqua/operators/common.py:273: DeprecationWarning: The Pauli.numberofqubits method is deprecated as of 0.13.0, and will be removed no earlier than 3 months after that release date. You should use the Pauli.num_qubits method instead.\n",
            "  n_qubits = pauli[1].numberofqubits\n",
            "/usr/local/lib/python3.6/dist-packages/qiskit/aqua/operators/common.py:273: DeprecationWarning: The Pauli.numberofqubits method is deprecated as of 0.13.0, and will be removed no earlier than 3 months after that release date. You should use the Pauli.num_qubits method instead.\n",
            "  n_qubits = pauli[1].numberofqubits\n",
            "/usr/local/lib/python3.6/dist-packages/qiskit/aqua/operators/weighted_pauli_operator.py:118: DeprecationWarning: The Pauli.numberofqubits method is deprecated as of 0.13.0, and will be removed no earlier than 3 months after that release date. You should use the Pauli.num_qubits method instead.\n",
            "  return self._paulis[0][1].numberofqubits\n",
            "/usr/local/lib/python3.6/dist-packages/qiskit/aqua/operators/weighted_pauli_operator.py:118: DeprecationWarning: The Pauli.numberofqubits method is deprecated as of 0.13.0, and will be removed no earlier than 3 months after that release date. You should use the Pauli.num_qubits method instead.\n",
            "  return self._paulis[0][1].numberofqubits\n",
            "/usr/local/lib/python3.6/dist-packages/qiskit/aqua/operators/weighted_pauli_operator.py:118: DeprecationWarning: The Pauli.numberofqubits method is deprecated as of 0.13.0, and will be removed no earlier than 3 months after that release date. You should use the Pauli.num_qubits method instead.\n",
            "  return self._paulis[0][1].numberofqubits\n",
            "/usr/local/lib/python3.6/dist-packages/qiskit/aqua/operators/weighted_pauli_operator.py:118: DeprecationWarning: The Pauli.numberofqubits method is deprecated as of 0.13.0, and will be removed no earlier than 3 months after that release date. You should use the Pauli.num_qubits method instead.\n",
            "  return self._paulis[0][1].numberofqubits\n"
          ],
          "name": "stderr"
        },
        {
          "output_type": "execute_result",
          "data": {
            "text/plain": [
              "     fun: -0.999999889082849\n",
              "   maxcv: 0.0\n",
              " message: 'Optimization terminated successfully.'\n",
              "    nfev: 36\n",
              "  status: 1\n",
              " success: True\n",
              "       x: array([2.356, 4.32 ])"
            ]
          },
          "metadata": {
            "tags": []
          },
          "execution_count": 18
        }
      ]
    },
    {
      "cell_type": "markdown",
      "metadata": {
        "id": "eLcYQvnaQlEk",
        "colab_type": "text"
      },
      "source": [
        "# Analysis of the results\n",
        "\n",
        "We create a circuit using the optimal parameters found."
      ]
    },
    {
      "cell_type": "code",
      "metadata": {
        "ExecuteTime": {
          "end_time": "2018-11-19T20:08:37.795769Z",
          "start_time": "2018-11-19T20:08:37.701647Z"
        },
        "id": "njOG17hqQlEk",
        "colab_type": "code",
        "outputId": "fa8e0478-2107-4ed9-ed01-6bcd5c9548fe",
        "colab": {
          "base_uri": "https://localhost:8080/",
          "height": 344
        }
      },
      "source": [
        "circuit = create_circuit(result['x'][:p], result['x'][p:])\n",
        "circuit.draw(output='mpl')"
      ],
      "execution_count": 19,
      "outputs": [
        {
          "output_type": "stream",
          "text": [
            "/usr/local/lib/python3.6/dist-packages/qiskit/aqua/operators/common.py:258: DeprecationWarning: The Pauli.numberofqubits method is deprecated as of 0.13.0, and will be removed no earlier than 3 months after that release date. You should use the Pauli.num_qubits method instead.\n",
            "  state_registers = QuantumRegister(pauli_list[0][1].numberofqubits)\n",
            "/usr/local/lib/python3.6/dist-packages/qiskit/aqua/operators/common.py:273: DeprecationWarning: The Pauli.numberofqubits method is deprecated as of 0.13.0, and will be removed no earlier than 3 months after that release date. You should use the Pauli.num_qubits method instead.\n",
            "  n_qubits = pauli[1].numberofqubits\n",
            "/usr/local/lib/python3.6/dist-packages/qiskit/aqua/operators/common.py:258: DeprecationWarning: The Pauli.numberofqubits method is deprecated as of 0.13.0, and will be removed no earlier than 3 months after that release date. You should use the Pauli.num_qubits method instead.\n",
            "  state_registers = QuantumRegister(pauli_list[0][1].numberofqubits)\n",
            "/usr/local/lib/python3.6/dist-packages/qiskit/aqua/operators/common.py:273: DeprecationWarning: The Pauli.numberofqubits method is deprecated as of 0.13.0, and will be removed no earlier than 3 months after that release date. You should use the Pauli.num_qubits method instead.\n",
            "  n_qubits = pauli[1].numberofqubits\n",
            "/usr/local/lib/python3.6/dist-packages/qiskit/aqua/operators/common.py:273: DeprecationWarning: The Pauli.numberofqubits method is deprecated as of 0.13.0, and will be removed no earlier than 3 months after that release date. You should use the Pauli.num_qubits method instead.\n",
            "  n_qubits = pauli[1].numberofqubits\n"
          ],
          "name": "stderr"
        },
        {
          "output_type": "execute_result",
          "data": {
            "image/png": "[encoded data removed]",
            "text/plain": [
              "<Figure size 730.828x144.48 with 1 Axes>"
            ]
          },
          "metadata": {
            "tags": []
          },
          "execution_count": 19
        }
      ]
    },
    {
      "cell_type": "markdown",
      "metadata": {
        "id": "G404U0ymQlEm",
        "colab_type": "text"
      },
      "source": [
        "We use the `statevector_simulator` backend in order to display the state created by the circuit."
      ]
    },
    {
      "cell_type": "code",
      "metadata": {
        "ExecuteTime": {
          "end_time": "2018-11-19T20:08:38.175963Z",
          "start_time": "2018-11-19T20:08:37.797375Z"
        },
        "id": "CsHPzVrXQlEm",
        "colab_type": "code",
        "outputId": "b360c961-f764-4ba6-9a53-4bd5c76e40f2",
        "colab": {
          "base_uri": "https://localhost:8080/",
          "height": 54
        }
      },
      "source": [
        "backend = Aer.get_backend('statevector_simulator')\n",
        "job = execute(circuit, backend)\n",
        "state = np.asarray(job.result().get_statevector(circuit))\n",
        "print(np.absolute(state))\n",
        "print(np.angle(state))"
      ],
      "execution_count": 20,
      "outputs": [
        {
          "output_type": "stream",
          "text": [
            "[0.707 0.    0.    0.707]\n",
            "[ 3.142 -1.805 -1.805  3.142]\n"
          ],
          "name": "stdout"
        }
      ]
    },
    {
      "cell_type": "markdown",
      "metadata": {
        "id": "93nENRFhQlEo",
        "colab_type": "text"
      },
      "source": [
        "We see that the state is approximately $\\frac{1}{\\sqrt{2}} \\left( |00 \\rangle + |11 \\rangle \\right)$. It corresponds to a uniform superposition of the two solutions of the classicial problem: $(\\sigma_1=1$, $\\sigma_2=1)$ and $(\\sigma_1=-1$, $\\sigma_2=-1)$"
      ]
    },
    {
      "cell_type": "markdown",
      "metadata": {
        "id": "to8Y2V5DQlEo",
        "colab_type": "text"
      },
      "source": [
        "We see that both are approximatively equal to zero. It's expected given the state we found above and corresponds a typical quantum behavior where $\\mathbb{E}[\\sigma^Z_1 \\sigma^Z_2] \\neq \\mathbb{E}[\\sigma^Z_1] \\mathbb{E}[\\sigma^Z_2]$"
      ]
    },
    {
      "cell_type": "code",
      "metadata": {
        "id": "4vhK_Oa9WgpR",
        "colab_type": "code",
        "colab": {}
      },
      "source": [
        ""
      ],
      "execution_count": 0,
      "outputs": []
    }
  ]
}