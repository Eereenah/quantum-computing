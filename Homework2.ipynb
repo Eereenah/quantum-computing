{
  "nbformat": 4,
  "nbformat_minor": 0,
  "metadata": {
    "kernelspec": {
      "display_name": "Python 3",
      "language": "python",
      "name": "python3"
    },
    "language_info": {
      "codemirror_mode": {
        "name": "ipython",
        "version": 3
      },
      "file_extension": ".py",
      "mimetype": "text/x-python",
      "name": "python",
      "nbconvert_exporter": "python",
      "pygments_lexer": "ipython3",
      "version": "3.7.6"
    },
    "colab": {
      "name": "Homework2.ipynb",
      "provenance": [],
      "collapsed_sections": [],
      "include_colab_link": true
    }
  },
  "cells": [
    {
      "cell_type": "markdown",
      "metadata": {
        "id": "view-in-github",
        "colab_type": "text"
      },
      "source": [
        "<a href=\"https://colab.research.google.com/github/Eereenah/quantum-computing/blob/master/Homework2.ipynb\" target=\"_parent\"><img src=\"https://colab.research.google.com/assets/colab-badge.svg\" alt=\"Open In Colab\"/></a>"
      ]
    },
    {
      "cell_type": "code",
      "metadata": {
        "id": "unOwM8jLpKYs",
        "colab_type": "code",
        "colab": {}
      },
      "source": [
        "! pip install qiskit"
      ],
      "execution_count": 0,
      "outputs": []
    },
    {
      "cell_type": "code",
      "metadata": {
        "id": "5bSt1JszDjaP",
        "colab_type": "code",
        "colab": {}
      },
      "source": [
        "from qiskit import *\n",
        "from qiskit.tools.visualization import plot_histogram\n",
        "import numpy as np"
      ],
      "execution_count": 0,
      "outputs": []
    },
    {
      "cell_type": "markdown",
      "metadata": {
        "id": "i-9JKYc_DjaU",
        "colab_type": "text"
      },
      "source": [
        "Using the NOT gate (expressed as x in Qiskit), the CNOT gate (expressed as cx in Qiskit) and the Toffoli gate (expressed as ccx in Qiskit) create functions to implement the XOR, AND, NAND, OR and FANOUT gates.\n",
        "\n",
        "An implementation of the NOT gate is provided as an example."
      ]
    },
    {
      "cell_type": "markdown",
      "metadata": {
        "id": "pdMeVqQdDjaV",
        "colab_type": "text"
      },
      "source": [
        "## NOT gate \n",
        "This function takes a binary string input ('0' or '1') and returns the opposite binary output'."
      ]
    },
    {
      "cell_type": "code",
      "metadata": {
        "id": "wBpKpV2gDjaW",
        "colab_type": "code",
        "colab": {}
      },
      "source": [
        "def NOT(input):\n",
        "\n",
        "    q = QuantumRegister(1) # a qubit in which to encode and manipulate the input\n",
        "    c = ClassicalRegister(1) # a bit to store the output\n",
        "    qc = QuantumCircuit(q, c) # this is where the quantum program goes\n",
        "    \n",
        "    # We encode '0' as the qubit state |0⟩, and '1' as |1⟩\n",
        "    # Since the qubit is initially |0⟩, we don't need to do anything for an input of '0'\n",
        "    # For an input of '1', we do an x to rotate the |0⟩ to |1⟩\n",
        "    if input=='1':\n",
        "        qc.x( q[0] )\n",
        "        \n",
        "    # Now we've encoded the input, we can do a NOT on it using x\n",
        "    qc.x( q[0] )\n",
        "    \n",
        "    # Finally, we extract the |0⟩/|1⟩ output of the qubit and encode it in the bit c[0]\n",
        "    qc.measure( q[0], c[0] )\n",
        "    \n",
        "    # We'll run the program on a simulator\n",
        "    backend = Aer.get_backend('qasm_simulator')\n",
        "    # Since the output will be deterministic, we can use just a single shot to get it\n",
        "    job = execute(qc,backend,shots=1)\n",
        "    output = next(iter(job.result().get_counts()))\n",
        "    \n",
        "    return output"
      ],
      "execution_count": 0,
      "outputs": []
    },
    {
      "cell_type": "markdown",
      "metadata": {
        "id": "N2Xy78n0DjaY",
        "colab_type": "text"
      },
      "source": [
        "## XOR gate \n",
        "Takes two binary strings as input and gives one as output.\n",
        "\n",
        "The output is '0' when the inputs are equal and '1' otherwise."
      ]
    },
    {
      "cell_type": "code",
      "metadata": {
        "id": "FXhk1NVqDjaZ",
        "colab_type": "code",
        "colab": {}
      },
      "source": [
        "def XOR(input1, input2):\n",
        "    \n",
        "    q = QuantumRegister(2) # two qubits in which to encode and manipulate the input\n",
        "    c = ClassicalRegister(1) # a bit to store the output\n",
        "    qc = QuantumCircuit(q, c) # this is where the quantum program goes\n",
        "    \n",
        "    # YOUR QUANTUM PROGRAM GOES HERE\n",
        "    # XOR is basically CNOT\n",
        "    # therefore for that purpose encode bit 1 in qubit 1\n",
        "    # the same operation will be performed for all subsequent gates as well\n",
        "    # i.e., if the input bit is 1, flip the 0 qubit to 1 using X gate\n",
        "\n",
        "    if input1 == '1':\n",
        "      qc.x(q[0])\n",
        "    if input2 == '1':\n",
        "      qc.x(q[1])\n",
        "\n",
        "    # now apply CNOT and measure the target qubit on the register\n",
        "    qc.cx(q[0], q[1])\n",
        "    qc.measure(q[1], c[0])\n",
        "    \n",
        "    # We'll run the program on a simulator\n",
        "    backend = Aer.get_backend('qasm_simulator')\n",
        "    # Since the output will be deterministic, we can use just a single shot to get it\n",
        "    job = execute(qc,backend,shots=1,memory=True)\n",
        "    output = job.result().get_memory()[0]\n",
        "    \n",
        "    return output"
      ],
      "execution_count": 0,
      "outputs": []
    },
    {
      "cell_type": "markdown",
      "metadata": {
        "id": "Y2g8hZRqDjac",
        "colab_type": "text"
      },
      "source": [
        "## AND gate \n",
        "Takes two binary strings as input and gives one as output.\n",
        "\n",
        "The output is '1' only when both the inputs are '1'."
      ]
    },
    {
      "cell_type": "markdown",
      "metadata": {
        "id": "eGOUc1hJyH-k",
        "colab_type": "text"
      },
      "source": [
        "The AND gate has the following form:\n",
        "$$\\begin{array}{|c|c|c|c|c|c|c|}\n",
        " \\hline\n",
        " \\text{Input} & \\text{AND} \\\\\\\\\n",
        " \\hline\n",
        " \\begin{array}{cc}0 & 0\\end{array} & 0  \\\\\n",
        " \\hline\n",
        " \\begin{array}{cc}0 & 1\\end{array} & 0  \\\\\n",
        " \\hline\n",
        " \\begin{array}{cc}1 & 0\\end{array} & 0 \\\\\n",
        " \\hline\n",
        " \\begin{array}{cc}1 & 1\\end{array} & 1\\\\\n",
        " \\hline\n",
        "\\end{array}$$ \n",
        "\n",
        "In order for the operation to be reversible (the number of inputs and outputs is not the same), add the third helper bit. The mapping must stay the same for all of the inputs except the last two, which should be swapped, i.e., 110 should be mapped to 111 (and 111 to 110). This can be achieved by applying the Toffoli gate and measuring the third qubit:"
      ]
    },
    {
      "cell_type": "code",
      "metadata": {
        "id": "prUdLaDcDjad",
        "colab_type": "code",
        "colab": {}
      },
      "source": [
        "def AND(input1,input2):\n",
        "    \n",
        "    q = QuantumRegister(3) # two qubits in which to encode the input, and one for the output\n",
        "    c = ClassicalRegister(1) # a bit to store the output\n",
        "    qc = QuantumCircuit(q, c) # this is where the quantum program goes\n",
        "    \n",
        "    # YOUR QUANTUM PROGRAM GOES HERE\n",
        "    if input1 == '1':\n",
        "      qc.x(q[0])\n",
        "    if input2 == '1':\n",
        "      qc.x(q[1])    \n",
        "    \n",
        "    qc.ccx(q[0], q[1], q[2]) #Toffoli \n",
        "    qc.measure(q[2], c[0])   #measure the 3rd qubit\n",
        "\n",
        "    # We'll run the program on a simulator\n",
        "    backend = Aer.get_backend('qasm_simulator')\n",
        "    # Since the output will be deterministic, we can use just a single shot to get it\n",
        "    job = execute(qc, backend,shots=1,memory=True)\n",
        "    output = job.result().get_memory()[0]\n",
        "    \n",
        "    return output"
      ],
      "execution_count": 0,
      "outputs": []
    },
    {
      "cell_type": "markdown",
      "metadata": {
        "id": "iz5AY0g8Djaf",
        "colab_type": "text"
      },
      "source": [
        "## NAND gate \n",
        "Takes two binary strings as input and gives one as output.\n",
        "\n",
        "The output is '0' only when both the inputs are '1'."
      ]
    },
    {
      "cell_type": "code",
      "metadata": {
        "id": "9uPKZGzUDjag",
        "colab_type": "code",
        "colab": {}
      },
      "source": [
        "def NAND(input1,input2):\n",
        "  \n",
        "    q = QuantumRegister(3) # two qubits in which to encode the input, and one for the output\n",
        "    c = ClassicalRegister(1) # a bit to store the output\n",
        "    qc = QuantumCircuit(q, c) # this is where the quantum program goes\n",
        "    \n",
        "    # YOUR QUANTUM PROGRAM GOES HERE\n",
        "    if input1 == '1':\n",
        "      qc.x(q[0])\n",
        "    if input2 == '1':\n",
        "      qc.x(q[1])    \n",
        "\n",
        "    # next do AND and NOT\n",
        "    qc.ccx(q[0], q[1], q[2]) #Toffoli \n",
        "    qc.x(q[2]) #NOT\n",
        "    qc.measure(q[2], c[0])\n",
        "        \n",
        "    # We'll run the program on a simulator\n",
        "    backend = Aer.get_backend('qasm_simulator')\n",
        "    # Since the output will be deterministic, we can use just a single shot to get it\n",
        "    job = execute(qc,backend,shots=1,memory=True)\n",
        "    output = job.result().get_memory()[0]\n",
        "    \n",
        "    return output"
      ],
      "execution_count": 0,
      "outputs": []
    },
    {
      "cell_type": "markdown",
      "metadata": {
        "id": "YFGJcFblDjaj",
        "colab_type": "text"
      },
      "source": [
        "## OR gate \n",
        "Takes two binary strings as input and gives one as output.\n",
        "\n",
        "The output is '1' if either input is '1'."
      ]
    },
    {
      "cell_type": "code",
      "metadata": {
        "id": "soLOxTsnDjak",
        "colab_type": "code",
        "colab": {}
      },
      "source": [
        "def OR(input1, input2):\n",
        "  \n",
        "    q = QuantumRegister(3) # two qubits in which to encode the input, and one for the output\n",
        "    c = ClassicalRegister(1) # a bit to store the output\n",
        "    qc = QuantumCircuit(q, c) # this is where the quantum program goes\n",
        "    \n",
        "    # YOUR QUANTUM PROGRAM GOES HERE\n",
        "    if input1 == '1':\n",
        "      qc.x(q[0])\n",
        "    if input2 == '1':\n",
        "      qc.x(q[1])   \n",
        "\n",
        "    # flip the inputs and then do NAND\n",
        "    qc.x(q[0])\n",
        "    qc.x(q[1])\n",
        "    qc.ccx(q[0], q[1], q[2])\n",
        "    qc.x(q[2])\n",
        "    \n",
        "    qc.measure(q[2], c[0]) # output from qubit 1 is measured\n",
        "    \n",
        "    # We'll run the program on a simulator\n",
        "    backend = Aer.get_backend('qasm_simulator')\n",
        "    # Since the output will be deterministic, we can use just a single shot to get it\n",
        "    job = execute(qc,backend,shots=1,memory=True)\n",
        "    output = job.result().get_memory()[0]\n",
        "    \n",
        "    return output"
      ],
      "execution_count": 0,
      "outputs": []
    },
    {
      "cell_type": "markdown",
      "metadata": {
        "id": "2hKv8b4jDjam",
        "colab_type": "text"
      },
      "source": [
        "## FANOUT gate\n",
        "\n",
        "Takes one binary string as input and gives two copies as output."
      ]
    },
    {
      "cell_type": "code",
      "metadata": {
        "id": "5x-YipfkDjan",
        "colab_type": "code",
        "colab": {}
      },
      "source": [
        "def FANOUT(input):\n",
        "  \n",
        "    q = QuantumRegister(3) # two qubits in which to encode the input, and one for the output\n",
        "    c = ClassicalRegister(2) # a bit to store the output\n",
        "    qc = QuantumCircuit(q, c) # this is where the quantum program goes\n",
        "    \n",
        "    # YOUR QUANTUM PROGRAM GOES HERE\n",
        "    if input == '1':\n",
        "      qc.x(q[0])\n",
        "\n",
        "    qc.x(q[1])\n",
        "    qc.ccx(q[0], q[1], q[2])\n",
        "    qc.measure(q[0], c[0])\n",
        "    qc.measure(q[2], c[1])\n",
        "\n",
        "    # We'll run the program on a simulator\n",
        "    backend = Aer.get_backend('qasm_simulator')\n",
        "    # Since the output will be deterministic, we can use just a single shot to get it\n",
        "    job = execute(qc,backend,shots=1,memory=True)\n",
        "    output = job.result().get_memory()[0]\n",
        "    \n",
        "    return output"
      ],
      "execution_count": 0,
      "outputs": []
    },
    {
      "cell_type": "markdown",
      "metadata": {
        "id": "R-ziqFDsDjap",
        "colab_type": "text"
      },
      "source": [
        "## Tests \n",
        "The following code runs the functions above for all possible inputs, so that you can check whether they work."
      ]
    },
    {
      "cell_type": "code",
      "metadata": {
        "id": "y4IIaxfJDjaq",
        "colab_type": "code",
        "outputId": "62a1a69b-d986-4ff3-e602-4e9fd38577eb",
        "colab": {
          "base_uri": "https://localhost:8080/",
          "height": 605
        }
      },
      "source": [
        "print('\\nResults for the NOT gate')\n",
        "for input in ['0','1']:\n",
        "    print('    Input',input,'gives output',NOT(input))\n",
        "    \n",
        "print('\\nResults for the XOR gate')\n",
        "for input1 in ['0','1']:\n",
        "    for input2 in ['0','1']:\n",
        "        print('    Inputs',input1,input2,'give output',XOR(input1,input2))\n",
        "\n",
        "print('\\nResults for the AND gate')\n",
        "for input1 in ['0','1']:\n",
        "    for input2 in ['0','1']:\n",
        "        print('    Inputs',input1,input2,'give output',AND(input1,input2))\n",
        "\n",
        "print('\\nResults for the NAND gate')\n",
        "for input1 in ['0','1']:\n",
        "    for input2 in ['0','1']:\n",
        "        print('    Inputs',input1,input2,'give output',NAND(input1,input2))\n",
        "\n",
        "print('\\nResults for the OR gate')\n",
        "for input1 in ['0','1']:\n",
        "    for input2 in ['0','1']:\n",
        "        print('    Inputs',input1,input2,'give output',OR(input1,input2))\n",
        "\n",
        "print('\\nResults for the FANOUT gate')\n",
        "for input in ['0','1']:\n",
        "    print('    Inputs',input,'gives output',FANOUT(input))"
      ],
      "execution_count": 9,
      "outputs": [
        {
          "output_type": "stream",
          "text": [
            "\n",
            "Results for the NOT gate\n",
            "    Input 0 gives output 1\n",
            "    Input 1 gives output 0\n",
            "\n",
            "Results for the XOR gate\n",
            "    Inputs 0 0 give output 0\n",
            "    Inputs 0 1 give output 1\n",
            "    Inputs 1 0 give output 1\n",
            "    Inputs 1 1 give output 0\n",
            "\n",
            "Results for the AND gate\n",
            "    Inputs 0 0 give output 0\n",
            "    Inputs 0 1 give output 0\n",
            "    Inputs 1 0 give output 0\n",
            "    Inputs 1 1 give output 1\n",
            "\n",
            "Results for the NAND gate\n",
            "    Inputs 0 0 give output 1\n",
            "    Inputs 0 1 give output 1\n",
            "    Inputs 1 0 give output 1\n",
            "    Inputs 1 1 give output 0\n",
            "\n",
            "Results for the OR gate\n",
            "    Inputs 0 0 give output 0\n",
            "    Inputs 0 1 give output 1\n",
            "    Inputs 1 0 give output 1\n",
            "    Inputs 1 1 give output 1\n",
            "\n",
            "Results for the FANOUT gate\n",
            "    Inputs 0 gives output 00\n",
            "    Inputs 1 gives output 11\n"
          ],
          "name": "stdout"
        }
      ]
    },
    {
      "cell_type": "code",
      "metadata": {
        "id": "Amiwuhy5Djaw",
        "colab_type": "code",
        "outputId": "7dd45ad1-b278-40ee-d209-92fd7a74ba11",
        "colab": {
          "base_uri": "https://localhost:8080/",
          "height": 127
        }
      },
      "source": [
        "import qiskit\n",
        "qiskit.__qiskit_version__"
      ],
      "execution_count": 10,
      "outputs": [
        {
          "output_type": "execute_result",
          "data": {
            "text/plain": [
              "{'qiskit': '0.16.1',\n",
              " 'qiskit-aer': '0.4.1',\n",
              " 'qiskit-aqua': '0.6.4',\n",
              " 'qiskit-ibmq-provider': '0.5.0',\n",
              " 'qiskit-ignis': '0.2.0',\n",
              " 'qiskit-terra': '0.12.0'}"
            ]
          },
          "metadata": {
            "tags": []
          },
          "execution_count": 10
        }
      ]
    },
    {
      "cell_type": "code",
      "metadata": {
        "id": "AFtsb-PaaaXX",
        "colab_type": "code",
        "colab": {}
      },
      "source": [
        ""
      ],
      "execution_count": 0,
      "outputs": []
    }
  ]
}